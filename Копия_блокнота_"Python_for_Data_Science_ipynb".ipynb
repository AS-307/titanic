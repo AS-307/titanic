{
  "nbformat": 4,
  "nbformat_minor": 0,
  "metadata": {
    "colab": {
      "provenance": [],
      "include_colab_link": true
    },
    "kernelspec": {
      "name": "python3",
      "display_name": "Python 3"
    }
  },
  "cells": [
    {
      "cell_type": "markdown",
      "metadata": {
        "id": "view-in-github",
        "colab_type": "text"
      },
      "source": [
        "<a href=\"https://colab.research.google.com/github/AS-307/titanic/blob/master/%D0%9A%D0%BE%D0%BF%D0%B8%D1%8F_%D0%B1%D0%BB%D0%BE%D0%BA%D0%BD%D0%BE%D1%82%D0%B0_%22Python_for_Data_Science_ipynb%22.ipynb\" target=\"_parent\"><img src=\"https://colab.research.google.com/assets/colab-badge.svg\" alt=\"Open In Colab\"/></a>"
      ]
    },
    {
      "cell_type": "code",
      "metadata": {
        "id": "D8oGjzmPv1uA"
      },
      "source": [
        "\n"
      ],
      "execution_count": null,
      "outputs": []
    },
    {
      "cell_type": "code",
      "metadata": {
        "id": "NavkOpVDjd-u"
      },
      "source": [],
      "execution_count": null,
      "outputs": []
    },
    {
      "cell_type": "code",
      "metadata": {
        "id": "xlWo7avYbCki",
        "colab": {
          "base_uri": "https://localhost:8080/"
        },
        "outputId": "94aaf7c8-56ed-4012-f95f-d6fb42cd1813"
      },
      "source": [
        "list(range(8))"
      ],
      "execution_count": null,
      "outputs": [
        {
          "output_type": "execute_result",
          "data": {
            "text/plain": [
              "[0, 1, 2, 3, 4, 5, 6, 7]"
            ]
          },
          "metadata": {},
          "execution_count": 22
        }
      ]
    },
    {
      "cell_type": "markdown",
      "metadata": {
        "id": "7FPBAw87HBeT"
      },
      "source": [
        "#PYTHON FOR DATA SCIENCE"
      ]
    },
    {
      "cell_type": "code",
      "metadata": {
        "id": "U6CgMLGIGhFV",
        "cellView": "form",
        "colab": {
          "base_uri": "https://localhost:8080/",
          "height": 499
        },
        "outputId": "f01167a4-aa87-4add-b737-110c571f567b"
      },
      "source": [
        "#@title Data Science:\n",
        "%%html\n",
        "<figure>\n",
        "<center>\n",
        "<img src='https://i.imgur.com/TcuCeak.png' height=450 width=500/>\n",
        "<figcaption></figcaption></center>\n",
        "</figure>"
      ],
      "execution_count": null,
      "outputs": [
        {
          "output_type": "display_data",
          "data": {
            "text/html": [
              "<figure>\n",
              "<center>\n",
              "<img src='https://i.imgur.com/TcuCeak.png' height=450 width=500/>\n",
              "<figcaption></figcaption></center>\n",
              "</figure>"
            ],
            "text/plain": [
              "<IPython.core.display.HTML object>"
            ]
          },
          "metadata": {
            "tags": []
          }
        }
      ]
    },
    {
      "cell_type": "code",
      "metadata": {
        "id": "lqQG42tpWWcK",
        "cellView": "form",
        "colab": {
          "base_uri": "https://localhost:8080/",
          "height": 399
        },
        "outputId": "1915599f-4333-4cf4-8dcf-cd18fe4c9a97"
      },
      "source": [
        "#@title But this lecture is \n",
        "%%html\n",
        "<figure>\n",
        "<center>\n",
        "<img src='https://i.imgur.com/KRR6EEI.jpg' height=350 width=400/>\n",
        "<figcaption></figcaption></center>\n",
        "</figure>"
      ],
      "execution_count": null,
      "outputs": [
        {
          "output_type": "display_data",
          "data": {
            "text/html": [
              "<figure>\n",
              "<center>\n",
              "<img src='https://i.imgur.com/KRR6EEI.jpg' height=350 width=400/>\n",
              "<figcaption></figcaption></center>\n",
              "</figure>"
            ],
            "text/plain": [
              "<IPython.core.display.HTML object>"
            ]
          },
          "metadata": {
            "tags": []
          }
        }
      ]
    },
    {
      "cell_type": "markdown",
      "metadata": {
        "id": "i_fKbXvGY705"
      },
      "source": [
        "# So why Python?"
      ]
    },
    {
      "cell_type": "code",
      "metadata": {
        "id": "YRe3g_I6XsSE",
        "cellView": "form",
        "colab": {
          "base_uri": "https://localhost:8080/",
          "height": 449
        },
        "outputId": "50ae405e-0e4f-42d8-ae98-0fc42b7d4140"
      },
      "source": [
        "#@title Java vs. Python\n",
        "%%html\n",
        "<figure>\n",
        "<center>\n",
        "<img src='https://i.redd.it/ry69u7oa1rsy.png' height=400 width=1000/>\n",
        "<figcaption></figcaption></center>\n",
        "</figure>"
      ],
      "execution_count": null,
      "outputs": [
        {
          "output_type": "display_data",
          "data": {
            "text/html": [
              "<figure>\n",
              "<center>\n",
              "<img src='https://i.redd.it/ry69u7oa1rsy.png' height=400 width=1000/>\n",
              "<figcaption></figcaption></center>\n",
              "</figure>"
            ],
            "text/plain": [
              "<IPython.core.display.HTML object>"
            ]
          },
          "metadata": {
            "tags": []
          }
        }
      ]
    },
    {
      "cell_type": "markdown",
      "metadata": {
        "id": "k0WSeKooZfUP"
      },
      "source": [
        "# The data science pipeline"
      ]
    },
    {
      "cell_type": "markdown",
      "metadata": {
        "id": "InalkPRQaDux"
      },
      "source": [
        "\n",
        "\n",
        "1.   Get or collect data\n",
        "2.   Manipulate and process data\n",
        "3.   Modeling and analysis\n",
        "4.   Visualize, evaluate, present, and communicate\n",
        "\n"
      ]
    },
    {
      "cell_type": "markdown",
      "metadata": {
        "id": "ZgOoRYHkaZN1"
      },
      "source": [
        "## Python's ABCs"
      ]
    },
    {
      "cell_type": "code",
      "metadata": {
        "id": "xdxrPbyiYs6K",
        "colab": {
          "base_uri": "https://localhost:8080/"
        },
        "outputId": "a8643937-9cb3-47b5-cbe2-b6e7d53ad951"
      },
      "source": [
        "print(\"This is Python!\")"
      ],
      "execution_count": null,
      "outputs": [
        {
          "output_type": "stream",
          "name": "stdout",
          "text": [
            "This is Python!\n"
          ]
        }
      ]
    },
    {
      "cell_type": "markdown",
      "metadata": {
        "id": "Yu6hiIlOamDG"
      },
      "source": [
        "### Functions"
      ]
    },
    {
      "cell_type": "code",
      "metadata": {
        "id": "2I6jd8aYak3I",
        "colab": {
          "base_uri": "https://localhost:8080/",
          "height": 35
        },
        "outputId": "d61198c0-48e6-403a-9120-c0c90f24491c"
      },
      "source": [
        "def repeatNtimes(string, n):\n",
        "  return string * n\n",
        "\n",
        "repeatNtimes(\"Spongebob\", 5)"
      ],
      "execution_count": null,
      "outputs": [
        {
          "output_type": "execute_result",
          "data": {
            "application/vnd.google.colaboratory.intrinsic+json": {
              "type": "string"
            },
            "text/plain": [
              "'SpongebobSpongebobSpongebobSpongebobSpongebob'"
            ]
          },
          "metadata": {},
          "execution_count": 12
        }
      ]
    },
    {
      "cell_type": "code",
      "metadata": {
        "id": "A7iZyPdg6kU7",
        "colab": {
          "base_uri": "https://localhost:8080/"
        },
        "outputId": "db1540c7-4a02-4b4c-bbaf-a95501dd0f61"
      },
      "source": [
        "repeatNtimes(5, 5)"
      ],
      "execution_count": null,
      "outputs": [
        {
          "output_type": "execute_result",
          "data": {
            "text/plain": [
              "25"
            ]
          },
          "metadata": {},
          "execution_count": 13
        }
      ]
    },
    {
      "cell_type": "code",
      "metadata": {
        "colab": {
          "base_uri": "https://localhost:8080/"
        },
        "id": "P4IOYXwb_jMs",
        "outputId": "d5f13fe9-7901-4377-e9a0-d95c1328b832"
      },
      "source": [
        "repeatNtimes([1, 2], 5)"
      ],
      "execution_count": null,
      "outputs": [
        {
          "output_type": "execute_result",
          "data": {
            "text/plain": [
              "[1, 2, 1, 2, 1, 2, 1, 2, 1, 2]"
            ]
          },
          "metadata": {},
          "execution_count": 14
        }
      ]
    },
    {
      "cell_type": "code",
      "metadata": {
        "colab": {
          "base_uri": "https://localhost:8080/"
        },
        "id": "572OX4QviRJ7",
        "outputId": "4d036f9c-b08b-442f-b0f3-c3fc28c87e93"
      },
      "source": [
        "repeatNtimes2"
      ],
      "execution_count": null,
      "outputs": [
        {
          "output_type": "execute_result",
          "data": {
            "text/plain": [
              "<function __main__.<lambda>>"
            ]
          },
          "metadata": {},
          "execution_count": 16
        }
      ]
    },
    {
      "cell_type": "code",
      "metadata": {
        "id": "gw_s5Wek4g-Z",
        "colab": {
          "base_uri": "https://localhost:8080/",
          "height": 35
        },
        "outputId": "d7ab739f-0016-4df7-fe85-6841f1fa4dd1"
      },
      "source": [
        "repeatNtimes2 = lambda string, n: string * n\n",
        "repeatNtimes2('Squarepants', 5)"
      ],
      "execution_count": null,
      "outputs": [
        {
          "output_type": "execute_result",
          "data": {
            "application/vnd.google.colaboratory.intrinsic+json": {
              "type": "string"
            },
            "text/plain": [
              "'SquarepantsSquarepantsSquarepantsSquarepantsSquarepants'"
            ]
          },
          "metadata": {},
          "execution_count": 15
        }
      ]
    },
    {
      "cell_type": "markdown",
      "metadata": {
        "id": "-iMssIVRa6hC"
      },
      "source": [
        "### Loops"
      ]
    },
    {
      "cell_type": "code",
      "metadata": {
        "id": "w4fMXyhMa7s8",
        "colab": {
          "base_uri": "https://localhost:8080/"
        },
        "outputId": "a88b515d-21c3-44ca-8dc3-1b5e1316a381"
      },
      "source": [
        "list_sentence = [\"This\", \"is\", \"awesome\"]\n",
        "for idx in range(len(list_sentence)):\n",
        "  word = list_sentence[idx]\n",
        "  print(word + \"!\")\n",
        "\n",
        "print('---\\n')\n",
        "\n",
        "for idx, word in enumerate(list_sentence):\n",
        "  print(idx, word + '***')\n",
        "\n",
        "print('---\\n')\n",
        "\n",
        "for word in list_sentence:\n",
        "  print(word)"
      ],
      "execution_count": null,
      "outputs": [
        {
          "output_type": "stream",
          "name": "stdout",
          "text": [
            "This!\n",
            "is!\n",
            "awesome!\n",
            "---\n",
            "\n",
            "0 This***\n",
            "1 is***\n",
            "2 awesome***\n",
            "---\n",
            "\n",
            "This\n",
            "is\n",
            "awesome\n"
          ]
        }
      ]
    },
    {
      "cell_type": "markdown",
      "metadata": {
        "id": "UnKeIAx3a2vE"
      },
      "source": [
        "### List comprehension"
      ]
    },
    {
      "cell_type": "code",
      "metadata": {
        "id": "HGIVmCEoazVW"
      },
      "source": [
        "list_sentence = [\"This\", \"is\", \"awesome\", \"and\", \"amazing\"]\n",
        "list2 = [x + '!' for x in list_sentence if x.startswith(\"a\")]"
      ],
      "execution_count": null,
      "outputs": []
    },
    {
      "cell_type": "code",
      "metadata": {
        "id": "DTvO6-euRtj_",
        "colab": {
          "base_uri": "https://localhost:8080/"
        },
        "outputId": "c4ee1136-e474-4cd7-950f-ee1d2555335d"
      },
      "source": [
        "list2"
      ],
      "execution_count": null,
      "outputs": [
        {
          "output_type": "execute_result",
          "data": {
            "text/plain": [
              "['awesome!', 'and!', 'amazing!']"
            ]
          },
          "metadata": {},
          "execution_count": 7
        }
      ]
    },
    {
      "cell_type": "markdown",
      "metadata": {
        "id": "Le_0MyEW2bNy"
      },
      "source": [
        "##### This is the equivalent of:"
      ]
    },
    {
      "cell_type": "code",
      "metadata": {
        "id": "9zi1ebUo2eq6",
        "colab": {
          "base_uri": "https://localhost:8080/"
        },
        "outputId": "9a3198d4-6363-40c7-d706-8cb997aad65f"
      },
      "source": [
        "list_sentence = [\"This\", \"is\", \"awesome\", \"and\", \"amazing\"]\n",
        "list2 = []\n",
        "for x in list_sentence:\n",
        "  if x.startswith(\"a\"):\n",
        "    list2.append(x)\n",
        "list2"
      ],
      "execution_count": null,
      "outputs": [
        {
          "output_type": "execute_result",
          "data": {
            "text/plain": [
              "['awesome', 'and', 'amazing']"
            ]
          },
          "metadata": {},
          "execution_count": 8
        }
      ]
    },
    {
      "cell_type": "code",
      "metadata": {
        "id": "YCVqB9G1Q57v"
      },
      "source": [
        "x = 'string'"
      ],
      "execution_count": null,
      "outputs": []
    },
    {
      "cell_type": "code",
      "metadata": {
        "id": "l-xrgq3yQ9R0",
        "colab": {
          "base_uri": "https://localhost:8080/",
          "height": 35
        },
        "outputId": "b57b4f96-c174-4f44-ae41-84fd0b77ed04"
      },
      "source": [
        "'string'\n",
        "\"string\"\n",
        "\n",
        "'str\"ing'\n",
        "\"str'ing\""
      ],
      "execution_count": null,
      "outputs": [
        {
          "output_type": "execute_result",
          "data": {
            "application/vnd.google.colaboratory.intrinsic+json": {
              "type": "string"
            },
            "text/plain": [
              "\"str'ing\""
            ]
          },
          "metadata": {},
          "execution_count": 10
        }
      ]
    },
    {
      "cell_type": "code",
      "metadata": {
        "id": "qLX2sv6dk9Ep"
      },
      "source": [
        "\n",
        "d = {'a': 0, 'b': 1, 'c': 2, 'd':3}"
      ],
      "execution_count": null,
      "outputs": []
    },
    {
      "cell_type": "code",
      "metadata": {
        "id": "S1RXgG9Wk-Sy"
      },
      "source": [
        "[item for item in d.items() if item[1] % 2 == 1]"
      ],
      "execution_count": null,
      "outputs": []
    },
    {
      "cell_type": "code",
      "metadata": {
        "id": "tA4BK9OSz5U0",
        "colab": {
          "base_uri": "https://localhost:8080/"
        },
        "outputId": "c76dc500-2be2-4e14-dcab-442a5716eaff"
      },
      "source": [
        "\n",
        "[(key, value) for key, value in d.items() if value % 2 == 1]"
      ],
      "execution_count": null,
      "outputs": [
        {
          "output_type": "execute_result",
          "data": {
            "text/plain": [
              "[('b', 1), ('d', 3)]"
            ]
          },
          "metadata": {},
          "execution_count": 11
        }
      ]
    },
    {
      "cell_type": "code",
      "metadata": {
        "id": "Rae5ld-zl18Q"
      },
      "source": [
        "result = []\n",
        "for string in ['Data', 'Science']:\n",
        "  inner_list = []\n",
        "  for character in string:\n",
        "    if character!='a':\n",
        "      inner_list.append(character+\"!\")\n",
        "  result.append(inner_list)"
      ],
      "execution_count": null,
      "outputs": []
    },
    {
      "cell_type": "code",
      "metadata": {
        "id": "m9hJ2JOf0ah5",
        "colab": {
          "base_uri": "https://localhost:8080/"
        },
        "outputId": "84b7c671-7e0d-42ac-8984-d7798e74855a"
      },
      "source": [
        "[[letter + '!' for letter in string if letter != 'a'] for string in ['Data', 'Science']]"
      ],
      "execution_count": null,
      "outputs": [
        {
          "output_type": "execute_result",
          "data": {
            "text/plain": [
              "[['D!', 't!'], ['S!', 'c!', 'i!', 'e!', 'n!', 'c!', 'e!']]"
            ]
          },
          "metadata": {},
          "execution_count": 12
        }
      ]
    },
    {
      "cell_type": "code",
      "metadata": {
        "id": "XfmeZAXFSh7X",
        "colab": {
          "base_uri": "https://localhost:8080/"
        },
        "outputId": "5b221138-1a3f-4dad-af2d-63a8eeae2021"
      },
      "source": [
        "print(list2)\n",
        "[[letter + '!' if letter == 'a' else letter + '?' for letter in string ] for string in ['Data', 'Science']]"
      ],
      "execution_count": null,
      "outputs": [
        {
          "output_type": "stream",
          "name": "stdout",
          "text": [
            "['awesome', 'and', 'amazing']\n"
          ]
        },
        {
          "output_type": "execute_result",
          "data": {
            "text/plain": [
              "[['D?', 'a!', 't?', 'a!'], ['S?', 'c?', 'i?', 'e?', 'n?', 'c?', 'e?']]"
            ]
          },
          "metadata": {},
          "execution_count": 13
        }
      ]
    },
    {
      "cell_type": "markdown",
      "metadata": {
        "id": "JU7DQLnsdkQ7"
      },
      "source": [
        "# The Python ecosystem"
      ]
    },
    {
      "cell_type": "code",
      "metadata": {
        "id": "vKsJmeJ3fH1P",
        "cellView": "form",
        "colab": {
          "base_uri": "https://localhost:8080/",
          "height": 299
        },
        "outputId": "3489d390-d03e-4ff5-8ae6-c1c0996bb175"
      },
      "source": [
        "#@title .\n",
        "%%html\n",
        "<figure>\n",
        "<center>\n",
        "<img src='https://i.imgur.com/x6edHHj.png' width=400 height=250/>\n",
        "<figcaption></figcaption></center>\n",
        "</figure>"
      ],
      "execution_count": null,
      "outputs": [
        {
          "output_type": "display_data",
          "data": {
            "text/html": [
              "<figure>\n",
              "<center>\n",
              "<img src='https://i.imgur.com/x6edHHj.png' width=400 height=250/>\n",
              "<figcaption></figcaption></center>\n",
              "</figure>"
            ],
            "text/plain": [
              "<IPython.core.display.HTML object>"
            ]
          },
          "metadata": {}
        }
      ]
    },
    {
      "cell_type": "code",
      "metadata": {
        "id": "oYZc927XcHL7",
        "cellView": "form",
        "colab": {
          "base_uri": "https://localhost:8080/",
          "height": 449
        },
        "outputId": "80a9f1c8-b9fc-4f00-923f-867af687adae"
      },
      "source": [
        "#@title .\n",
        "%%html\n",
        "<figure>\n",
        "<center>\n",
        "<img src='http://chris35wills.github.io/courses/pydata_stack.png' height=400 width=800/>\n",
        "<figcaption></figcaption></center>\n",
        "</figure>"
      ],
      "execution_count": null,
      "outputs": [
        {
          "output_type": "display_data",
          "data": {
            "text/html": [
              "<figure>\n",
              "<center>\n",
              "<img src='http://chris35wills.github.io/courses/pydata_stack.png' height=400 width=800/>\n",
              "<figcaption></figcaption></center>\n",
              "</figure>"
            ],
            "text/plain": [
              "<IPython.core.display.HTML object>"
            ]
          },
          "metadata": {}
        }
      ]
    },
    {
      "cell_type": "markdown",
      "metadata": {
        "id": "jb402K3F23RQ"
      },
      "source": [
        "\n",
        "* **Numpy**: N-dimensional arrays, Matrices and Linear Algebra\n",
        "* **Scipy**: Algorithms from linear algebra, optimization, statistics and signal processing\n",
        "* **Pandas**: Data Manipulation and Analysis\n",
        "* **Matplotlib**: Data Visualization\n",
        "* **IPython**: Interactive shell for Python\n",
        "* **Scikit-learn**: Machine Learning\n",
        "\n"
      ]
    },
    {
      "cell_type": "markdown",
      "metadata": {
        "id": "hKrk3NsiqtDE"
      },
      "source": [
        "# Anaconda\n",
        "\n",
        "* A bundle of data science, machine learning and visualization libraries. \n",
        "\n",
        "* Contains every library you'd need in this course.\n",
        "\n",
        "* Easiest way to avoid inter-dependency issues. \n",
        "\n",
        "## Installation\n",
        "\n",
        "1. Go to: https://www.anaconda.com/distribution/\n",
        "\n",
        "2. Download the installer for your OS and Python version of choice and follow instructions\n",
        "\n",
        "3. ???? \n",
        "\n",
        "4. PROFIT!!\n",
        "\n",
        "# Jupyter Notebook\n",
        "\n",
        "* A browser-based notebook with support for code, text, mathematical expressions, inline plots and other rich media\n",
        "\n",
        "* This presentation is a Jupyter notebook. \n",
        "\n",
        "# Colab\n",
        "\n",
        "* Colaboratory is a free Jupyter notebook environment that requires no setup and runs entirely in the cloud.\n",
        "\n",
        "* With Colaboratory you can write and execute code, save and share your analyses, and access powerful computing resources, all for free from your browser.\n",
        "\n",
        "* This presentation is a Jupyter notebook, on Colab!"
      ]
    },
    {
      "cell_type": "markdown",
      "metadata": {
        "id": "bCnNj78hzKC-"
      },
      "source": [
        "# Pandas"
      ]
    },
    {
      "cell_type": "markdown",
      "metadata": {
        "id": "CFEpHGkdz3gs"
      },
      "source": [
        "* Pandas is a library for data manipulation and analysis\n",
        "\n",
        "* Data structures: Series and DataFrame (tabular data)\n",
        "\n",
        "* Data is loaded in-memory, hence super fast (but not ideal for datasets of scale > memory size)"
      ]
    },
    {
      "cell_type": "code",
      "metadata": {
        "id": "h-200A41ffPy",
        "cellView": "form",
        "colab": {
          "base_uri": "https://localhost:8080/",
          "height": 349
        },
        "outputId": "8f038ba0-276b-4d0f-ab99-1012bdf175b8"
      },
      "source": [
        "#@title .\n",
        "%%html\n",
        "<figure>\n",
        "<center>\n",
        "<img src='https://i.imgur.com/JnxMvrq.png' width=300 height=300/>\n",
        "<figcaption></figcaption></center>\n",
        "</figure>"
      ],
      "execution_count": null,
      "outputs": [
        {
          "output_type": "display_data",
          "data": {
            "text/html": [
              "<figure>\n",
              "<center>\n",
              "<img src='https://i.imgur.com/JnxMvrq.png' width=300 height=300/>\n",
              "<figcaption></figcaption></center>\n",
              "</figure>"
            ],
            "text/plain": [
              "<IPython.core.display.HTML object>"
            ]
          },
          "metadata": {}
        }
      ]
    },
    {
      "cell_type": "code",
      "metadata": {
        "id": "OXfluQjOzd9_"
      },
      "source": [
        "import pandas as pd"
      ],
      "execution_count": null,
      "outputs": []
    },
    {
      "cell_type": "markdown",
      "metadata": {
        "id": "oVditg-mnUAj"
      },
      "source": []
    },
    {
      "cell_type": "markdown",
      "metadata": {
        "id": "j33m3T4r_mna"
      },
      "source": [
        "# Read file"
      ]
    },
    {
      "cell_type": "code",
      "metadata": {
        "id": "eO0voBpHTl6C"
      },
      "source": [
        "ted_main = pd.read_csv('https://raw.githubusercontent.com/cpethe/TED_Talks/master/ted_main.csv')"
      ],
      "execution_count": null,
      "outputs": []
    },
    {
      "cell_type": "code",
      "metadata": {
        "id": "-UjcnxJrVEuf"
      },
      "source": [
        "transcripts = pd.read_csv('https://raw.githubusercontent.com/cpethe/TED_Talks/master/transcripts.csv')"
      ],
      "execution_count": null,
      "outputs": []
    },
    {
      "cell_type": "markdown",
      "metadata": {
        "id": "mSpgd0t-_sxs"
      },
      "source": [
        "## What does the data look like?"
      ]
    },
    {
      "cell_type": "code",
      "metadata": {
        "id": "4ZXOTSoMnfLd",
        "colab": {
          "base_uri": "https://localhost:8080/",
          "height": 593
        },
        "outputId": "b261608d-cd97-4d8f-879d-a5fc29862442"
      },
      "source": [
        "\n",
        "ted_main.head()"
      ],
      "execution_count": null,
      "outputs": [
        {
          "output_type": "execute_result",
          "data": {
            "text/html": [
              "<div>\n",
              "<style scoped>\n",
              "    .dataframe tbody tr th:only-of-type {\n",
              "        vertical-align: middle;\n",
              "    }\n",
              "\n",
              "    .dataframe tbody tr th {\n",
              "        vertical-align: top;\n",
              "    }\n",
              "\n",
              "    .dataframe thead th {\n",
              "        text-align: right;\n",
              "    }\n",
              "</style>\n",
              "<table border=\"1\" class=\"dataframe\">\n",
              "  <thead>\n",
              "    <tr style=\"text-align: right;\">\n",
              "      <th></th>\n",
              "      <th>comments</th>\n",
              "      <th>description</th>\n",
              "      <th>duration</th>\n",
              "      <th>event</th>\n",
              "      <th>film_date</th>\n",
              "      <th>languages</th>\n",
              "      <th>main_speaker</th>\n",
              "      <th>name</th>\n",
              "      <th>num_speaker</th>\n",
              "      <th>published_date</th>\n",
              "      <th>ratings</th>\n",
              "      <th>related_talks</th>\n",
              "      <th>speaker_occupation</th>\n",
              "      <th>tags</th>\n",
              "      <th>title</th>\n",
              "      <th>url</th>\n",
              "      <th>views</th>\n",
              "    </tr>\n",
              "  </thead>\n",
              "  <tbody>\n",
              "    <tr>\n",
              "      <th>0</th>\n",
              "      <td>4553</td>\n",
              "      <td>Sir Ken Robinson makes an entertaining and pro...</td>\n",
              "      <td>1164</td>\n",
              "      <td>TED2006</td>\n",
              "      <td>1140825600</td>\n",
              "      <td>60</td>\n",
              "      <td>Ken Robinson</td>\n",
              "      <td>Ken Robinson: Do schools kill creativity?</td>\n",
              "      <td>1</td>\n",
              "      <td>1151367060</td>\n",
              "      <td>[{'id': 7, 'name': 'Funny', 'count': 19645}, {...</td>\n",
              "      <td>[{'id': 865, 'hero': 'https://pe.tedcdn.com/im...</td>\n",
              "      <td>Author/educator</td>\n",
              "      <td>['children', 'creativity', 'culture', 'dance',...</td>\n",
              "      <td>Do schools kill creativity?</td>\n",
              "      <td>https://www.ted.com/talks/ken_robinson_says_sc...</td>\n",
              "      <td>47227110</td>\n",
              "    </tr>\n",
              "    <tr>\n",
              "      <th>1</th>\n",
              "      <td>265</td>\n",
              "      <td>With the same humor and humanity he exuded in ...</td>\n",
              "      <td>977</td>\n",
              "      <td>TED2006</td>\n",
              "      <td>1140825600</td>\n",
              "      <td>43</td>\n",
              "      <td>Al Gore</td>\n",
              "      <td>Al Gore: Averting the climate crisis</td>\n",
              "      <td>1</td>\n",
              "      <td>1151367060</td>\n",
              "      <td>[{'id': 7, 'name': 'Funny', 'count': 544}, {'i...</td>\n",
              "      <td>[{'id': 243, 'hero': 'https://pe.tedcdn.com/im...</td>\n",
              "      <td>Climate advocate</td>\n",
              "      <td>['alternative energy', 'cars', 'climate change...</td>\n",
              "      <td>Averting the climate crisis</td>\n",
              "      <td>https://www.ted.com/talks/al_gore_on_averting_...</td>\n",
              "      <td>3200520</td>\n",
              "    </tr>\n",
              "    <tr>\n",
              "      <th>2</th>\n",
              "      <td>124</td>\n",
              "      <td>New York Times columnist David Pogue takes aim...</td>\n",
              "      <td>1286</td>\n",
              "      <td>TED2006</td>\n",
              "      <td>1140739200</td>\n",
              "      <td>26</td>\n",
              "      <td>David Pogue</td>\n",
              "      <td>David Pogue: Simplicity sells</td>\n",
              "      <td>1</td>\n",
              "      <td>1151367060</td>\n",
              "      <td>[{'id': 7, 'name': 'Funny', 'count': 964}, {'i...</td>\n",
              "      <td>[{'id': 1725, 'hero': 'https://pe.tedcdn.com/i...</td>\n",
              "      <td>Technology columnist</td>\n",
              "      <td>['computers', 'entertainment', 'interface desi...</td>\n",
              "      <td>Simplicity sells</td>\n",
              "      <td>https://www.ted.com/talks/david_pogue_says_sim...</td>\n",
              "      <td>1636292</td>\n",
              "    </tr>\n",
              "    <tr>\n",
              "      <th>3</th>\n",
              "      <td>200</td>\n",
              "      <td>In an emotionally charged talk, MacArthur-winn...</td>\n",
              "      <td>1116</td>\n",
              "      <td>TED2006</td>\n",
              "      <td>1140912000</td>\n",
              "      <td>35</td>\n",
              "      <td>Majora Carter</td>\n",
              "      <td>Majora Carter: Greening the ghetto</td>\n",
              "      <td>1</td>\n",
              "      <td>1151367060</td>\n",
              "      <td>[{'id': 3, 'name': 'Courageous', 'count': 760}...</td>\n",
              "      <td>[{'id': 1041, 'hero': 'https://pe.tedcdn.com/i...</td>\n",
              "      <td>Activist for environmental justice</td>\n",
              "      <td>['MacArthur grant', 'activism', 'business', 'c...</td>\n",
              "      <td>Greening the ghetto</td>\n",
              "      <td>https://www.ted.com/talks/majora_carter_s_tale...</td>\n",
              "      <td>1697550</td>\n",
              "    </tr>\n",
              "    <tr>\n",
              "      <th>4</th>\n",
              "      <td>593</td>\n",
              "      <td>You've never seen data presented like this. Wi...</td>\n",
              "      <td>1190</td>\n",
              "      <td>TED2006</td>\n",
              "      <td>1140566400</td>\n",
              "      <td>48</td>\n",
              "      <td>Hans Rosling</td>\n",
              "      <td>Hans Rosling: The best stats you've ever seen</td>\n",
              "      <td>1</td>\n",
              "      <td>1151440680</td>\n",
              "      <td>[{'id': 9, 'name': 'Ingenious', 'count': 3202}...</td>\n",
              "      <td>[{'id': 2056, 'hero': 'https://pe.tedcdn.com/i...</td>\n",
              "      <td>Global health expert; data visionary</td>\n",
              "      <td>['Africa', 'Asia', 'Google', 'demo', 'economic...</td>\n",
              "      <td>The best stats you've ever seen</td>\n",
              "      <td>https://www.ted.com/talks/hans_rosling_shows_t...</td>\n",
              "      <td>12005869</td>\n",
              "    </tr>\n",
              "  </tbody>\n",
              "</table>\n",
              "</div>"
            ],
            "text/plain": [
              "   comments  ...     views\n",
              "0      4553  ...  47227110\n",
              "1       265  ...   3200520\n",
              "2       124  ...   1636292\n",
              "3       200  ...   1697550\n",
              "4       593  ...  12005869\n",
              "\n",
              "[5 rows x 17 columns]"
            ]
          },
          "metadata": {},
          "execution_count": 4
        }
      ]
    },
    {
      "cell_type": "code",
      "metadata": {
        "id": "bSqRf5vnA3Lf",
        "colab": {
          "base_uri": "https://localhost:8080/"
        },
        "outputId": "a473cead-1012-4d47-bfe1-2c241080342b"
      },
      "source": [
        "# Print the number of rows and columns in the data\n",
        "\n",
        "ted_main.shape"
      ],
      "execution_count": null,
      "outputs": [
        {
          "output_type": "execute_result",
          "data": {
            "text/plain": [
              "(2550, 17)"
            ]
          },
          "metadata": {},
          "execution_count": 5
        }
      ]
    },
    {
      "cell_type": "code",
      "metadata": {
        "id": "wK9VzLW0_sTV",
        "colab": {
          "base_uri": "https://localhost:8080/",
          "height": 282
        },
        "outputId": "5dd174a8-55a2-41bc-ad65-e54ca1b9af35"
      },
      "source": [
        "# Peek at the first two rows\n",
        "\n",
        "ted_main.head(2)"
      ],
      "execution_count": null,
      "outputs": [
        {
          "output_type": "execute_result",
          "data": {
            "text/html": [
              "<div>\n",
              "<style scoped>\n",
              "    .dataframe tbody tr th:only-of-type {\n",
              "        vertical-align: middle;\n",
              "    }\n",
              "\n",
              "    .dataframe tbody tr th {\n",
              "        vertical-align: top;\n",
              "    }\n",
              "\n",
              "    .dataframe thead th {\n",
              "        text-align: right;\n",
              "    }\n",
              "</style>\n",
              "<table border=\"1\" class=\"dataframe\">\n",
              "  <thead>\n",
              "    <tr style=\"text-align: right;\">\n",
              "      <th></th>\n",
              "      <th>comments</th>\n",
              "      <th>description</th>\n",
              "      <th>duration</th>\n",
              "      <th>event</th>\n",
              "      <th>film_date</th>\n",
              "      <th>languages</th>\n",
              "      <th>main_speaker</th>\n",
              "      <th>name</th>\n",
              "      <th>num_speaker</th>\n",
              "      <th>published_date</th>\n",
              "      <th>ratings</th>\n",
              "      <th>related_talks</th>\n",
              "      <th>speaker_occupation</th>\n",
              "      <th>tags</th>\n",
              "      <th>title</th>\n",
              "      <th>url</th>\n",
              "      <th>views</th>\n",
              "    </tr>\n",
              "  </thead>\n",
              "  <tbody>\n",
              "    <tr>\n",
              "      <th>0</th>\n",
              "      <td>4553</td>\n",
              "      <td>Sir Ken Robinson makes an entertaining and pro...</td>\n",
              "      <td>1164</td>\n",
              "      <td>TED2006</td>\n",
              "      <td>1140825600</td>\n",
              "      <td>60</td>\n",
              "      <td>Ken Robinson</td>\n",
              "      <td>Ken Robinson: Do schools kill creativity?</td>\n",
              "      <td>1</td>\n",
              "      <td>1151367060</td>\n",
              "      <td>[{'id': 7, 'name': 'Funny', 'count': 19645}, {...</td>\n",
              "      <td>[{'id': 865, 'hero': 'https://pe.tedcdn.com/im...</td>\n",
              "      <td>Author/educator</td>\n",
              "      <td>['children', 'creativity', 'culture', 'dance',...</td>\n",
              "      <td>Do schools kill creativity?</td>\n",
              "      <td>https://www.ted.com/talks/ken_robinson_says_sc...</td>\n",
              "      <td>47227110</td>\n",
              "    </tr>\n",
              "    <tr>\n",
              "      <th>1</th>\n",
              "      <td>265</td>\n",
              "      <td>With the same humor and humanity he exuded in ...</td>\n",
              "      <td>977</td>\n",
              "      <td>TED2006</td>\n",
              "      <td>1140825600</td>\n",
              "      <td>43</td>\n",
              "      <td>Al Gore</td>\n",
              "      <td>Al Gore: Averting the climate crisis</td>\n",
              "      <td>1</td>\n",
              "      <td>1151367060</td>\n",
              "      <td>[{'id': 7, 'name': 'Funny', 'count': 544}, {'i...</td>\n",
              "      <td>[{'id': 243, 'hero': 'https://pe.tedcdn.com/im...</td>\n",
              "      <td>Climate advocate</td>\n",
              "      <td>['alternative energy', 'cars', 'climate change...</td>\n",
              "      <td>Averting the climate crisis</td>\n",
              "      <td>https://www.ted.com/talks/al_gore_on_averting_...</td>\n",
              "      <td>3200520</td>\n",
              "    </tr>\n",
              "  </tbody>\n",
              "</table>\n",
              "</div>"
            ],
            "text/plain": [
              "   comments  ...     views\n",
              "0      4553  ...  47227110\n",
              "1       265  ...   3200520\n",
              "\n",
              "[2 rows x 17 columns]"
            ]
          },
          "metadata": {},
          "execution_count": 6
        }
      ]
    },
    {
      "cell_type": "code",
      "metadata": {
        "id": "n9oG6yxL95_G",
        "colab": {
          "base_uri": "https://localhost:8080/",
          "height": 110
        },
        "outputId": "be6aa950-c106-489b-ac95-3219e9ac3241"
      },
      "source": [
        "ted_main[['name', 'comments']][:2]"
      ],
      "execution_count": null,
      "outputs": [
        {
          "output_type": "execute_result",
          "data": {
            "text/html": [
              "<div>\n",
              "<style scoped>\n",
              "    .dataframe tbody tr th:only-of-type {\n",
              "        vertical-align: middle;\n",
              "    }\n",
              "\n",
              "    .dataframe tbody tr th {\n",
              "        vertical-align: top;\n",
              "    }\n",
              "\n",
              "    .dataframe thead th {\n",
              "        text-align: right;\n",
              "    }\n",
              "</style>\n",
              "<table border=\"1\" class=\"dataframe\">\n",
              "  <thead>\n",
              "    <tr style=\"text-align: right;\">\n",
              "      <th></th>\n",
              "      <th>name</th>\n",
              "      <th>comments</th>\n",
              "    </tr>\n",
              "  </thead>\n",
              "  <tbody>\n",
              "    <tr>\n",
              "      <th>0</th>\n",
              "      <td>Ken Robinson: Do schools kill creativity?</td>\n",
              "      <td>4553</td>\n",
              "    </tr>\n",
              "    <tr>\n",
              "      <th>1</th>\n",
              "      <td>Al Gore: Averting the climate crisis</td>\n",
              "      <td>265</td>\n",
              "    </tr>\n",
              "  </tbody>\n",
              "</table>\n",
              "</div>"
            ],
            "text/plain": [
              "                                        name  comments\n",
              "0  Ken Robinson: Do schools kill creativity?      4553\n",
              "1       Al Gore: Averting the climate crisis       265"
            ]
          },
          "metadata": {},
          "execution_count": 7
        }
      ]
    },
    {
      "cell_type": "code",
      "metadata": {
        "id": "RqP5zlZvgt5Y",
        "colab": {
          "base_uri": "https://localhost:8080/"
        },
        "outputId": "092c704a-1bb5-4134-8987-0be663f10168"
      },
      "source": [
        "ted_main.url"
      ],
      "execution_count": null,
      "outputs": [
        {
          "output_type": "execute_result",
          "data": {
            "text/plain": [
              "0       https://www.ted.com/talks/ken_robinson_says_sc...\n",
              "1       https://www.ted.com/talks/al_gore_on_averting_...\n",
              "2       https://www.ted.com/talks/david_pogue_says_sim...\n",
              "3       https://www.ted.com/talks/majora_carter_s_tale...\n",
              "4       https://www.ted.com/talks/hans_rosling_shows_t...\n",
              "                              ...                        \n",
              "2545    https://www.ted.com/talks/duarte_geraldino_wha...\n",
              "2546    https://www.ted.com/talks/armando_azua_bustos_...\n",
              "2547    https://www.ted.com/talks/radhika_nagpal_what_...\n",
              "2548    https://www.ted.com/talks/theo_e_j_wilson_a_bl...\n",
              "2549    https://www.ted.com/talks/karoliina_korppoo_ho...\n",
              "Name: url, Length: 2550, dtype: object"
            ]
          },
          "metadata": {},
          "execution_count": 8
        }
      ]
    },
    {
      "cell_type": "code",
      "metadata": {
        "id": "bJoCYrm0o1_6",
        "colab": {
          "base_uri": "https://localhost:8080/",
          "height": 179
        },
        "outputId": "46cc626e-1753-4ec1-b4b8-af360f44e970"
      },
      "source": [
        "\n",
        "array[idx]"
      ],
      "execution_count": null,
      "outputs": [
        {
          "output_type": "error",
          "ename": "NameError",
          "evalue": "ignored",
          "traceback": [
            "\u001b[0;31m---------------------------------------------------------------------------\u001b[0m",
            "\u001b[0;31mNameError\u001b[0m                                 Traceback (most recent call last)",
            "\u001b[0;32m<ipython-input-9-e8c2b050b8e0>\u001b[0m in \u001b[0;36m<module>\u001b[0;34m()\u001b[0m\n\u001b[1;32m      1\u001b[0m \u001b[0;34m\u001b[0m\u001b[0m\n\u001b[0;32m----> 2\u001b[0;31m \u001b[0marray\u001b[0m\u001b[0;34m[\u001b[0m\u001b[0midx\u001b[0m\u001b[0;34m]\u001b[0m\u001b[0;34m\u001b[0m\u001b[0;34m\u001b[0m\u001b[0m\n\u001b[0m",
            "\u001b[0;31mNameError\u001b[0m: name 'array' is not defined"
          ]
        }
      ]
    },
    {
      "cell_type": "code",
      "metadata": {
        "id": "rcbvMmpkpjHL"
      },
      "source": [
        "ted_main.shape"
      ],
      "execution_count": null,
      "outputs": []
    },
    {
      "cell_type": "code",
      "metadata": {
        "id": "zsSQwpNRVdsx"
      },
      "source": [
        "ted_main2 = ted_main.set_index('comments')"
      ],
      "execution_count": null,
      "outputs": []
    },
    {
      "cell_type": "code",
      "metadata": {
        "colab": {
          "base_uri": "https://localhost:8080/"
        },
        "id": "OiCQMnGep_QH",
        "outputId": "795e72e8-c19a-4749-ce99-5cbbc6254824"
      },
      "source": [
        "ted_main2.iloc[200]"
      ],
      "execution_count": null,
      "outputs": [
        {
          "output_type": "execute_result",
          "data": {
            "text/plain": [
              "description           With surprising accuracy, Nicholas Negroponte ...\n",
              "duration                                                           1523\n",
              "event                                                           TED1984\n",
              "film_date                                                     444528000\n",
              "languages                                                            18\n",
              "main_speaker                                        Nicholas Negroponte\n",
              "name                      Nicholas Negroponte: 5 predictions, from 1984\n",
              "num_speaker                                                           1\n",
              "published_date                                               1205198760\n",
              "ratings               [{'id': 23, 'name': 'Jaw-dropping', 'count': 7...\n",
              "related_talks         [{'id': 288, 'hero': 'https://pe.tedcdn.com/im...\n",
              "speaker_occupation                                       Tech visionary\n",
              "tags                  ['demo', 'design', 'entertainment', 'future', ...\n",
              "title                                          5 predictions, from 1984\n",
              "url                   https://www.ted.com/talks/nicholas_negroponte_...\n",
              "views                                                            974087\n",
              "Name: 64, dtype: object"
            ]
          },
          "metadata": {},
          "execution_count": 11
        }
      ]
    },
    {
      "cell_type": "code",
      "metadata": {
        "id": "mT2HN7vrRf_r",
        "colab": {
          "base_uri": "https://localhost:8080/"
        },
        "outputId": "7bc88f4b-23b7-40e3-b966-be62972a4f1b"
      },
      "source": [
        "#Get row no. 42\n",
        "\n",
        "ted_main.iloc[42]\n",
        "\n",
        "for idx, row in ted_main.iterrows():\n",
        "  if idx > 4:\n",
        "    break\n",
        "  print(row['url'], row['duration'])"
      ],
      "execution_count": null,
      "outputs": [
        {
          "output_type": "stream",
          "name": "stdout",
          "text": [
            "https://www.ted.com/talks/ken_robinson_says_schools_kill_creativity\n",
            " 1164\n",
            "https://www.ted.com/talks/al_gore_on_averting_climate_crisis\n",
            " 977\n",
            "https://www.ted.com/talks/david_pogue_says_simplicity_sells\n",
            " 1286\n",
            "https://www.ted.com/talks/majora_carter_s_tale_of_urban_renewal\n",
            " 1116\n",
            "https://www.ted.com/talks/hans_rosling_shows_the_best_stats_you_ve_ever_seen\n",
            " 1190\n"
          ]
        }
      ]
    },
    {
      "cell_type": "code",
      "metadata": {
        "id": "xsH4VLbV3K0O",
        "colab": {
          "base_uri": "https://localhost:8080/"
        },
        "outputId": "200fe449-08f9-4668-a3db-325ae3b2733f"
      },
      "source": [
        "# Get row with index==6\n",
        "# happens to also be 6th row\n",
        "# since our index is 0 to len(data)\n",
        "\n",
        "ted_main.loc[6]"
      ],
      "execution_count": null,
      "outputs": [
        {
          "output_type": "execute_result",
          "data": {
            "text/plain": [
              "comments                                                            919\n",
              "description           When two young Mormon missionaries knock on Ju...\n",
              "duration                                                            992\n",
              "event                                                           TED2006\n",
              "film_date                                                    1140739200\n",
              "languages                                                            31\n",
              "main_speaker                                              Julia Sweeney\n",
              "name                                   Julia Sweeney: Letting go of God\n",
              "num_speaker                                                           1\n",
              "published_date                                               1152490260\n",
              "ratings               [{'id': 3, 'name': 'Courageous', 'count': 477}...\n",
              "related_talks         [{'id': 22, 'hero': 'https://pe.tedcdn.com/ima...\n",
              "speaker_occupation                          Actor, comedian, playwright\n",
              "tags                  ['Christianity', 'God', 'atheism', 'comedy', '...\n",
              "title                                                 Letting go of God\n",
              "url                   https://www.ted.com/talks/julia_sweeney_on_let...\n",
              "views                                                           3769987\n",
              "Name: 6, dtype: object"
            ]
          },
          "metadata": {},
          "execution_count": 13
        }
      ]
    },
    {
      "cell_type": "code",
      "metadata": {
        "id": "8YzxOP6J0txr"
      },
      "source": [
        "ted_main2 = ted_main.set_index('url')"
      ],
      "execution_count": null,
      "outputs": []
    },
    {
      "cell_type": "code",
      "metadata": {
        "id": "uT3e1RsYrD4q"
      },
      "source": [
        "ted_main.set_index('url', inplace=True)"
      ],
      "execution_count": null,
      "outputs": []
    },
    {
      "cell_type": "code",
      "metadata": {
        "id": "BAbWmI_t053V",
        "colab": {
          "base_uri": "https://localhost:8080/",
          "height": 280
        },
        "outputId": "e8e9bfff-b15f-4341-9cf9-2521d7f12193"
      },
      "source": [
        "ted_main.set_index('url').iloc[0]"
      ],
      "execution_count": null,
      "outputs": [
        {
          "output_type": "error",
          "ename": "KeyError",
          "evalue": "ignored",
          "traceback": [
            "\u001b[0;31m---------------------------------------------------------------------------\u001b[0m",
            "\u001b[0;31mKeyError\u001b[0m                                  Traceback (most recent call last)",
            "\u001b[0;32m<ipython-input-16-896908dc8136>\u001b[0m in \u001b[0;36m<module>\u001b[0;34m()\u001b[0m\n\u001b[0;32m----> 1\u001b[0;31m \u001b[0mted_main\u001b[0m\u001b[0;34m.\u001b[0m\u001b[0mset_index\u001b[0m\u001b[0;34m(\u001b[0m\u001b[0;34m'url'\u001b[0m\u001b[0;34m)\u001b[0m\u001b[0;34m.\u001b[0m\u001b[0miloc\u001b[0m\u001b[0;34m[\u001b[0m\u001b[0;36m0\u001b[0m\u001b[0;34m]\u001b[0m\u001b[0;34m\u001b[0m\u001b[0;34m\u001b[0m\u001b[0m\n\u001b[0m",
            "\u001b[0;32m/usr/local/lib/python3.7/dist-packages/pandas/core/frame.py\u001b[0m in \u001b[0;36mset_index\u001b[0;34m(self, keys, drop, append, inplace, verify_integrity)\u001b[0m\n\u001b[1;32m   4553\u001b[0m \u001b[0;34m\u001b[0m\u001b[0m\n\u001b[1;32m   4554\u001b[0m         \u001b[0;32mif\u001b[0m \u001b[0mmissing\u001b[0m\u001b[0;34m:\u001b[0m\u001b[0;34m\u001b[0m\u001b[0;34m\u001b[0m\u001b[0m\n\u001b[0;32m-> 4555\u001b[0;31m             \u001b[0;32mraise\u001b[0m \u001b[0mKeyError\u001b[0m\u001b[0;34m(\u001b[0m\u001b[0;34mf\"None of {missing} are in the columns\"\u001b[0m\u001b[0;34m)\u001b[0m\u001b[0;34m\u001b[0m\u001b[0;34m\u001b[0m\u001b[0m\n\u001b[0m\u001b[1;32m   4556\u001b[0m \u001b[0;34m\u001b[0m\u001b[0m\n\u001b[1;32m   4557\u001b[0m         \u001b[0;32mif\u001b[0m \u001b[0minplace\u001b[0m\u001b[0;34m:\u001b[0m\u001b[0;34m\u001b[0m\u001b[0;34m\u001b[0m\u001b[0m\n",
            "\u001b[0;31mKeyError\u001b[0m: \"None of ['url'] are in the columns\""
          ]
        }
      ]
    },
    {
      "cell_type": "code",
      "metadata": {
        "id": "UiPSWaAVWS-n"
      },
      "source": [
        "ted_main.set_index('url').loc[0]"
      ],
      "execution_count": null,
      "outputs": []
    },
    {
      "cell_type": "code",
      "metadata": {
        "id": "VhykZaeq09gK"
      },
      "source": [
        "ted_main.set_index('url').loc['https://www.ted.com/talks/ken_robinson_says_schools_kill_creativity\\n']"
      ],
      "execution_count": null,
      "outputs": []
    },
    {
      "cell_type": "code",
      "metadata": {
        "id": "dNyP9Qnh6TF9"
      },
      "source": [
        "# Check datatype of each column\n",
        "\n",
        "ted_main.dtypes"
      ],
      "execution_count": null,
      "outputs": []
    },
    {
      "cell_type": "code",
      "metadata": {
        "id": "5ShIu0KSzu1D"
      },
      "source": [
        "# Print summary statistics for *numerical* columns\n",
        "\n",
        "ted_main.describe()"
      ],
      "execution_count": null,
      "outputs": []
    },
    {
      "cell_type": "code",
      "metadata": {
        "colab": {
          "base_uri": "https://localhost:8080/"
        },
        "id": "vmMvBywDr6Mo",
        "outputId": "e152c967-98cd-4921-b141-7978146a9d11"
      },
      "source": [
        "\n",
        "ted_main['duration'].value_counts()"
      ],
      "execution_count": null,
      "outputs": [
        {
          "output_type": "execute_result",
          "data": {
            "text/plain": [
              "1099    9\n",
              "848     9\n",
              "1060    8\n",
              "1056    8\n",
              "1028    8\n",
              "       ..\n",
              "1868    1\n",
              "1782    1\n",
              "1772    1\n",
              "1768    1\n",
              "2065    1\n",
              "Name: duration, Length: 1083, dtype: int64"
            ]
          },
          "metadata": {},
          "execution_count": 17
        }
      ]
    },
    {
      "cell_type": "code",
      "metadata": {
        "id": "JdRPzmyw2MLh",
        "colab": {
          "base_uri": "https://localhost:8080/"
        },
        "outputId": "5b460c45-9056-434a-aae7-39ce16506e37"
      },
      "source": [
        "# Count number of rows, for every value of `num_speaker`\n",
        "\n",
        "ted_main['num_speaker'].value_counts()"
      ],
      "execution_count": null,
      "outputs": [
        {
          "output_type": "execute_result",
          "data": {
            "text/plain": [
              "1    2492\n",
              "2      49\n",
              "3       5\n",
              "4       3\n",
              "5       1\n",
              "Name: num_speaker, dtype: int64"
            ]
          },
          "metadata": {},
          "execution_count": 18
        }
      ]
    },
    {
      "cell_type": "code",
      "metadata": {
        "id": "rSthVX2D2Awd",
        "colab": {
          "base_uri": "https://localhost:8080/"
        },
        "outputId": "0e32b2c6-291b-44f9-97d9-50cca6ede41a"
      },
      "source": [
        "ted_main['event'].value_counts()"
      ],
      "execution_count": null,
      "outputs": [
        {
          "output_type": "execute_result",
          "data": {
            "text/plain": [
              "TED2014                    84\n",
              "TED2009                    83\n",
              "TED2016                    77\n",
              "TED2013                    77\n",
              "TED2015                    75\n",
              "                           ..\n",
              "TEDxGoldenGatePark 2012     1\n",
              "TEDxGatewayWomen            1\n",
              "TEDxVictoria                1\n",
              "TED@Bangalore               1\n",
              "TED Fellows 2015            1\n",
              "Name: event, Length: 355, dtype: int64"
            ]
          },
          "metadata": {},
          "execution_count": 19
        }
      ]
    },
    {
      "cell_type": "code",
      "metadata": {
        "id": "aIHTbXdO0ZKn",
        "colab": {
          "base_uri": "https://localhost:8080/",
          "height": 447
        },
        "outputId": "8b0cb0a2-5782-4a3f-8edd-f40a8943fbf1"
      },
      "source": [
        "# Get two specific columns, for the first five rows\n",
        "# aka projection in db query speak, SELECT <..> FROM ..\n",
        "\n",
        "l = ['main_speaker', 'speaker_occupation']\n",
        "ted_main[l]"
      ],
      "execution_count": null,
      "outputs": [
        {
          "output_type": "execute_result",
          "data": {
            "text/html": [
              "<div>\n",
              "<style scoped>\n",
              "    .dataframe tbody tr th:only-of-type {\n",
              "        vertical-align: middle;\n",
              "    }\n",
              "\n",
              "    .dataframe tbody tr th {\n",
              "        vertical-align: top;\n",
              "    }\n",
              "\n",
              "    .dataframe thead th {\n",
              "        text-align: right;\n",
              "    }\n",
              "</style>\n",
              "<table border=\"1\" class=\"dataframe\">\n",
              "  <thead>\n",
              "    <tr style=\"text-align: right;\">\n",
              "      <th></th>\n",
              "      <th>main_speaker</th>\n",
              "      <th>speaker_occupation</th>\n",
              "    </tr>\n",
              "    <tr>\n",
              "      <th>url</th>\n",
              "      <th></th>\n",
              "      <th></th>\n",
              "    </tr>\n",
              "  </thead>\n",
              "  <tbody>\n",
              "    <tr>\n",
              "      <th>https://www.ted.com/talks/ken_robinson_says_schools_kill_creativity\\n</th>\n",
              "      <td>Ken Robinson</td>\n",
              "      <td>Author/educator</td>\n",
              "    </tr>\n",
              "    <tr>\n",
              "      <th>https://www.ted.com/talks/al_gore_on_averting_climate_crisis\\n</th>\n",
              "      <td>Al Gore</td>\n",
              "      <td>Climate advocate</td>\n",
              "    </tr>\n",
              "    <tr>\n",
              "      <th>https://www.ted.com/talks/david_pogue_says_simplicity_sells\\n</th>\n",
              "      <td>David Pogue</td>\n",
              "      <td>Technology columnist</td>\n",
              "    </tr>\n",
              "    <tr>\n",
              "      <th>https://www.ted.com/talks/majora_carter_s_tale_of_urban_renewal\\n</th>\n",
              "      <td>Majora Carter</td>\n",
              "      <td>Activist for environmental justice</td>\n",
              "    </tr>\n",
              "    <tr>\n",
              "      <th>https://www.ted.com/talks/hans_rosling_shows_the_best_stats_you_ve_ever_seen\\n</th>\n",
              "      <td>Hans Rosling</td>\n",
              "      <td>Global health expert; data visionary</td>\n",
              "    </tr>\n",
              "    <tr>\n",
              "      <th>...</th>\n",
              "      <td>...</td>\n",
              "      <td>...</td>\n",
              "    </tr>\n",
              "    <tr>\n",
              "      <th>https://www.ted.com/talks/duarte_geraldino_what_we_re_missing_in_the_debate_about_immigration\\n</th>\n",
              "      <td>Duarte Geraldino</td>\n",
              "      <td>Journalist</td>\n",
              "    </tr>\n",
              "    <tr>\n",
              "      <th>https://www.ted.com/talks/armando_azua_bustos_the_most_martian_place_on_earth\\n</th>\n",
              "      <td>Armando Azua-Bustos</td>\n",
              "      <td>Astrobiologist</td>\n",
              "    </tr>\n",
              "    <tr>\n",
              "      <th>https://www.ted.com/talks/radhika_nagpal_what_intelligent_machines_can_learn_from_a_school_of_fish\\n</th>\n",
              "      <td>Radhika Nagpal</td>\n",
              "      <td>Robotics engineer</td>\n",
              "    </tr>\n",
              "    <tr>\n",
              "      <th>https://www.ted.com/talks/theo_e_j_wilson_a_black_man_goes_undercover_in_the_alt_right\\n</th>\n",
              "      <td>Theo E.J. Wilson</td>\n",
              "      <td>Public intellectual</td>\n",
              "    </tr>\n",
              "    <tr>\n",
              "      <th>https://www.ted.com/talks/karoliina_korppoo_how_a_video_game_might_help_us_build_better_cities\\n</th>\n",
              "      <td>Karoliina Korppoo</td>\n",
              "      <td>Game designer</td>\n",
              "    </tr>\n",
              "  </tbody>\n",
              "</table>\n",
              "<p>2550 rows × 2 columns</p>\n",
              "</div>"
            ],
            "text/plain": [
              "                                                           main_speaker                    speaker_occupation\n",
              "url                                                                                                          \n",
              "https://www.ted.com/talks/ken_robinson_says_sch...         Ken Robinson                       Author/educator\n",
              "https://www.ted.com/talks/al_gore_on_averting_c...              Al Gore                      Climate advocate\n",
              "https://www.ted.com/talks/david_pogue_says_simp...          David Pogue                  Technology columnist\n",
              "https://www.ted.com/talks/majora_carter_s_tale_...        Majora Carter    Activist for environmental justice\n",
              "https://www.ted.com/talks/hans_rosling_shows_th...         Hans Rosling  Global health expert; data visionary\n",
              "...                                                                 ...                                   ...\n",
              "https://www.ted.com/talks/duarte_geraldino_what...     Duarte Geraldino                            Journalist\n",
              "https://www.ted.com/talks/armando_azua_bustos_t...  Armando Azua-Bustos                        Astrobiologist\n",
              "https://www.ted.com/talks/radhika_nagpal_what_i...       Radhika Nagpal                     Robotics engineer\n",
              "https://www.ted.com/talks/theo_e_j_wilson_a_bla...     Theo E.J. Wilson                   Public intellectual\n",
              "https://www.ted.com/talks/karoliina_korppoo_how...    Karoliina Korppoo                         Game designer\n",
              "\n",
              "[2550 rows x 2 columns]"
            ]
          },
          "metadata": {},
          "execution_count": 20
        }
      ]
    },
    {
      "cell_type": "code",
      "metadata": {
        "id": "QpqBrrgrXCXo",
        "colab": {
          "base_uri": "https://localhost:8080/",
          "height": 447
        },
        "outputId": "b65c5180-6d48-4d29-b3d4-a15d9baa927a"
      },
      "source": [
        "ted_main[['main_speaker', 'speaker_occupation']]"
      ],
      "execution_count": null,
      "outputs": [
        {
          "output_type": "execute_result",
          "data": {
            "text/html": [
              "<div>\n",
              "<style scoped>\n",
              "    .dataframe tbody tr th:only-of-type {\n",
              "        vertical-align: middle;\n",
              "    }\n",
              "\n",
              "    .dataframe tbody tr th {\n",
              "        vertical-align: top;\n",
              "    }\n",
              "\n",
              "    .dataframe thead th {\n",
              "        text-align: right;\n",
              "    }\n",
              "</style>\n",
              "<table border=\"1\" class=\"dataframe\">\n",
              "  <thead>\n",
              "    <tr style=\"text-align: right;\">\n",
              "      <th></th>\n",
              "      <th>main_speaker</th>\n",
              "      <th>speaker_occupation</th>\n",
              "    </tr>\n",
              "    <tr>\n",
              "      <th>url</th>\n",
              "      <th></th>\n",
              "      <th></th>\n",
              "    </tr>\n",
              "  </thead>\n",
              "  <tbody>\n",
              "    <tr>\n",
              "      <th>https://www.ted.com/talks/ken_robinson_says_schools_kill_creativity\\n</th>\n",
              "      <td>Ken Robinson</td>\n",
              "      <td>Author/educator</td>\n",
              "    </tr>\n",
              "    <tr>\n",
              "      <th>https://www.ted.com/talks/al_gore_on_averting_climate_crisis\\n</th>\n",
              "      <td>Al Gore</td>\n",
              "      <td>Climate advocate</td>\n",
              "    </tr>\n",
              "    <tr>\n",
              "      <th>https://www.ted.com/talks/david_pogue_says_simplicity_sells\\n</th>\n",
              "      <td>David Pogue</td>\n",
              "      <td>Technology columnist</td>\n",
              "    </tr>\n",
              "    <tr>\n",
              "      <th>https://www.ted.com/talks/majora_carter_s_tale_of_urban_renewal\\n</th>\n",
              "      <td>Majora Carter</td>\n",
              "      <td>Activist for environmental justice</td>\n",
              "    </tr>\n",
              "    <tr>\n",
              "      <th>https://www.ted.com/talks/hans_rosling_shows_the_best_stats_you_ve_ever_seen\\n</th>\n",
              "      <td>Hans Rosling</td>\n",
              "      <td>Global health expert; data visionary</td>\n",
              "    </tr>\n",
              "    <tr>\n",
              "      <th>...</th>\n",
              "      <td>...</td>\n",
              "      <td>...</td>\n",
              "    </tr>\n",
              "    <tr>\n",
              "      <th>https://www.ted.com/talks/duarte_geraldino_what_we_re_missing_in_the_debate_about_immigration\\n</th>\n",
              "      <td>Duarte Geraldino</td>\n",
              "      <td>Journalist</td>\n",
              "    </tr>\n",
              "    <tr>\n",
              "      <th>https://www.ted.com/talks/armando_azua_bustos_the_most_martian_place_on_earth\\n</th>\n",
              "      <td>Armando Azua-Bustos</td>\n",
              "      <td>Astrobiologist</td>\n",
              "    </tr>\n",
              "    <tr>\n",
              "      <th>https://www.ted.com/talks/radhika_nagpal_what_intelligent_machines_can_learn_from_a_school_of_fish\\n</th>\n",
              "      <td>Radhika Nagpal</td>\n",
              "      <td>Robotics engineer</td>\n",
              "    </tr>\n",
              "    <tr>\n",
              "      <th>https://www.ted.com/talks/theo_e_j_wilson_a_black_man_goes_undercover_in_the_alt_right\\n</th>\n",
              "      <td>Theo E.J. Wilson</td>\n",
              "      <td>Public intellectual</td>\n",
              "    </tr>\n",
              "    <tr>\n",
              "      <th>https://www.ted.com/talks/karoliina_korppoo_how_a_video_game_might_help_us_build_better_cities\\n</th>\n",
              "      <td>Karoliina Korppoo</td>\n",
              "      <td>Game designer</td>\n",
              "    </tr>\n",
              "  </tbody>\n",
              "</table>\n",
              "<p>2550 rows × 2 columns</p>\n",
              "</div>"
            ],
            "text/plain": [
              "                                                           main_speaker                    speaker_occupation\n",
              "url                                                                                                          \n",
              "https://www.ted.com/talks/ken_robinson_says_sch...         Ken Robinson                       Author/educator\n",
              "https://www.ted.com/talks/al_gore_on_averting_c...              Al Gore                      Climate advocate\n",
              "https://www.ted.com/talks/david_pogue_says_simp...          David Pogue                  Technology columnist\n",
              "https://www.ted.com/talks/majora_carter_s_tale_...        Majora Carter    Activist for environmental justice\n",
              "https://www.ted.com/talks/hans_rosling_shows_th...         Hans Rosling  Global health expert; data visionary\n",
              "...                                                                 ...                                   ...\n",
              "https://www.ted.com/talks/duarte_geraldino_what...     Duarte Geraldino                            Journalist\n",
              "https://www.ted.com/talks/armando_azua_bustos_t...  Armando Azua-Bustos                        Astrobiologist\n",
              "https://www.ted.com/talks/radhika_nagpal_what_i...       Radhika Nagpal                     Robotics engineer\n",
              "https://www.ted.com/talks/theo_e_j_wilson_a_bla...     Theo E.J. Wilson                   Public intellectual\n",
              "https://www.ted.com/talks/karoliina_korppoo_how...    Karoliina Korppoo                         Game designer\n",
              "\n",
              "[2550 rows x 2 columns]"
            ]
          },
          "metadata": {},
          "execution_count": 21
        }
      ]
    },
    {
      "cell_type": "code",
      "metadata": {
        "id": "MrU3TPt5sb7B"
      },
      "source": [
        "ted_main.drop_duplicates(inplace=True)"
      ],
      "execution_count": null,
      "outputs": []
    },
    {
      "cell_type": "code",
      "metadata": {
        "id": "FfUGB5O9_l46",
        "colab": {
          "base_uri": "https://localhost:8080/",
          "height": 447
        },
        "outputId": "eff6fed0-31cd-4da8-9251-a87bee9ee05f"
      },
      "source": [
        "l = ['main_speaker', 'speaker_occupation']\n",
        "ted_main[l].drop_duplicates('main_speaker')"
      ],
      "execution_count": null,
      "outputs": [
        {
          "output_type": "execute_result",
          "data": {
            "text/html": [
              "<div>\n",
              "<style scoped>\n",
              "    .dataframe tbody tr th:only-of-type {\n",
              "        vertical-align: middle;\n",
              "    }\n",
              "\n",
              "    .dataframe tbody tr th {\n",
              "        vertical-align: top;\n",
              "    }\n",
              "\n",
              "    .dataframe thead th {\n",
              "        text-align: right;\n",
              "    }\n",
              "</style>\n",
              "<table border=\"1\" class=\"dataframe\">\n",
              "  <thead>\n",
              "    <tr style=\"text-align: right;\">\n",
              "      <th></th>\n",
              "      <th>main_speaker</th>\n",
              "      <th>speaker_occupation</th>\n",
              "    </tr>\n",
              "    <tr>\n",
              "      <th>url</th>\n",
              "      <th></th>\n",
              "      <th></th>\n",
              "    </tr>\n",
              "  </thead>\n",
              "  <tbody>\n",
              "    <tr>\n",
              "      <th>https://www.ted.com/talks/ken_robinson_says_schools_kill_creativity\\n</th>\n",
              "      <td>Ken Robinson</td>\n",
              "      <td>Author/educator</td>\n",
              "    </tr>\n",
              "    <tr>\n",
              "      <th>https://www.ted.com/talks/al_gore_on_averting_climate_crisis\\n</th>\n",
              "      <td>Al Gore</td>\n",
              "      <td>Climate advocate</td>\n",
              "    </tr>\n",
              "    <tr>\n",
              "      <th>https://www.ted.com/talks/david_pogue_says_simplicity_sells\\n</th>\n",
              "      <td>David Pogue</td>\n",
              "      <td>Technology columnist</td>\n",
              "    </tr>\n",
              "    <tr>\n",
              "      <th>https://www.ted.com/talks/majora_carter_s_tale_of_urban_renewal\\n</th>\n",
              "      <td>Majora Carter</td>\n",
              "      <td>Activist for environmental justice</td>\n",
              "    </tr>\n",
              "    <tr>\n",
              "      <th>https://www.ted.com/talks/hans_rosling_shows_the_best_stats_you_ve_ever_seen\\n</th>\n",
              "      <td>Hans Rosling</td>\n",
              "      <td>Global health expert; data visionary</td>\n",
              "    </tr>\n",
              "    <tr>\n",
              "      <th>...</th>\n",
              "      <td>...</td>\n",
              "      <td>...</td>\n",
              "    </tr>\n",
              "    <tr>\n",
              "      <th>https://www.ted.com/talks/duarte_geraldino_what_we_re_missing_in_the_debate_about_immigration\\n</th>\n",
              "      <td>Duarte Geraldino</td>\n",
              "      <td>Journalist</td>\n",
              "    </tr>\n",
              "    <tr>\n",
              "      <th>https://www.ted.com/talks/armando_azua_bustos_the_most_martian_place_on_earth\\n</th>\n",
              "      <td>Armando Azua-Bustos</td>\n",
              "      <td>Astrobiologist</td>\n",
              "    </tr>\n",
              "    <tr>\n",
              "      <th>https://www.ted.com/talks/radhika_nagpal_what_intelligent_machines_can_learn_from_a_school_of_fish\\n</th>\n",
              "      <td>Radhika Nagpal</td>\n",
              "      <td>Robotics engineer</td>\n",
              "    </tr>\n",
              "    <tr>\n",
              "      <th>https://www.ted.com/talks/theo_e_j_wilson_a_black_man_goes_undercover_in_the_alt_right\\n</th>\n",
              "      <td>Theo E.J. Wilson</td>\n",
              "      <td>Public intellectual</td>\n",
              "    </tr>\n",
              "    <tr>\n",
              "      <th>https://www.ted.com/talks/karoliina_korppoo_how_a_video_game_might_help_us_build_better_cities\\n</th>\n",
              "      <td>Karoliina Korppoo</td>\n",
              "      <td>Game designer</td>\n",
              "    </tr>\n",
              "  </tbody>\n",
              "</table>\n",
              "<p>2156 rows × 2 columns</p>\n",
              "</div>"
            ],
            "text/plain": [
              "                                                           main_speaker                    speaker_occupation\n",
              "url                                                                                                          \n",
              "https://www.ted.com/talks/ken_robinson_says_sch...         Ken Robinson                       Author/educator\n",
              "https://www.ted.com/talks/al_gore_on_averting_c...              Al Gore                      Climate advocate\n",
              "https://www.ted.com/talks/david_pogue_says_simp...          David Pogue                  Technology columnist\n",
              "https://www.ted.com/talks/majora_carter_s_tale_...        Majora Carter    Activist for environmental justice\n",
              "https://www.ted.com/talks/hans_rosling_shows_th...         Hans Rosling  Global health expert; data visionary\n",
              "...                                                                 ...                                   ...\n",
              "https://www.ted.com/talks/duarte_geraldino_what...     Duarte Geraldino                            Journalist\n",
              "https://www.ted.com/talks/armando_azua_bustos_t...  Armando Azua-Bustos                        Astrobiologist\n",
              "https://www.ted.com/talks/radhika_nagpal_what_i...       Radhika Nagpal                     Robotics engineer\n",
              "https://www.ted.com/talks/theo_e_j_wilson_a_bla...     Theo E.J. Wilson                   Public intellectual\n",
              "https://www.ted.com/talks/karoliina_korppoo_how...    Karoliina Korppoo                         Game designer\n",
              "\n",
              "[2156 rows x 2 columns]"
            ]
          },
          "metadata": {},
          "execution_count": 23
        }
      ]
    },
    {
      "cell_type": "code",
      "metadata": {
        "id": "QmmL6AF5s1L1"
      },
      "source": [
        "\n",
        "# Get a subset of rows, that satisfy a constraint\n",
        "# aka selecton in db query speak, SELECT * WHERE...\n",
        "mapp = ted_main['views'] > 31415926"
      ],
      "execution_count": null,
      "outputs": []
    },
    {
      "cell_type": "code",
      "metadata": {
        "colab": {
          "base_uri": "https://localhost:8080/"
        },
        "id": "Gqkheae3s3zy",
        "outputId": "ef3603fa-b73c-47f2-ed55-dd3e0acd4565"
      },
      "source": [
        "ted_main[(ted_main['views'] >  31415926)  | (ted_main['duration']>1000)].shape"
      ],
      "execution_count": null,
      "outputs": [
        {
          "output_type": "execute_result",
          "data": {
            "text/plain": [
              "(802, 16)"
            ]
          },
          "metadata": {},
          "execution_count": 25
        }
      ]
    },
    {
      "cell_type": "code",
      "metadata": {
        "id": "JcFsVU-a1PZB",
        "colab": {
          "base_uri": "https://localhost:8080/",
          "height": 478
        },
        "outputId": "f2bb0f02-16c1-487a-fbae-03d1c91906a1"
      },
      "source": [
        "\n",
        "ted_main[mapp]"
      ],
      "execution_count": null,
      "outputs": [
        {
          "output_type": "execute_result",
          "data": {
            "text/html": [
              "<div>\n",
              "<style scoped>\n",
              "    .dataframe tbody tr th:only-of-type {\n",
              "        vertical-align: middle;\n",
              "    }\n",
              "\n",
              "    .dataframe tbody tr th {\n",
              "        vertical-align: top;\n",
              "    }\n",
              "\n",
              "    .dataframe thead th {\n",
              "        text-align: right;\n",
              "    }\n",
              "</style>\n",
              "<table border=\"1\" class=\"dataframe\">\n",
              "  <thead>\n",
              "    <tr style=\"text-align: right;\">\n",
              "      <th></th>\n",
              "      <th>comments</th>\n",
              "      <th>description</th>\n",
              "      <th>duration</th>\n",
              "      <th>event</th>\n",
              "      <th>film_date</th>\n",
              "      <th>languages</th>\n",
              "      <th>main_speaker</th>\n",
              "      <th>name</th>\n",
              "      <th>num_speaker</th>\n",
              "      <th>published_date</th>\n",
              "      <th>ratings</th>\n",
              "      <th>related_talks</th>\n",
              "      <th>speaker_occupation</th>\n",
              "      <th>tags</th>\n",
              "      <th>title</th>\n",
              "      <th>views</th>\n",
              "    </tr>\n",
              "    <tr>\n",
              "      <th>url</th>\n",
              "      <th></th>\n",
              "      <th></th>\n",
              "      <th></th>\n",
              "      <th></th>\n",
              "      <th></th>\n",
              "      <th></th>\n",
              "      <th></th>\n",
              "      <th></th>\n",
              "      <th></th>\n",
              "      <th></th>\n",
              "      <th></th>\n",
              "      <th></th>\n",
              "      <th></th>\n",
              "      <th></th>\n",
              "      <th></th>\n",
              "      <th></th>\n",
              "    </tr>\n",
              "  </thead>\n",
              "  <tbody>\n",
              "    <tr>\n",
              "      <th>https://www.ted.com/talks/ken_robinson_says_schools_kill_creativity\\n</th>\n",
              "      <td>4553</td>\n",
              "      <td>Sir Ken Robinson makes an entertaining and pro...</td>\n",
              "      <td>1164</td>\n",
              "      <td>TED2006</td>\n",
              "      <td>1140825600</td>\n",
              "      <td>60</td>\n",
              "      <td>Ken Robinson</td>\n",
              "      <td>Ken Robinson: Do schools kill creativity?</td>\n",
              "      <td>1</td>\n",
              "      <td>1151367060</td>\n",
              "      <td>[{'id': 7, 'name': 'Funny', 'count': 19645}, {...</td>\n",
              "      <td>[{'id': 865, 'hero': 'https://pe.tedcdn.com/im...</td>\n",
              "      <td>Author/educator</td>\n",
              "      <td>['children', 'creativity', 'culture', 'dance',...</td>\n",
              "      <td>Do schools kill creativity?</td>\n",
              "      <td>47227110</td>\n",
              "    </tr>\n",
              "    <tr>\n",
              "      <th>https://www.ted.com/talks/simon_sinek_how_great_leaders_inspire_action\\n</th>\n",
              "      <td>1930</td>\n",
              "      <td>Simon Sinek has a simple but powerful model fo...</td>\n",
              "      <td>1084</td>\n",
              "      <td>TEDxPuget Sound</td>\n",
              "      <td>1253145600</td>\n",
              "      <td>45</td>\n",
              "      <td>Simon Sinek</td>\n",
              "      <td>Simon Sinek: How great leaders inspire action</td>\n",
              "      <td>1</td>\n",
              "      <td>1272965460</td>\n",
              "      <td>[{'id': 21, 'name': 'Unconvincing', 'count': 9...</td>\n",
              "      <td>[{'id': 814, 'hero': 'https://pe.tedcdn.com/im...</td>\n",
              "      <td>Leadership expert</td>\n",
              "      <td>['TEDx', 'business', 'entrepreneur', 'leadersh...</td>\n",
              "      <td>How great leaders inspire action</td>\n",
              "      <td>34309432</td>\n",
              "    </tr>\n",
              "    <tr>\n",
              "      <th>https://www.ted.com/talks/amy_cuddy_your_body_language_shapes_who_you_are\\n</th>\n",
              "      <td>2290</td>\n",
              "      <td>Body language affects how others see us, but i...</td>\n",
              "      <td>1262</td>\n",
              "      <td>TEDGlobal 2012</td>\n",
              "      <td>1340668800</td>\n",
              "      <td>51</td>\n",
              "      <td>Amy Cuddy</td>\n",
              "      <td>Amy Cuddy: Your body language may shape who yo...</td>\n",
              "      <td>1</td>\n",
              "      <td>1349103608</td>\n",
              "      <td>[{'id': 23, 'name': 'Jaw-dropping', 'count': 3...</td>\n",
              "      <td>[{'id': 605, 'hero': 'https://pe.tedcdn.com/im...</td>\n",
              "      <td>Social psychologist</td>\n",
              "      <td>['body language', 'brain', 'business', 'psycho...</td>\n",
              "      <td>Your body language may shape who you are</td>\n",
              "      <td>43155405</td>\n",
              "    </tr>\n",
              "  </tbody>\n",
              "</table>\n",
              "</div>"
            ],
            "text/plain": [
              "                                                    comments  ...     views\n",
              "url                                                           ...          \n",
              "https://www.ted.com/talks/ken_robinson_says_sch...      4553  ...  47227110\n",
              "https://www.ted.com/talks/simon_sinek_how_great...      1930  ...  34309432\n",
              "https://www.ted.com/talks/amy_cuddy_your_body_l...      2290  ...  43155405\n",
              "\n",
              "[3 rows x 16 columns]"
            ]
          },
          "metadata": {},
          "execution_count": 26
        }
      ]
    },
    {
      "cell_type": "code",
      "metadata": {
        "id": "wdAadUf5XVms",
        "colab": {
          "base_uri": "https://localhost:8080/"
        },
        "outputId": "720f1003-9fe6-4e0d-b022-881c47388e66"
      },
      "source": [
        "mapp"
      ],
      "execution_count": null,
      "outputs": [
        {
          "output_type": "execute_result",
          "data": {
            "text/plain": [
              "url\n",
              "https://www.ted.com/talks/ken_robinson_says_schools_kill_creativity\\n                                    True\n",
              "https://www.ted.com/talks/al_gore_on_averting_climate_crisis\\n                                          False\n",
              "https://www.ted.com/talks/david_pogue_says_simplicity_sells\\n                                           False\n",
              "https://www.ted.com/talks/majora_carter_s_tale_of_urban_renewal\\n                                       False\n",
              "https://www.ted.com/talks/hans_rosling_shows_the_best_stats_you_ve_ever_seen\\n                          False\n",
              "                                                                                                        ...  \n",
              "https://www.ted.com/talks/duarte_geraldino_what_we_re_missing_in_the_debate_about_immigration\\n         False\n",
              "https://www.ted.com/talks/armando_azua_bustos_the_most_martian_place_on_earth\\n                         False\n",
              "https://www.ted.com/talks/radhika_nagpal_what_intelligent_machines_can_learn_from_a_school_of_fish\\n    False\n",
              "https://www.ted.com/talks/theo_e_j_wilson_a_black_man_goes_undercover_in_the_alt_right\\n                False\n",
              "https://www.ted.com/talks/karoliina_korppoo_how_a_video_game_might_help_us_build_better_cities\\n        False\n",
              "Name: views, Length: 2550, dtype: bool"
            ]
          },
          "metadata": {},
          "execution_count": 27
        }
      ]
    },
    {
      "cell_type": "markdown",
      "metadata": {
        "id": "RdyHPSlS3l2j"
      },
      "source": [
        "## What if my filtering function is more complicated?\n",
        "For example, I want to get all the TEDx talks in the dataset."
      ]
    },
    {
      "cell_type": "code",
      "metadata": {
        "id": "8-M9yLH13lGo"
      },
      "source": [
        "# Lambda functions help keep your code clean and compact.\n",
        "mapp2 = ted_main['event'].apply(lambda string: 'TEDx' in string)"
      ],
      "execution_count": null,
      "outputs": []
    },
    {
      "cell_type": "code",
      "metadata": {
        "colab": {
          "base_uri": "https://localhost:8080/"
        },
        "id": "c3XAZQNUt1VX",
        "outputId": "bd0f9570-0b37-49a6-8587-3a669d9fda79"
      },
      "source": [
        "def tedxinStr(string):\n",
        "  return 'TEDx' in string\n",
        "\n",
        "ted_main['event'].apply(tedxinStr)"
      ],
      "execution_count": null,
      "outputs": [
        {
          "output_type": "execute_result",
          "data": {
            "text/plain": [
              "url\n",
              "https://www.ted.com/talks/ken_robinson_says_schools_kill_creativity\\n                                   False\n",
              "https://www.ted.com/talks/al_gore_on_averting_climate_crisis\\n                                          False\n",
              "https://www.ted.com/talks/david_pogue_says_simplicity_sells\\n                                           False\n",
              "https://www.ted.com/talks/majora_carter_s_tale_of_urban_renewal\\n                                       False\n",
              "https://www.ted.com/talks/hans_rosling_shows_the_best_stats_you_ve_ever_seen\\n                          False\n",
              "                                                                                                        ...  \n",
              "https://www.ted.com/talks/duarte_geraldino_what_we_re_missing_in_the_debate_about_immigration\\n         False\n",
              "https://www.ted.com/talks/armando_azua_bustos_the_most_martian_place_on_earth\\n                         False\n",
              "https://www.ted.com/talks/radhika_nagpal_what_intelligent_machines_can_learn_from_a_school_of_fish\\n    False\n",
              "https://www.ted.com/talks/theo_e_j_wilson_a_black_man_goes_undercover_in_the_alt_right\\n                 True\n",
              "https://www.ted.com/talks/karoliina_korppoo_how_a_video_game_might_help_us_build_better_cities\\n        False\n",
              "Name: event, Length: 2550, dtype: bool"
            ]
          },
          "metadata": {},
          "execution_count": 29
        }
      ]
    },
    {
      "cell_type": "code",
      "metadata": {
        "colab": {
          "base_uri": "https://localhost:8080/",
          "height": 1000
        },
        "id": "KDtUdt3etzGm",
        "outputId": "65bfd95a-ffe5-46e5-9b26-427711279611"
      },
      "source": [
        "\n",
        "ted_main[mapp2]"
      ],
      "execution_count": null,
      "outputs": [
        {
          "output_type": "execute_result",
          "data": {
            "text/html": [
              "<div>\n",
              "<style scoped>\n",
              "    .dataframe tbody tr th:only-of-type {\n",
              "        vertical-align: middle;\n",
              "    }\n",
              "\n",
              "    .dataframe tbody tr th {\n",
              "        vertical-align: top;\n",
              "    }\n",
              "\n",
              "    .dataframe thead th {\n",
              "        text-align: right;\n",
              "    }\n",
              "</style>\n",
              "<table border=\"1\" class=\"dataframe\">\n",
              "  <thead>\n",
              "    <tr style=\"text-align: right;\">\n",
              "      <th></th>\n",
              "      <th>comments</th>\n",
              "      <th>description</th>\n",
              "      <th>duration</th>\n",
              "      <th>event</th>\n",
              "      <th>film_date</th>\n",
              "      <th>languages</th>\n",
              "      <th>main_speaker</th>\n",
              "      <th>name</th>\n",
              "      <th>num_speaker</th>\n",
              "      <th>published_date</th>\n",
              "      <th>ratings</th>\n",
              "      <th>related_talks</th>\n",
              "      <th>speaker_occupation</th>\n",
              "      <th>tags</th>\n",
              "      <th>title</th>\n",
              "      <th>views</th>\n",
              "    </tr>\n",
              "    <tr>\n",
              "      <th>url</th>\n",
              "      <th></th>\n",
              "      <th></th>\n",
              "      <th></th>\n",
              "      <th></th>\n",
              "      <th></th>\n",
              "      <th></th>\n",
              "      <th></th>\n",
              "      <th></th>\n",
              "      <th></th>\n",
              "      <th></th>\n",
              "      <th></th>\n",
              "      <th></th>\n",
              "      <th></th>\n",
              "      <th></th>\n",
              "      <th></th>\n",
              "      <th></th>\n",
              "    </tr>\n",
              "  </thead>\n",
              "  <tbody>\n",
              "    <tr>\n",
              "      <th>https://www.ted.com/talks/jane_poynter_life_in_biosphere_2\\n</th>\n",
              "      <td>103</td>\n",
              "      <td>Jane Poynter tells her story of living two yea...</td>\n",
              "      <td>953</td>\n",
              "      <td>TEDxUSC</td>\n",
              "      <td>1237766400</td>\n",
              "      <td>27</td>\n",
              "      <td>Jane Poynter</td>\n",
              "      <td>Jane Poynter: Life in Biosphere 2</td>\n",
              "      <td>1</td>\n",
              "      <td>1245027600</td>\n",
              "      <td>[{'id': 10, 'name': 'Inspiring', 'count': 407}...</td>\n",
              "      <td>[{'id': 490, 'hero': 'https://pe.tedcdn.com/im...</td>\n",
              "      <td>Biospherian</td>\n",
              "      <td>['TEDx', 'adventure', 'biotech', 'climate chan...</td>\n",
              "      <td>Life in Biosphere 2</td>\n",
              "      <td>843719</td>\n",
              "    </tr>\n",
              "    <tr>\n",
              "      <th>https://www.ted.com/talks/qi_zhang_s_electrifying_organ_performance\\n</th>\n",
              "      <td>135</td>\n",
              "      <td>Organ virtuoso Qi Zhang plays her electric ren...</td>\n",
              "      <td>185</td>\n",
              "      <td>TEDxUSC</td>\n",
              "      <td>1237766400</td>\n",
              "      <td>0</td>\n",
              "      <td>Qi Zhang</td>\n",
              "      <td>Qi Zhang: An electrifying organ performance</td>\n",
              "      <td>1</td>\n",
              "      <td>1245401400</td>\n",
              "      <td>[{'id': 23, 'name': 'Jaw-dropping', 'count': 3...</td>\n",
              "      <td>[{'id': 46, 'hero': 'https://pe.tedcdn.com/ima...</td>\n",
              "      <td>Organist</td>\n",
              "      <td>['TEDx', 'china', 'music', 'performance', 'pia...</td>\n",
              "      <td>An electrifying organ performance</td>\n",
              "      <td>803691</td>\n",
              "    </tr>\n",
              "    <tr>\n",
              "      <th>https://www.ted.com/talks/david_logan_on_tribal_leadership\\n</th>\n",
              "      <td>248</td>\n",
              "      <td>David Logan talks about the five kinds of trib...</td>\n",
              "      <td>999</td>\n",
              "      <td>TEDxUSC</td>\n",
              "      <td>1237766400</td>\n",
              "      <td>25</td>\n",
              "      <td>David Logan</td>\n",
              "      <td>David Logan: Tribal leadership</td>\n",
              "      <td>1</td>\n",
              "      <td>1254790800</td>\n",
              "      <td>[{'id': 22, 'name': 'Fascinating', 'count': 33...</td>\n",
              "      <td>[{'id': 538, 'hero': 'https://pe.tedcdn.com/im...</td>\n",
              "      <td>Professor of management</td>\n",
              "      <td>['TEDx', 'business', 'communication', 'culture...</td>\n",
              "      <td>Tribal leadership</td>\n",
              "      <td>1404586</td>\n",
              "    </tr>\n",
              "    <tr>\n",
              "      <th>https://www.ted.com/talks/john_gerzema_the_post_crisis_consumer\\n</th>\n",
              "      <td>133</td>\n",
              "      <td>John Gerzema says there's an upside to the rec...</td>\n",
              "      <td>994</td>\n",
              "      <td>TEDxKC</td>\n",
              "      <td>1250726400</td>\n",
              "      <td>21</td>\n",
              "      <td>John Gerzema</td>\n",
              "      <td>John Gerzema: The post-crisis consumer</td>\n",
              "      <td>1</td>\n",
              "      <td>1255914000</td>\n",
              "      <td>[{'id': 25, 'name': 'OK', 'count': 94}, {'id':...</td>\n",
              "      <td>[{'id': 658, 'hero': 'https://pe.tedcdn.com/im...</td>\n",
              "      <td>Marketing whiz</td>\n",
              "      <td>['TEDx', 'advertising', 'business', 'consumeri...</td>\n",
              "      <td>The post-crisis consumer</td>\n",
              "      <td>760493</td>\n",
              "    </tr>\n",
              "    <tr>\n",
              "      <th>https://www.ted.com/talks/paul_debevec_animates_a_photo_real_digital_face\\n</th>\n",
              "      <td>89</td>\n",
              "      <td>Computer graphics trailblazer Paul Debevec exp...</td>\n",
              "      <td>366</td>\n",
              "      <td>TEDxUSC</td>\n",
              "      <td>1237766400</td>\n",
              "      <td>24</td>\n",
              "      <td>Paul Debevec</td>\n",
              "      <td>Paul Debevec: Animating a photo-real digital face</td>\n",
              "      <td>1</td>\n",
              "      <td>1256029020</td>\n",
              "      <td>[{'id': 23, 'name': 'Jaw-dropping', 'count': 1...</td>\n",
              "      <td>[{'id': 469, 'hero': 'https://pe.tedcdn.com/im...</td>\n",
              "      <td>Computer graphics pioneer</td>\n",
              "      <td>['TEDx', 'animation', 'art', 'computers', 'des...</td>\n",
              "      <td>Animating a photo-real digital face</td>\n",
              "      <td>748862</td>\n",
              "    </tr>\n",
              "    <tr>\n",
              "      <th>...</th>\n",
              "      <td>...</td>\n",
              "      <td>...</td>\n",
              "      <td>...</td>\n",
              "      <td>...</td>\n",
              "      <td>...</td>\n",
              "      <td>...</td>\n",
              "      <td>...</td>\n",
              "      <td>...</td>\n",
              "      <td>...</td>\n",
              "      <td>...</td>\n",
              "      <td>...</td>\n",
              "      <td>...</td>\n",
              "      <td>...</td>\n",
              "      <td>...</td>\n",
              "      <td>...</td>\n",
              "      <td>...</td>\n",
              "    </tr>\n",
              "    <tr>\n",
              "      <th>https://www.ted.com/talks/benjamin_grant_what_it_feels_like_to_see_earth_from_space\\n</th>\n",
              "      <td>2</td>\n",
              "      <td>What the astronauts felt when they saw Earth f...</td>\n",
              "      <td>725</td>\n",
              "      <td>TEDxSkoll</td>\n",
              "      <td>1491523200</td>\n",
              "      <td>1</td>\n",
              "      <td>Benjamin Grant</td>\n",
              "      <td>Benjamin Grant: What it feels like to see Eart...</td>\n",
              "      <td>1</td>\n",
              "      <td>1504814438</td>\n",
              "      <td>[{'id': 10, 'name': 'Inspiring', 'count': 46},...</td>\n",
              "      <td>[{'id': 2511, 'hero': 'https://pe.tedcdn.com/i...</td>\n",
              "      <td>Author</td>\n",
              "      <td>['TEDx', 'art', 'climate change', 'environment...</td>\n",
              "      <td>What it feels like to see Earth from space</td>\n",
              "      <td>646174</td>\n",
              "    </tr>\n",
              "    <tr>\n",
              "      <th>https://www.ted.com/talks/caitlin_quattromani_and_lauran_arledge_how_our_friendship_survives_our_opposing_politics\\n</th>\n",
              "      <td>21</td>\n",
              "      <td>Can you still be friends with someone who does...</td>\n",
              "      <td>865</td>\n",
              "      <td>TEDxMileHigh</td>\n",
              "      <td>1499472000</td>\n",
              "      <td>5</td>\n",
              "      <td>Caitlin Quattromani and Lauran Arledge</td>\n",
              "      <td>Caitlin Quattromani and Lauran Arledge: How ou...</td>\n",
              "      <td>2</td>\n",
              "      <td>1505142060</td>\n",
              "      <td>[{'id': 3, 'name': 'Courageous', 'count': 45},...</td>\n",
              "      <td>[{'id': 2625, 'hero': 'https://pe.tedcdn.com/i...</td>\n",
              "      <td>Marketing leader</td>\n",
              "      <td>['TEDx', 'communication', 'friendship', 'polit...</td>\n",
              "      <td>How our friendship survives our opposing politics</td>\n",
              "      <td>566101</td>\n",
              "    </tr>\n",
              "    <tr>\n",
              "      <th>https://www.ted.com/talks/alexander_wagner_what_really_motivates_people_to_be_honest_in_business\\n</th>\n",
              "      <td>7</td>\n",
              "      <td>Each year, one in seven large corporations com...</td>\n",
              "      <td>808</td>\n",
              "      <td>TEDxZurich</td>\n",
              "      <td>1478822400</td>\n",
              "      <td>1</td>\n",
              "      <td>Alexander Wagner</td>\n",
              "      <td>Alexander Wagner: What really motivates people...</td>\n",
              "      <td>1</td>\n",
              "      <td>1505246451</td>\n",
              "      <td>[{'id': 10, 'name': 'Inspiring', 'count': 50},...</td>\n",
              "      <td>[{'id': 1246, 'hero': 'https://pe.tedcdn.com/i...</td>\n",
              "      <td>Economist</td>\n",
              "      <td>['TEDx', 'business', 'corruption', 'economics'...</td>\n",
              "      <td>What really motivates people to be honest in b...</td>\n",
              "      <td>621431</td>\n",
              "    </tr>\n",
              "    <tr>\n",
              "      <th>https://www.ted.com/talks/helen_czerski_fun_home_experiments_that_teach_you_physics\\n</th>\n",
              "      <td>12</td>\n",
              "      <td>Physics doesn't just happen in a fancy lab -- ...</td>\n",
              "      <td>957</td>\n",
              "      <td>TEDxManchester</td>\n",
              "      <td>1487462400</td>\n",
              "      <td>2</td>\n",
              "      <td>Helen Czerski</td>\n",
              "      <td>Helen Czerski: The fascinating physics of ever...</td>\n",
              "      <td>1</td>\n",
              "      <td>1505419202</td>\n",
              "      <td>[{'id': 11, 'name': 'Longwinded', 'count': 29}...</td>\n",
              "      <td>[{'id': 2491, 'hero': 'https://pe.tedcdn.com/i...</td>\n",
              "      <td>Physicist</td>\n",
              "      <td>['TEDx', 'physics', 'play', 'science']</td>\n",
              "      <td>The fascinating physics of everyday life</td>\n",
              "      <td>656791</td>\n",
              "    </tr>\n",
              "    <tr>\n",
              "      <th>https://www.ted.com/talks/theo_e_j_wilson_a_black_man_goes_undercover_in_the_alt_right\\n</th>\n",
              "      <td>32</td>\n",
              "      <td>In an unmissable talk about race and politics ...</td>\n",
              "      <td>1100</td>\n",
              "      <td>TEDxMileHigh</td>\n",
              "      <td>1499472000</td>\n",
              "      <td>1</td>\n",
              "      <td>Theo E.J. Wilson</td>\n",
              "      <td>Theo E.J. Wilson: A black man goes undercover ...</td>\n",
              "      <td>1</td>\n",
              "      <td>1506024042</td>\n",
              "      <td>[{'id': 11, 'name': 'Longwinded', 'count': 3},...</td>\n",
              "      <td>[{'id': 2512, 'hero': 'https://pe.tedcdn.com/i...</td>\n",
              "      <td>Public intellectual</td>\n",
              "      <td>['Internet', 'TEDx', 'United States', 'communi...</td>\n",
              "      <td>A black man goes undercover in the alt-right</td>\n",
              "      <td>419309</td>\n",
              "    </tr>\n",
              "  </tbody>\n",
              "</table>\n",
              "<p>471 rows × 16 columns</p>\n",
              "</div>"
            ],
            "text/plain": [
              "                                                    comments  ...    views\n",
              "url                                                           ...         \n",
              "https://www.ted.com/talks/jane_poynter_life_in_...       103  ...   843719\n",
              "https://www.ted.com/talks/qi_zhang_s_electrifyi...       135  ...   803691\n",
              "https://www.ted.com/talks/david_logan_on_tribal...       248  ...  1404586\n",
              "https://www.ted.com/talks/john_gerzema_the_post...       133  ...   760493\n",
              "https://www.ted.com/talks/paul_debevec_animates...        89  ...   748862\n",
              "...                                                      ...  ...      ...\n",
              "https://www.ted.com/talks/benjamin_grant_what_i...         2  ...   646174\n",
              "https://www.ted.com/talks/caitlin_quattromani_a...        21  ...   566101\n",
              "https://www.ted.com/talks/alexander_wagner_what...         7  ...   621431\n",
              "https://www.ted.com/talks/helen_czerski_fun_hom...        12  ...   656791\n",
              "https://www.ted.com/talks/theo_e_j_wilson_a_bla...        32  ...   419309\n",
              "\n",
              "[471 rows x 16 columns]"
            ]
          },
          "metadata": {},
          "execution_count": 30
        }
      ]
    },
    {
      "cell_type": "code",
      "metadata": {
        "id": "DS_1n14yuUsx",
        "colab": {
          "base_uri": "https://localhost:8080/",
          "height": 162
        },
        "outputId": "b6ed1b90-2a0e-4c86-9321-f7514b0d88a3"
      },
      "source": [
        "ted_main[ted_main['comments']>X]"
      ],
      "execution_count": null,
      "outputs": [
        {
          "output_type": "error",
          "ename": "NameError",
          "evalue": "ignored",
          "traceback": [
            "\u001b[0;31m---------------------------------------------------------------------------\u001b[0m",
            "\u001b[0;31mNameError\u001b[0m                                 Traceback (most recent call last)",
            "\u001b[0;32m<ipython-input-31-7b8ab55e844a>\u001b[0m in \u001b[0;36m<module>\u001b[0;34m()\u001b[0m\n\u001b[0;32m----> 1\u001b[0;31m \u001b[0mted_main\u001b[0m\u001b[0;34m[\u001b[0m\u001b[0mted_main\u001b[0m\u001b[0;34m[\u001b[0m\u001b[0;34m'comments'\u001b[0m\u001b[0;34m]\u001b[0m\u001b[0;34m>\u001b[0m\u001b[0mX\u001b[0m\u001b[0;34m]\u001b[0m\u001b[0;34m\u001b[0m\u001b[0;34m\u001b[0m\u001b[0m\n\u001b[0m",
            "\u001b[0;31mNameError\u001b[0m: name 'X' is not defined"
          ]
        }
      ]
    },
    {
      "cell_type": "code",
      "metadata": {
        "id": "NjNWy8Hn4Dik",
        "colab": {
          "base_uri": "https://localhost:8080/",
          "height": 1000
        },
        "outputId": "ec103cc3-0192-4f66-d5cb-3b2596fba857"
      },
      "source": [
        "ted_main[ted_main['event'].apply(lambda string: 'TEDx' in string)]"
      ],
      "execution_count": null,
      "outputs": [
        {
          "output_type": "execute_result",
          "data": {
            "text/html": [
              "<div>\n",
              "<style scoped>\n",
              "    .dataframe tbody tr th:only-of-type {\n",
              "        vertical-align: middle;\n",
              "    }\n",
              "\n",
              "    .dataframe tbody tr th {\n",
              "        vertical-align: top;\n",
              "    }\n",
              "\n",
              "    .dataframe thead th {\n",
              "        text-align: right;\n",
              "    }\n",
              "</style>\n",
              "<table border=\"1\" class=\"dataframe\">\n",
              "  <thead>\n",
              "    <tr style=\"text-align: right;\">\n",
              "      <th></th>\n",
              "      <th>comments</th>\n",
              "      <th>description</th>\n",
              "      <th>duration</th>\n",
              "      <th>event</th>\n",
              "      <th>film_date</th>\n",
              "      <th>languages</th>\n",
              "      <th>main_speaker</th>\n",
              "      <th>name</th>\n",
              "      <th>num_speaker</th>\n",
              "      <th>published_date</th>\n",
              "      <th>ratings</th>\n",
              "      <th>related_talks</th>\n",
              "      <th>speaker_occupation</th>\n",
              "      <th>tags</th>\n",
              "      <th>title</th>\n",
              "      <th>views</th>\n",
              "    </tr>\n",
              "    <tr>\n",
              "      <th>url</th>\n",
              "      <th></th>\n",
              "      <th></th>\n",
              "      <th></th>\n",
              "      <th></th>\n",
              "      <th></th>\n",
              "      <th></th>\n",
              "      <th></th>\n",
              "      <th></th>\n",
              "      <th></th>\n",
              "      <th></th>\n",
              "      <th></th>\n",
              "      <th></th>\n",
              "      <th></th>\n",
              "      <th></th>\n",
              "      <th></th>\n",
              "      <th></th>\n",
              "    </tr>\n",
              "  </thead>\n",
              "  <tbody>\n",
              "    <tr>\n",
              "      <th>https://www.ted.com/talks/jane_poynter_life_in_biosphere_2\\n</th>\n",
              "      <td>103</td>\n",
              "      <td>Jane Poynter tells her story of living two yea...</td>\n",
              "      <td>953</td>\n",
              "      <td>TEDxUSC</td>\n",
              "      <td>1237766400</td>\n",
              "      <td>27</td>\n",
              "      <td>Jane Poynter</td>\n",
              "      <td>Jane Poynter: Life in Biosphere 2</td>\n",
              "      <td>1</td>\n",
              "      <td>1245027600</td>\n",
              "      <td>[{'id': 10, 'name': 'Inspiring', 'count': 407}...</td>\n",
              "      <td>[{'id': 490, 'hero': 'https://pe.tedcdn.com/im...</td>\n",
              "      <td>Biospherian</td>\n",
              "      <td>['TEDx', 'adventure', 'biotech', 'climate chan...</td>\n",
              "      <td>Life in Biosphere 2</td>\n",
              "      <td>843719</td>\n",
              "    </tr>\n",
              "    <tr>\n",
              "      <th>https://www.ted.com/talks/qi_zhang_s_electrifying_organ_performance\\n</th>\n",
              "      <td>135</td>\n",
              "      <td>Organ virtuoso Qi Zhang plays her electric ren...</td>\n",
              "      <td>185</td>\n",
              "      <td>TEDxUSC</td>\n",
              "      <td>1237766400</td>\n",
              "      <td>0</td>\n",
              "      <td>Qi Zhang</td>\n",
              "      <td>Qi Zhang: An electrifying organ performance</td>\n",
              "      <td>1</td>\n",
              "      <td>1245401400</td>\n",
              "      <td>[{'id': 23, 'name': 'Jaw-dropping', 'count': 3...</td>\n",
              "      <td>[{'id': 46, 'hero': 'https://pe.tedcdn.com/ima...</td>\n",
              "      <td>Organist</td>\n",
              "      <td>['TEDx', 'china', 'music', 'performance', 'pia...</td>\n",
              "      <td>An electrifying organ performance</td>\n",
              "      <td>803691</td>\n",
              "    </tr>\n",
              "    <tr>\n",
              "      <th>https://www.ted.com/talks/david_logan_on_tribal_leadership\\n</th>\n",
              "      <td>248</td>\n",
              "      <td>David Logan talks about the five kinds of trib...</td>\n",
              "      <td>999</td>\n",
              "      <td>TEDxUSC</td>\n",
              "      <td>1237766400</td>\n",
              "      <td>25</td>\n",
              "      <td>David Logan</td>\n",
              "      <td>David Logan: Tribal leadership</td>\n",
              "      <td>1</td>\n",
              "      <td>1254790800</td>\n",
              "      <td>[{'id': 22, 'name': 'Fascinating', 'count': 33...</td>\n",
              "      <td>[{'id': 538, 'hero': 'https://pe.tedcdn.com/im...</td>\n",
              "      <td>Professor of management</td>\n",
              "      <td>['TEDx', 'business', 'communication', 'culture...</td>\n",
              "      <td>Tribal leadership</td>\n",
              "      <td>1404586</td>\n",
              "    </tr>\n",
              "    <tr>\n",
              "      <th>https://www.ted.com/talks/john_gerzema_the_post_crisis_consumer\\n</th>\n",
              "      <td>133</td>\n",
              "      <td>John Gerzema says there's an upside to the rec...</td>\n",
              "      <td>994</td>\n",
              "      <td>TEDxKC</td>\n",
              "      <td>1250726400</td>\n",
              "      <td>21</td>\n",
              "      <td>John Gerzema</td>\n",
              "      <td>John Gerzema: The post-crisis consumer</td>\n",
              "      <td>1</td>\n",
              "      <td>1255914000</td>\n",
              "      <td>[{'id': 25, 'name': 'OK', 'count': 94}, {'id':...</td>\n",
              "      <td>[{'id': 658, 'hero': 'https://pe.tedcdn.com/im...</td>\n",
              "      <td>Marketing whiz</td>\n",
              "      <td>['TEDx', 'advertising', 'business', 'consumeri...</td>\n",
              "      <td>The post-crisis consumer</td>\n",
              "      <td>760493</td>\n",
              "    </tr>\n",
              "    <tr>\n",
              "      <th>https://www.ted.com/talks/paul_debevec_animates_a_photo_real_digital_face\\n</th>\n",
              "      <td>89</td>\n",
              "      <td>Computer graphics trailblazer Paul Debevec exp...</td>\n",
              "      <td>366</td>\n",
              "      <td>TEDxUSC</td>\n",
              "      <td>1237766400</td>\n",
              "      <td>24</td>\n",
              "      <td>Paul Debevec</td>\n",
              "      <td>Paul Debevec: Animating a photo-real digital face</td>\n",
              "      <td>1</td>\n",
              "      <td>1256029020</td>\n",
              "      <td>[{'id': 23, 'name': 'Jaw-dropping', 'count': 1...</td>\n",
              "      <td>[{'id': 469, 'hero': 'https://pe.tedcdn.com/im...</td>\n",
              "      <td>Computer graphics pioneer</td>\n",
              "      <td>['TEDx', 'animation', 'art', 'computers', 'des...</td>\n",
              "      <td>Animating a photo-real digital face</td>\n",
              "      <td>748862</td>\n",
              "    </tr>\n",
              "    <tr>\n",
              "      <th>...</th>\n",
              "      <td>...</td>\n",
              "      <td>...</td>\n",
              "      <td>...</td>\n",
              "      <td>...</td>\n",
              "      <td>...</td>\n",
              "      <td>...</td>\n",
              "      <td>...</td>\n",
              "      <td>...</td>\n",
              "      <td>...</td>\n",
              "      <td>...</td>\n",
              "      <td>...</td>\n",
              "      <td>...</td>\n",
              "      <td>...</td>\n",
              "      <td>...</td>\n",
              "      <td>...</td>\n",
              "      <td>...</td>\n",
              "    </tr>\n",
              "    <tr>\n",
              "      <th>https://www.ted.com/talks/benjamin_grant_what_it_feels_like_to_see_earth_from_space\\n</th>\n",
              "      <td>2</td>\n",
              "      <td>What the astronauts felt when they saw Earth f...</td>\n",
              "      <td>725</td>\n",
              "      <td>TEDxSkoll</td>\n",
              "      <td>1491523200</td>\n",
              "      <td>1</td>\n",
              "      <td>Benjamin Grant</td>\n",
              "      <td>Benjamin Grant: What it feels like to see Eart...</td>\n",
              "      <td>1</td>\n",
              "      <td>1504814438</td>\n",
              "      <td>[{'id': 10, 'name': 'Inspiring', 'count': 46},...</td>\n",
              "      <td>[{'id': 2511, 'hero': 'https://pe.tedcdn.com/i...</td>\n",
              "      <td>Author</td>\n",
              "      <td>['TEDx', 'art', 'climate change', 'environment...</td>\n",
              "      <td>What it feels like to see Earth from space</td>\n",
              "      <td>646174</td>\n",
              "    </tr>\n",
              "    <tr>\n",
              "      <th>https://www.ted.com/talks/caitlin_quattromani_and_lauran_arledge_how_our_friendship_survives_our_opposing_politics\\n</th>\n",
              "      <td>21</td>\n",
              "      <td>Can you still be friends with someone who does...</td>\n",
              "      <td>865</td>\n",
              "      <td>TEDxMileHigh</td>\n",
              "      <td>1499472000</td>\n",
              "      <td>5</td>\n",
              "      <td>Caitlin Quattromani and Lauran Arledge</td>\n",
              "      <td>Caitlin Quattromani and Lauran Arledge: How ou...</td>\n",
              "      <td>2</td>\n",
              "      <td>1505142060</td>\n",
              "      <td>[{'id': 3, 'name': 'Courageous', 'count': 45},...</td>\n",
              "      <td>[{'id': 2625, 'hero': 'https://pe.tedcdn.com/i...</td>\n",
              "      <td>Marketing leader</td>\n",
              "      <td>['TEDx', 'communication', 'friendship', 'polit...</td>\n",
              "      <td>How our friendship survives our opposing politics</td>\n",
              "      <td>566101</td>\n",
              "    </tr>\n",
              "    <tr>\n",
              "      <th>https://www.ted.com/talks/alexander_wagner_what_really_motivates_people_to_be_honest_in_business\\n</th>\n",
              "      <td>7</td>\n",
              "      <td>Each year, one in seven large corporations com...</td>\n",
              "      <td>808</td>\n",
              "      <td>TEDxZurich</td>\n",
              "      <td>1478822400</td>\n",
              "      <td>1</td>\n",
              "      <td>Alexander Wagner</td>\n",
              "      <td>Alexander Wagner: What really motivates people...</td>\n",
              "      <td>1</td>\n",
              "      <td>1505246451</td>\n",
              "      <td>[{'id': 10, 'name': 'Inspiring', 'count': 50},...</td>\n",
              "      <td>[{'id': 1246, 'hero': 'https://pe.tedcdn.com/i...</td>\n",
              "      <td>Economist</td>\n",
              "      <td>['TEDx', 'business', 'corruption', 'economics'...</td>\n",
              "      <td>What really motivates people to be honest in b...</td>\n",
              "      <td>621431</td>\n",
              "    </tr>\n",
              "    <tr>\n",
              "      <th>https://www.ted.com/talks/helen_czerski_fun_home_experiments_that_teach_you_physics\\n</th>\n",
              "      <td>12</td>\n",
              "      <td>Physics doesn't just happen in a fancy lab -- ...</td>\n",
              "      <td>957</td>\n",
              "      <td>TEDxManchester</td>\n",
              "      <td>1487462400</td>\n",
              "      <td>2</td>\n",
              "      <td>Helen Czerski</td>\n",
              "      <td>Helen Czerski: The fascinating physics of ever...</td>\n",
              "      <td>1</td>\n",
              "      <td>1505419202</td>\n",
              "      <td>[{'id': 11, 'name': 'Longwinded', 'count': 29}...</td>\n",
              "      <td>[{'id': 2491, 'hero': 'https://pe.tedcdn.com/i...</td>\n",
              "      <td>Physicist</td>\n",
              "      <td>['TEDx', 'physics', 'play', 'science']</td>\n",
              "      <td>The fascinating physics of everyday life</td>\n",
              "      <td>656791</td>\n",
              "    </tr>\n",
              "    <tr>\n",
              "      <th>https://www.ted.com/talks/theo_e_j_wilson_a_black_man_goes_undercover_in_the_alt_right\\n</th>\n",
              "      <td>32</td>\n",
              "      <td>In an unmissable talk about race and politics ...</td>\n",
              "      <td>1100</td>\n",
              "      <td>TEDxMileHigh</td>\n",
              "      <td>1499472000</td>\n",
              "      <td>1</td>\n",
              "      <td>Theo E.J. Wilson</td>\n",
              "      <td>Theo E.J. Wilson: A black man goes undercover ...</td>\n",
              "      <td>1</td>\n",
              "      <td>1506024042</td>\n",
              "      <td>[{'id': 11, 'name': 'Longwinded', 'count': 3},...</td>\n",
              "      <td>[{'id': 2512, 'hero': 'https://pe.tedcdn.com/i...</td>\n",
              "      <td>Public intellectual</td>\n",
              "      <td>['Internet', 'TEDx', 'United States', 'communi...</td>\n",
              "      <td>A black man goes undercover in the alt-right</td>\n",
              "      <td>419309</td>\n",
              "    </tr>\n",
              "  </tbody>\n",
              "</table>\n",
              "<p>471 rows × 16 columns</p>\n",
              "</div>"
            ],
            "text/plain": [
              "                                                    comments  ...    views\n",
              "url                                                           ...         \n",
              "https://www.ted.com/talks/jane_poynter_life_in_...       103  ...   843719\n",
              "https://www.ted.com/talks/qi_zhang_s_electrifyi...       135  ...   803691\n",
              "https://www.ted.com/talks/david_logan_on_tribal...       248  ...  1404586\n",
              "https://www.ted.com/talks/john_gerzema_the_post...       133  ...   760493\n",
              "https://www.ted.com/talks/paul_debevec_animates...        89  ...   748862\n",
              "...                                                      ...  ...      ...\n",
              "https://www.ted.com/talks/benjamin_grant_what_i...         2  ...   646174\n",
              "https://www.ted.com/talks/caitlin_quattromani_a...        21  ...   566101\n",
              "https://www.ted.com/talks/alexander_wagner_what...         7  ...   621431\n",
              "https://www.ted.com/talks/helen_czerski_fun_hom...        12  ...   656791\n",
              "https://www.ted.com/talks/theo_e_j_wilson_a_bla...        32  ...   419309\n",
              "\n",
              "[471 rows x 16 columns]"
            ]
          },
          "metadata": {},
          "execution_count": 32
        }
      ]
    },
    {
      "cell_type": "markdown",
      "metadata": {
        "id": "h7BWFZbj4LaY"
      },
      "source": [
        "#### This is equivalent to:"
      ]
    },
    {
      "cell_type": "code",
      "metadata": {
        "id": "hRhzk7zj4K4Y",
        "colab": {
          "base_uri": "https://localhost:8080/"
        },
        "outputId": "0434e301-5e8b-45d9-9c8c-2541b56f4923"
      },
      "source": [
        "def is_TEDx(string):\n",
        "  return 'TEDx' in string\n",
        "ted_main['event'].apply(is_TEDx)"
      ],
      "execution_count": null,
      "outputs": [
        {
          "output_type": "execute_result",
          "data": {
            "text/plain": [
              "url\n",
              "https://www.ted.com/talks/ken_robinson_says_schools_kill_creativity\\n                                   False\n",
              "https://www.ted.com/talks/al_gore_on_averting_climate_crisis\\n                                          False\n",
              "https://www.ted.com/talks/david_pogue_says_simplicity_sells\\n                                           False\n",
              "https://www.ted.com/talks/majora_carter_s_tale_of_urban_renewal\\n                                       False\n",
              "https://www.ted.com/talks/hans_rosling_shows_the_best_stats_you_ve_ever_seen\\n                          False\n",
              "                                                                                                        ...  \n",
              "https://www.ted.com/talks/duarte_geraldino_what_we_re_missing_in_the_debate_about_immigration\\n         False\n",
              "https://www.ted.com/talks/armando_azua_bustos_the_most_martian_place_on_earth\\n                         False\n",
              "https://www.ted.com/talks/radhika_nagpal_what_intelligent_machines_can_learn_from_a_school_of_fish\\n    False\n",
              "https://www.ted.com/talks/theo_e_j_wilson_a_black_man_goes_undercover_in_the_alt_right\\n                 True\n",
              "https://www.ted.com/talks/karoliina_korppoo_how_a_video_game_might_help_us_build_better_cities\\n        False\n",
              "Name: event, Length: 2550, dtype: bool"
            ]
          },
          "metadata": {},
          "execution_count": 33
        }
      ]
    },
    {
      "cell_type": "markdown",
      "metadata": {
        "id": "enOgQ5pB2M0S"
      },
      "source": [
        "# Sorting"
      ]
    },
    {
      "cell_type": "code",
      "metadata": {
        "id": "LAh7iD4N2LEm",
        "colab": {
          "base_uri": "https://localhost:8080/",
          "height": 1000
        },
        "outputId": "717ca1e3-354b-4d23-9986-0dc5c2b9667c"
      },
      "source": [
        "ted_main.sort_values(by=['duration', 'event'], ascending=[True, False])"
      ],
      "execution_count": null,
      "outputs": [
        {
          "output_type": "execute_result",
          "data": {
            "text/html": [
              "<div>\n",
              "<style scoped>\n",
              "    .dataframe tbody tr th:only-of-type {\n",
              "        vertical-align: middle;\n",
              "    }\n",
              "\n",
              "    .dataframe tbody tr th {\n",
              "        vertical-align: top;\n",
              "    }\n",
              "\n",
              "    .dataframe thead th {\n",
              "        text-align: right;\n",
              "    }\n",
              "</style>\n",
              "<table border=\"1\" class=\"dataframe\">\n",
              "  <thead>\n",
              "    <tr style=\"text-align: right;\">\n",
              "      <th></th>\n",
              "      <th>comments</th>\n",
              "      <th>description</th>\n",
              "      <th>duration</th>\n",
              "      <th>event</th>\n",
              "      <th>film_date</th>\n",
              "      <th>languages</th>\n",
              "      <th>main_speaker</th>\n",
              "      <th>name</th>\n",
              "      <th>num_speaker</th>\n",
              "      <th>published_date</th>\n",
              "      <th>ratings</th>\n",
              "      <th>related_talks</th>\n",
              "      <th>speaker_occupation</th>\n",
              "      <th>tags</th>\n",
              "      <th>title</th>\n",
              "      <th>views</th>\n",
              "    </tr>\n",
              "    <tr>\n",
              "      <th>url</th>\n",
              "      <th></th>\n",
              "      <th></th>\n",
              "      <th></th>\n",
              "      <th></th>\n",
              "      <th></th>\n",
              "      <th></th>\n",
              "      <th></th>\n",
              "      <th></th>\n",
              "      <th></th>\n",
              "      <th></th>\n",
              "      <th></th>\n",
              "      <th></th>\n",
              "      <th></th>\n",
              "      <th></th>\n",
              "      <th></th>\n",
              "      <th></th>\n",
              "    </tr>\n",
              "  </thead>\n",
              "  <tbody>\n",
              "    <tr>\n",
              "      <th>https://www.ted.com/talks/murray_gell_mann_on_the_ancestor_of_language\\n</th>\n",
              "      <td>76</td>\n",
              "      <td>After speaking at TED2007 on elegance in physi...</td>\n",
              "      <td>135</td>\n",
              "      <td>TED2007</td>\n",
              "      <td>1172880000</td>\n",
              "      <td>61</td>\n",
              "      <td>Murray Gell-Mann</td>\n",
              "      <td>Murray Gell-Mann: The ancestor of language</td>\n",
              "      <td>1</td>\n",
              "      <td>1213146000</td>\n",
              "      <td>[{'id': 22, 'name': 'Fascinating', 'count': 78...</td>\n",
              "      <td>[{'id': 161, 'hero': 'https://pe.tedcdn.com/im...</td>\n",
              "      <td>Physicist</td>\n",
              "      <td>['culture', 'global issues', 'history', 'langu...</td>\n",
              "      <td>The ancestor of language</td>\n",
              "      <td>785293</td>\n",
              "    </tr>\n",
              "    <tr>\n",
              "      <th>https://www.ted.com/talks/nellie_mckay_sings_clonie_1\\n</th>\n",
              "      <td>42</td>\n",
              "      <td>Singer-songwriter Nellie McKay performs the se...</td>\n",
              "      <td>140</td>\n",
              "      <td>TED2008</td>\n",
              "      <td>1204243200</td>\n",
              "      <td>39</td>\n",
              "      <td>Nellie McKay</td>\n",
              "      <td>Nellie McKay: \"Clonie\"</td>\n",
              "      <td>1</td>\n",
              "      <td>1214528400</td>\n",
              "      <td>[{'id': 25, 'name': 'OK', 'count': 104}, {'id'...</td>\n",
              "      <td>[{'id': 325, 'hero': 'https://pe.tedcdn.com/im...</td>\n",
              "      <td>Singer/songwriter</td>\n",
              "      <td>['culture', 'entertainment', 'genetics', 'live...</td>\n",
              "      <td>\"Clonie\"</td>\n",
              "      <td>680591</td>\n",
              "    </tr>\n",
              "    <tr>\n",
              "      <th>https://www.ted.com/talks/matthew_white_gives_the_euphonium_a_new_voice\\n</th>\n",
              "      <td>46</td>\n",
              "      <td>The euphonium, with its sweet brass sound, is ...</td>\n",
              "      <td>141</td>\n",
              "      <td>TEDGlobal 2009</td>\n",
              "      <td>1248307200</td>\n",
              "      <td>0</td>\n",
              "      <td>Matthew White</td>\n",
              "      <td>Matthew White: The modern euphonium</td>\n",
              "      <td>1</td>\n",
              "      <td>1256864400</td>\n",
              "      <td>[{'id': 9, 'name': 'Ingenious', 'count': 43}, ...</td>\n",
              "      <td>[{'id': 478, 'hero': 'https://pe.tedcdn.com/im...</td>\n",
              "      <td>Brass virtuoso</td>\n",
              "      <td>['creativity', 'live music', 'music', 'perform...</td>\n",
              "      <td>The modern euphonium</td>\n",
              "      <td>771962</td>\n",
              "    </tr>\n",
              "    <tr>\n",
              "      <th>https://www.ted.com/talks/yves_behar_s_supercharged_motorcycle_design\\n</th>\n",
              "      <td>62</td>\n",
              "      <td>Yves Behar and Forrest North unveil Mission On...</td>\n",
              "      <td>143</td>\n",
              "      <td>TED2009</td>\n",
              "      <td>1233878400</td>\n",
              "      <td>45</td>\n",
              "      <td>Yves Behar</td>\n",
              "      <td>Yves Behar: A supercharged motorcycle design</td>\n",
              "      <td>1</td>\n",
              "      <td>1242982440</td>\n",
              "      <td>[{'id': 7, 'name': 'Funny', 'count': 30}, {'id...</td>\n",
              "      <td>[{'id': 266, 'hero': 'https://pe.tedcdn.com/im...</td>\n",
              "      <td>Designer</td>\n",
              "      <td>['cars', 'design', 'engineering', 'green', 'tr...</td>\n",
              "      <td>A supercharged motorcycle design</td>\n",
              "      <td>556657</td>\n",
              "    </tr>\n",
              "    <tr>\n",
              "      <th>https://www.ted.com/talks/marisa_fick_jordan_shares_the_wonder_of_zulu_wire_art\\n</th>\n",
              "      <td>15</td>\n",
              "      <td>In this short, image-packed talk, Marisa Fick-...</td>\n",
              "      <td>153</td>\n",
              "      <td>TEDGlobal 2007</td>\n",
              "      <td>1181088000</td>\n",
              "      <td>43</td>\n",
              "      <td>Marisa Fick-Jordan</td>\n",
              "      <td>Marisa Fick-Jordan: The wonder of Zulu wire art</td>\n",
              "      <td>1</td>\n",
              "      <td>1216666500</td>\n",
              "      <td>[{'id': 1, 'name': 'Beautiful', 'count': 81}, ...</td>\n",
              "      <td>[{'id': 127, 'hero': 'https://pe.tedcdn.com/im...</td>\n",
              "      <td>Craft artist, product designer</td>\n",
              "      <td>['Africa', 'art', 'business', 'design']</td>\n",
              "      <td>The wonder of Zulu wire art</td>\n",
              "      <td>294961</td>\n",
              "    </tr>\n",
              "    <tr>\n",
              "      <th>...</th>\n",
              "      <td>...</td>\n",
              "      <td>...</td>\n",
              "      <td>...</td>\n",
              "      <td>...</td>\n",
              "      <td>...</td>\n",
              "      <td>...</td>\n",
              "      <td>...</td>\n",
              "      <td>...</td>\n",
              "      <td>...</td>\n",
              "      <td>...</td>\n",
              "      <td>...</td>\n",
              "      <td>...</td>\n",
              "      <td>...</td>\n",
              "      <td>...</td>\n",
              "      <td>...</td>\n",
              "      <td>...</td>\n",
              "    </tr>\n",
              "    <tr>\n",
              "      <th>https://www.ted.com/talks/edwidge_danticat_stories_of_haiti\\n</th>\n",
              "      <td>20</td>\n",
              "      <td>In the midst of an earlier crisis, Haitian aut...</td>\n",
              "      <td>3573</td>\n",
              "      <td>University of California</td>\n",
              "      <td>1097625600</td>\n",
              "      <td>0</td>\n",
              "      <td>Edwidge Danticat</td>\n",
              "      <td>Edwidge Danticat: Stories of Haiti</td>\n",
              "      <td>1</td>\n",
              "      <td>1263481440</td>\n",
              "      <td>[{'id': 1, 'name': 'Beautiful', 'count': 25}, ...</td>\n",
              "      <td>[{'id': 652, 'hero': 'https://pe.tedcdn.com/im...</td>\n",
              "      <td>Author</td>\n",
              "      <td>['books', 'disaster relief', 'novel', 'poetry'...</td>\n",
              "      <td>Stories of Haiti</td>\n",
              "      <td>50443</td>\n",
              "    </tr>\n",
              "    <tr>\n",
              "      <th>https://www.ted.com/talks/yuval_noah_harari_nationalism_vs_globalism_the_new_political_divide\\n</th>\n",
              "      <td>345</td>\n",
              "      <td>How do we make sense of today's political divi...</td>\n",
              "      <td>3608</td>\n",
              "      <td>TED Dialogues</td>\n",
              "      <td>1487116800</td>\n",
              "      <td>19</td>\n",
              "      <td>Yuval Noah Harari</td>\n",
              "      <td>Yuval Noah Harari: Nationalism vs. globalism: ...</td>\n",
              "      <td>2</td>\n",
              "      <td>1487604924</td>\n",
              "      <td>[{'id': 8, 'name': 'Informative', 'count': 583...</td>\n",
              "      <td>[{'id': 2625, 'hero': 'https://pe.tedcdn.com/i...</td>\n",
              "      <td>Historian</td>\n",
              "      <td>['big problems', 'climate change', 'collaborat...</td>\n",
              "      <td>Nationalism vs. globalism: the new political d...</td>\n",
              "      <td>1514291</td>\n",
              "    </tr>\n",
              "    <tr>\n",
              "      <th>https://www.ted.com/talks/richard_feynman\\n</th>\n",
              "      <td>146</td>\n",
              "      <td>In this archival footage from BBC TV, celebrat...</td>\n",
              "      <td>3955</td>\n",
              "      <td>BBC TV</td>\n",
              "      <td>426531600</td>\n",
              "      <td>0</td>\n",
              "      <td>Richard Feynman</td>\n",
              "      <td>Richard Feynman: Physics is fun to imagine</td>\n",
              "      <td>1</td>\n",
              "      <td>1267631820</td>\n",
              "      <td>[{'id': 8, 'name': 'Informative', 'count': 324...</td>\n",
              "      <td>[{'id': 194, 'hero': 'https://pe.tedcdn.com/im...</td>\n",
              "      <td>Physicist</td>\n",
              "      <td>['astronomy', 'physics', 'science']</td>\n",
              "      <td>Physics is fun to imagine</td>\n",
              "      <td>521974</td>\n",
              "    </tr>\n",
              "    <tr>\n",
              "      <th>https://www.ted.com/talks/randy_pausch_really_achieving_your_childhood_dreams\\n</th>\n",
              "      <td>124</td>\n",
              "      <td>In 2007, Carnegie Mellon professor Randy Pausc...</td>\n",
              "      <td>4587</td>\n",
              "      <td>Carnegie Mellon University</td>\n",
              "      <td>1190073600</td>\n",
              "      <td>0</td>\n",
              "      <td>Randy Pausch</td>\n",
              "      <td>Randy Pausch: Really achieving your childhood ...</td>\n",
              "      <td>1</td>\n",
              "      <td>1262950320</td>\n",
              "      <td>[{'id': 3, 'name': 'Courageous', 'count': 299}...</td>\n",
              "      <td>[{'id': 229, 'hero': 'https://pe.tedcdn.com/im...</td>\n",
              "      <td>Professor</td>\n",
              "      <td>['culture', 'disease', 'education', 'life', 's...</td>\n",
              "      <td>Really achieving your childhood dreams</td>\n",
              "      <td>564781</td>\n",
              "    </tr>\n",
              "    <tr>\n",
              "      <th>https://www.ted.com/talks/douglas_adams_parrots_the_universe_and_everything\\n</th>\n",
              "      <td>101</td>\n",
              "      <td>Blind river dolphins, reclusive lemurs, a parr...</td>\n",
              "      <td>5256</td>\n",
              "      <td>University of California</td>\n",
              "      <td>989971200</td>\n",
              "      <td>0</td>\n",
              "      <td>Douglas Adams</td>\n",
              "      <td>Douglas Adams: Parrots, the universe and every...</td>\n",
              "      <td>1</td>\n",
              "      <td>1268762040</td>\n",
              "      <td>[{'id': 22, 'name': 'Fascinating', 'count': 29...</td>\n",
              "      <td>[{'id': 635, 'hero': 'https://pe.tedcdn.com/im...</td>\n",
              "      <td>Author, satirist</td>\n",
              "      <td>['biodiversity', 'biology', 'comedy', 'humor',...</td>\n",
              "      <td>Parrots, the universe and everything</td>\n",
              "      <td>473220</td>\n",
              "    </tr>\n",
              "  </tbody>\n",
              "</table>\n",
              "<p>2550 rows × 16 columns</p>\n",
              "</div>"
            ],
            "text/plain": [
              "                                                    comments  ...    views\n",
              "url                                                           ...         \n",
              "https://www.ted.com/talks/murray_gell_mann_on_t...        76  ...   785293\n",
              "https://www.ted.com/talks/nellie_mckay_sings_cl...        42  ...   680591\n",
              "https://www.ted.com/talks/matthew_white_gives_t...        46  ...   771962\n",
              "https://www.ted.com/talks/yves_behar_s_supercha...        62  ...   556657\n",
              "https://www.ted.com/talks/marisa_fick_jordan_sh...        15  ...   294961\n",
              "...                                                      ...  ...      ...\n",
              "https://www.ted.com/talks/edwidge_danticat_stor...        20  ...    50443\n",
              "https://www.ted.com/talks/yuval_noah_harari_nat...       345  ...  1514291\n",
              "https://www.ted.com/talks/richard_feynman\\n              146  ...   521974\n",
              "https://www.ted.com/talks/randy_pausch_really_a...       124  ...   564781\n",
              "https://www.ted.com/talks/douglas_adams_parrots...       101  ...   473220\n",
              "\n",
              "[2550 rows x 16 columns]"
            ]
          },
          "metadata": {},
          "execution_count": 34
        }
      ]
    },
    {
      "cell_type": "markdown",
      "metadata": {
        "id": "sQWiGawW51Qi"
      },
      "source": [
        "# Preprocessing "
      ]
    },
    {
      "cell_type": "code",
      "metadata": {
        "colab": {
          "base_uri": "https://localhost:8080/"
        },
        "id": "oM5gsTV8vSqO",
        "outputId": "8b159f7c-940c-4639-bcec-6b59020c59a6"
      },
      "source": [
        "\n",
        "sum([True, False, True])"
      ],
      "execution_count": null,
      "outputs": [
        {
          "output_type": "execute_result",
          "data": {
            "text/plain": [
              "2"
            ]
          },
          "metadata": {},
          "execution_count": 35
        }
      ]
    },
    {
      "cell_type": "code",
      "metadata": {
        "id": "MjYmeIzrYjLR",
        "colab": {
          "base_uri": "https://localhost:8080/"
        },
        "outputId": "52ac75bd-2e13-4e7a-d909-5090874d1269"
      },
      "source": [
        "  ted_main.isnull().sum()"
      ],
      "execution_count": null,
      "outputs": [
        {
          "output_type": "execute_result",
          "data": {
            "text/plain": [
              "comments              0\n",
              "description           0\n",
              "duration              0\n",
              "event                 0\n",
              "film_date             0\n",
              "languages             0\n",
              "main_speaker          0\n",
              "name                  0\n",
              "num_speaker           0\n",
              "published_date        0\n",
              "ratings               0\n",
              "related_talks         0\n",
              "speaker_occupation    6\n",
              "tags                  0\n",
              "title                 0\n",
              "views                 0\n",
              "dtype: int64"
            ]
          },
          "metadata": {},
          "execution_count": 36
        }
      ]
    },
    {
      "cell_type": "code",
      "metadata": {
        "id": "JbWUmVyaYrJh",
        "colab": {
          "base_uri": "https://localhost:8080/"
        },
        "outputId": "a1701fa6-2e16-48a5-9c6a-4c3ca48f50f1"
      },
      "source": [
        "ted_main.shape"
      ],
      "execution_count": null,
      "outputs": [
        {
          "output_type": "execute_result",
          "data": {
            "text/plain": [
              "(2550, 16)"
            ]
          },
          "metadata": {},
          "execution_count": 37
        }
      ]
    },
    {
      "cell_type": "markdown",
      "metadata": {
        "id": "_3L_329TIz2j"
      },
      "source": [
        "## Replacing missing values"
      ]
    },
    {
      "cell_type": "code",
      "metadata": {
        "id": "tb_Fro80wqyg",
        "colab": {
          "base_uri": "https://localhost:8080/",
          "height": 1000
        },
        "outputId": "e8b37183-319b-4fa8-c665-844a83e0393e"
      },
      "source": [
        "\n",
        "ted_main.fillna({'speaker_occupation':\"Not specified\", \"duration\":0})"
      ],
      "execution_count": null,
      "outputs": [
        {
          "output_type": "execute_result",
          "data": {
            "text/html": [
              "<div>\n",
              "<style scoped>\n",
              "    .dataframe tbody tr th:only-of-type {\n",
              "        vertical-align: middle;\n",
              "    }\n",
              "\n",
              "    .dataframe tbody tr th {\n",
              "        vertical-align: top;\n",
              "    }\n",
              "\n",
              "    .dataframe thead th {\n",
              "        text-align: right;\n",
              "    }\n",
              "</style>\n",
              "<table border=\"1\" class=\"dataframe\">\n",
              "  <thead>\n",
              "    <tr style=\"text-align: right;\">\n",
              "      <th></th>\n",
              "      <th>comments</th>\n",
              "      <th>description</th>\n",
              "      <th>duration</th>\n",
              "      <th>event</th>\n",
              "      <th>film_date</th>\n",
              "      <th>languages</th>\n",
              "      <th>main_speaker</th>\n",
              "      <th>name</th>\n",
              "      <th>num_speaker</th>\n",
              "      <th>published_date</th>\n",
              "      <th>ratings</th>\n",
              "      <th>related_talks</th>\n",
              "      <th>speaker_occupation</th>\n",
              "      <th>tags</th>\n",
              "      <th>title</th>\n",
              "      <th>views</th>\n",
              "    </tr>\n",
              "    <tr>\n",
              "      <th>url</th>\n",
              "      <th></th>\n",
              "      <th></th>\n",
              "      <th></th>\n",
              "      <th></th>\n",
              "      <th></th>\n",
              "      <th></th>\n",
              "      <th></th>\n",
              "      <th></th>\n",
              "      <th></th>\n",
              "      <th></th>\n",
              "      <th></th>\n",
              "      <th></th>\n",
              "      <th></th>\n",
              "      <th></th>\n",
              "      <th></th>\n",
              "      <th></th>\n",
              "    </tr>\n",
              "  </thead>\n",
              "  <tbody>\n",
              "    <tr>\n",
              "      <th>https://www.ted.com/talks/ken_robinson_says_schools_kill_creativity\\n</th>\n",
              "      <td>4553</td>\n",
              "      <td>Sir Ken Robinson makes an entertaining and pro...</td>\n",
              "      <td>1164</td>\n",
              "      <td>TED2006</td>\n",
              "      <td>1140825600</td>\n",
              "      <td>60</td>\n",
              "      <td>Ken Robinson</td>\n",
              "      <td>Ken Robinson: Do schools kill creativity?</td>\n",
              "      <td>1</td>\n",
              "      <td>1151367060</td>\n",
              "      <td>[{'id': 7, 'name': 'Funny', 'count': 19645}, {...</td>\n",
              "      <td>[{'id': 865, 'hero': 'https://pe.tedcdn.com/im...</td>\n",
              "      <td>Author/educator</td>\n",
              "      <td>['children', 'creativity', 'culture', 'dance',...</td>\n",
              "      <td>Do schools kill creativity?</td>\n",
              "      <td>47227110</td>\n",
              "    </tr>\n",
              "    <tr>\n",
              "      <th>https://www.ted.com/talks/al_gore_on_averting_climate_crisis\\n</th>\n",
              "      <td>265</td>\n",
              "      <td>With the same humor and humanity he exuded in ...</td>\n",
              "      <td>977</td>\n",
              "      <td>TED2006</td>\n",
              "      <td>1140825600</td>\n",
              "      <td>43</td>\n",
              "      <td>Al Gore</td>\n",
              "      <td>Al Gore: Averting the climate crisis</td>\n",
              "      <td>1</td>\n",
              "      <td>1151367060</td>\n",
              "      <td>[{'id': 7, 'name': 'Funny', 'count': 544}, {'i...</td>\n",
              "      <td>[{'id': 243, 'hero': 'https://pe.tedcdn.com/im...</td>\n",
              "      <td>Climate advocate</td>\n",
              "      <td>['alternative energy', 'cars', 'climate change...</td>\n",
              "      <td>Averting the climate crisis</td>\n",
              "      <td>3200520</td>\n",
              "    </tr>\n",
              "    <tr>\n",
              "      <th>https://www.ted.com/talks/david_pogue_says_simplicity_sells\\n</th>\n",
              "      <td>124</td>\n",
              "      <td>New York Times columnist David Pogue takes aim...</td>\n",
              "      <td>1286</td>\n",
              "      <td>TED2006</td>\n",
              "      <td>1140739200</td>\n",
              "      <td>26</td>\n",
              "      <td>David Pogue</td>\n",
              "      <td>David Pogue: Simplicity sells</td>\n",
              "      <td>1</td>\n",
              "      <td>1151367060</td>\n",
              "      <td>[{'id': 7, 'name': 'Funny', 'count': 964}, {'i...</td>\n",
              "      <td>[{'id': 1725, 'hero': 'https://pe.tedcdn.com/i...</td>\n",
              "      <td>Technology columnist</td>\n",
              "      <td>['computers', 'entertainment', 'interface desi...</td>\n",
              "      <td>Simplicity sells</td>\n",
              "      <td>1636292</td>\n",
              "    </tr>\n",
              "    <tr>\n",
              "      <th>https://www.ted.com/talks/majora_carter_s_tale_of_urban_renewal\\n</th>\n",
              "      <td>200</td>\n",
              "      <td>In an emotionally charged talk, MacArthur-winn...</td>\n",
              "      <td>1116</td>\n",
              "      <td>TED2006</td>\n",
              "      <td>1140912000</td>\n",
              "      <td>35</td>\n",
              "      <td>Majora Carter</td>\n",
              "      <td>Majora Carter: Greening the ghetto</td>\n",
              "      <td>1</td>\n",
              "      <td>1151367060</td>\n",
              "      <td>[{'id': 3, 'name': 'Courageous', 'count': 760}...</td>\n",
              "      <td>[{'id': 1041, 'hero': 'https://pe.tedcdn.com/i...</td>\n",
              "      <td>Activist for environmental justice</td>\n",
              "      <td>['MacArthur grant', 'activism', 'business', 'c...</td>\n",
              "      <td>Greening the ghetto</td>\n",
              "      <td>1697550</td>\n",
              "    </tr>\n",
              "    <tr>\n",
              "      <th>https://www.ted.com/talks/hans_rosling_shows_the_best_stats_you_ve_ever_seen\\n</th>\n",
              "      <td>593</td>\n",
              "      <td>You've never seen data presented like this. Wi...</td>\n",
              "      <td>1190</td>\n",
              "      <td>TED2006</td>\n",
              "      <td>1140566400</td>\n",
              "      <td>48</td>\n",
              "      <td>Hans Rosling</td>\n",
              "      <td>Hans Rosling: The best stats you've ever seen</td>\n",
              "      <td>1</td>\n",
              "      <td>1151440680</td>\n",
              "      <td>[{'id': 9, 'name': 'Ingenious', 'count': 3202}...</td>\n",
              "      <td>[{'id': 2056, 'hero': 'https://pe.tedcdn.com/i...</td>\n",
              "      <td>Global health expert; data visionary</td>\n",
              "      <td>['Africa', 'Asia', 'Google', 'demo', 'economic...</td>\n",
              "      <td>The best stats you've ever seen</td>\n",
              "      <td>12005869</td>\n",
              "    </tr>\n",
              "    <tr>\n",
              "      <th>...</th>\n",
              "      <td>...</td>\n",
              "      <td>...</td>\n",
              "      <td>...</td>\n",
              "      <td>...</td>\n",
              "      <td>...</td>\n",
              "      <td>...</td>\n",
              "      <td>...</td>\n",
              "      <td>...</td>\n",
              "      <td>...</td>\n",
              "      <td>...</td>\n",
              "      <td>...</td>\n",
              "      <td>...</td>\n",
              "      <td>...</td>\n",
              "      <td>...</td>\n",
              "      <td>...</td>\n",
              "      <td>...</td>\n",
              "    </tr>\n",
              "    <tr>\n",
              "      <th>https://www.ted.com/talks/duarte_geraldino_what_we_re_missing_in_the_debate_about_immigration\\n</th>\n",
              "      <td>17</td>\n",
              "      <td>Between 2008 and 2016, the United States depor...</td>\n",
              "      <td>476</td>\n",
              "      <td>TED2017</td>\n",
              "      <td>1496707200</td>\n",
              "      <td>4</td>\n",
              "      <td>Duarte Geraldino</td>\n",
              "      <td>Duarte Geraldino: What we're missing in the de...</td>\n",
              "      <td>1</td>\n",
              "      <td>1505851216</td>\n",
              "      <td>[{'id': 3, 'name': 'Courageous', 'count': 24},...</td>\n",
              "      <td>[{'id': 2596, 'hero': 'https://pe.tedcdn.com/i...</td>\n",
              "      <td>Journalist</td>\n",
              "      <td>['TED Residency', 'United States', 'community'...</td>\n",
              "      <td>What we're missing in the debate about immigra...</td>\n",
              "      <td>450430</td>\n",
              "    </tr>\n",
              "    <tr>\n",
              "      <th>https://www.ted.com/talks/armando_azua_bustos_the_most_martian_place_on_earth\\n</th>\n",
              "      <td>6</td>\n",
              "      <td>How can you study Mars without a spaceship? He...</td>\n",
              "      <td>290</td>\n",
              "      <td>TED2017</td>\n",
              "      <td>1492992000</td>\n",
              "      <td>3</td>\n",
              "      <td>Armando Azua-Bustos</td>\n",
              "      <td>Armando Azua-Bustos: The most Martian place on...</td>\n",
              "      <td>1</td>\n",
              "      <td>1505919737</td>\n",
              "      <td>[{'id': 22, 'name': 'Fascinating', 'count': 32...</td>\n",
              "      <td>[{'id': 2491, 'hero': 'https://pe.tedcdn.com/i...</td>\n",
              "      <td>Astrobiologist</td>\n",
              "      <td>['Mars', 'South America', 'TED Fellows', 'astr...</td>\n",
              "      <td>The most Martian place on Earth</td>\n",
              "      <td>417470</td>\n",
              "    </tr>\n",
              "    <tr>\n",
              "      <th>https://www.ted.com/talks/radhika_nagpal_what_intelligent_machines_can_learn_from_a_school_of_fish\\n</th>\n",
              "      <td>10</td>\n",
              "      <td>Science fiction visions of the future show us ...</td>\n",
              "      <td>651</td>\n",
              "      <td>TED2017</td>\n",
              "      <td>1492992000</td>\n",
              "      <td>1</td>\n",
              "      <td>Radhika Nagpal</td>\n",
              "      <td>Radhika Nagpal: What intelligent machines can ...</td>\n",
              "      <td>1</td>\n",
              "      <td>1506006095</td>\n",
              "      <td>[{'id': 1, 'name': 'Beautiful', 'count': 14}, ...</td>\n",
              "      <td>[{'id': 2346, 'hero': 'https://pe.tedcdn.com/i...</td>\n",
              "      <td>Robotics engineer</td>\n",
              "      <td>['AI', 'ants', 'fish', 'future', 'innovation',...</td>\n",
              "      <td>What intelligent machines can learn from a sch...</td>\n",
              "      <td>375647</td>\n",
              "    </tr>\n",
              "    <tr>\n",
              "      <th>https://www.ted.com/talks/theo_e_j_wilson_a_black_man_goes_undercover_in_the_alt_right\\n</th>\n",
              "      <td>32</td>\n",
              "      <td>In an unmissable talk about race and politics ...</td>\n",
              "      <td>1100</td>\n",
              "      <td>TEDxMileHigh</td>\n",
              "      <td>1499472000</td>\n",
              "      <td>1</td>\n",
              "      <td>Theo E.J. Wilson</td>\n",
              "      <td>Theo E.J. Wilson: A black man goes undercover ...</td>\n",
              "      <td>1</td>\n",
              "      <td>1506024042</td>\n",
              "      <td>[{'id': 11, 'name': 'Longwinded', 'count': 3},...</td>\n",
              "      <td>[{'id': 2512, 'hero': 'https://pe.tedcdn.com/i...</td>\n",
              "      <td>Public intellectual</td>\n",
              "      <td>['Internet', 'TEDx', 'United States', 'communi...</td>\n",
              "      <td>A black man goes undercover in the alt-right</td>\n",
              "      <td>419309</td>\n",
              "    </tr>\n",
              "    <tr>\n",
              "      <th>https://www.ted.com/talks/karoliina_korppoo_how_a_video_game_might_help_us_build_better_cities\\n</th>\n",
              "      <td>8</td>\n",
              "      <td>With more than half of the world population li...</td>\n",
              "      <td>519</td>\n",
              "      <td>TED2017</td>\n",
              "      <td>1492992000</td>\n",
              "      <td>1</td>\n",
              "      <td>Karoliina Korppoo</td>\n",
              "      <td>Karoliina Korppoo: How a video game might help...</td>\n",
              "      <td>1</td>\n",
              "      <td>1506092422</td>\n",
              "      <td>[{'id': 21, 'name': 'Unconvincing', 'count': 2...</td>\n",
              "      <td>[{'id': 2682, 'hero': 'https://pe.tedcdn.com/i...</td>\n",
              "      <td>Game designer</td>\n",
              "      <td>['cities', 'design', 'future', 'infrastructure...</td>\n",
              "      <td>How a video game might help us build better ci...</td>\n",
              "      <td>391721</td>\n",
              "    </tr>\n",
              "  </tbody>\n",
              "</table>\n",
              "<p>2550 rows × 16 columns</p>\n",
              "</div>"
            ],
            "text/plain": [
              "                                                    comments  ...     views\n",
              "url                                                           ...          \n",
              "https://www.ted.com/talks/ken_robinson_says_sch...      4553  ...  47227110\n",
              "https://www.ted.com/talks/al_gore_on_averting_c...       265  ...   3200520\n",
              "https://www.ted.com/talks/david_pogue_says_simp...       124  ...   1636292\n",
              "https://www.ted.com/talks/majora_carter_s_tale_...       200  ...   1697550\n",
              "https://www.ted.com/talks/hans_rosling_shows_th...       593  ...  12005869\n",
              "...                                                      ...  ...       ...\n",
              "https://www.ted.com/talks/duarte_geraldino_what...        17  ...    450430\n",
              "https://www.ted.com/talks/armando_azua_bustos_t...         6  ...    417470\n",
              "https://www.ted.com/talks/radhika_nagpal_what_i...        10  ...    375647\n",
              "https://www.ted.com/talks/theo_e_j_wilson_a_bla...        32  ...    419309\n",
              "https://www.ted.com/talks/karoliina_korppoo_how...         8  ...    391721\n",
              "\n",
              "[2550 rows x 16 columns]"
            ]
          },
          "metadata": {},
          "execution_count": 38
        }
      ]
    },
    {
      "cell_type": "code",
      "metadata": {
        "id": "yMzDJ-fQv0Xd"
      },
      "source": [
        "temp = ted_main['speaker_occupation'].fillna('Not specified')"
      ],
      "execution_count": null,
      "outputs": []
    },
    {
      "cell_type": "code",
      "metadata": {
        "colab": {
          "base_uri": "https://localhost:8080/"
        },
        "id": "sab7YEezwCcq",
        "outputId": "14ee565c-cce2-4465-ad68-498e127890a0"
      },
      "source": [
        "temp.isnull().sum()"
      ],
      "execution_count": null,
      "outputs": [
        {
          "output_type": "execute_result",
          "data": {
            "text/plain": [
              "0"
            ]
          },
          "metadata": {},
          "execution_count": 40
        }
      ]
    },
    {
      "cell_type": "code",
      "metadata": {
        "id": "LOOXqixVIaNK",
        "colab": {
          "base_uri": "https://localhost:8080/",
          "height": 562
        },
        "outputId": "c2fe783a-e73b-4424-9884-cb768a9113fc"
      },
      "source": [
        "\n",
        "temp[temp['speaker_occupation'] == 'Not specified']"
      ],
      "execution_count": null,
      "outputs": [
        {
          "output_type": "error",
          "ename": "KeyError",
          "evalue": "ignored",
          "traceback": [
            "\u001b[0;31m---------------------------------------------------------------------------\u001b[0m",
            "\u001b[0;31mKeyError\u001b[0m                                  Traceback (most recent call last)",
            "\u001b[0;32m/usr/local/lib/python3.7/dist-packages/pandas/core/indexes/base.py\u001b[0m in \u001b[0;36mget_loc\u001b[0;34m(self, key, method, tolerance)\u001b[0m\n\u001b[1;32m   2897\u001b[0m             \u001b[0;32mtry\u001b[0m\u001b[0;34m:\u001b[0m\u001b[0;34m\u001b[0m\u001b[0;34m\u001b[0m\u001b[0m\n\u001b[0;32m-> 2898\u001b[0;31m                 \u001b[0;32mreturn\u001b[0m \u001b[0mself\u001b[0m\u001b[0;34m.\u001b[0m\u001b[0m_engine\u001b[0m\u001b[0;34m.\u001b[0m\u001b[0mget_loc\u001b[0m\u001b[0;34m(\u001b[0m\u001b[0mcasted_key\u001b[0m\u001b[0;34m)\u001b[0m\u001b[0;34m\u001b[0m\u001b[0;34m\u001b[0m\u001b[0m\n\u001b[0m\u001b[1;32m   2899\u001b[0m             \u001b[0;32mexcept\u001b[0m \u001b[0mKeyError\u001b[0m \u001b[0;32mas\u001b[0m \u001b[0merr\u001b[0m\u001b[0;34m:\u001b[0m\u001b[0;34m\u001b[0m\u001b[0;34m\u001b[0m\u001b[0m\n",
            "\u001b[0;32mpandas/_libs/index.pyx\u001b[0m in \u001b[0;36mpandas._libs.index.IndexEngine.get_loc\u001b[0;34m()\u001b[0m\n",
            "\u001b[0;32mpandas/_libs/index.pyx\u001b[0m in \u001b[0;36mpandas._libs.index.IndexEngine.get_loc\u001b[0;34m()\u001b[0m\n",
            "\u001b[0;32mpandas/_libs/hashtable_class_helper.pxi\u001b[0m in \u001b[0;36mpandas._libs.hashtable.PyObjectHashTable.get_item\u001b[0;34m()\u001b[0m\n",
            "\u001b[0;32mpandas/_libs/hashtable_class_helper.pxi\u001b[0m in \u001b[0;36mpandas._libs.hashtable.PyObjectHashTable.get_item\u001b[0;34m()\u001b[0m\n",
            "\u001b[0;31mKeyError\u001b[0m: 'speaker_occupation'",
            "\nThe above exception was the direct cause of the following exception:\n",
            "\u001b[0;31mKeyError\u001b[0m                                  Traceback (most recent call last)",
            "\u001b[0;32m<ipython-input-41-03d9a1d48772>\u001b[0m in \u001b[0;36m<module>\u001b[0;34m()\u001b[0m\n\u001b[1;32m      1\u001b[0m \u001b[0;34m\u001b[0m\u001b[0m\n\u001b[0;32m----> 2\u001b[0;31m \u001b[0mtemp\u001b[0m\u001b[0;34m[\u001b[0m\u001b[0mtemp\u001b[0m\u001b[0;34m[\u001b[0m\u001b[0;34m'speaker_occupation'\u001b[0m\u001b[0;34m]\u001b[0m \u001b[0;34m==\u001b[0m \u001b[0;34m'Not specified'\u001b[0m\u001b[0;34m]\u001b[0m\u001b[0;34m\u001b[0m\u001b[0;34m\u001b[0m\u001b[0m\n\u001b[0m",
            "\u001b[0;32m/usr/local/lib/python3.7/dist-packages/pandas/core/series.py\u001b[0m in \u001b[0;36m__getitem__\u001b[0;34m(self, key)\u001b[0m\n\u001b[1;32m    880\u001b[0m \u001b[0;34m\u001b[0m\u001b[0m\n\u001b[1;32m    881\u001b[0m         \u001b[0;32melif\u001b[0m \u001b[0mkey_is_scalar\u001b[0m\u001b[0;34m:\u001b[0m\u001b[0;34m\u001b[0m\u001b[0;34m\u001b[0m\u001b[0m\n\u001b[0;32m--> 882\u001b[0;31m             \u001b[0;32mreturn\u001b[0m \u001b[0mself\u001b[0m\u001b[0;34m.\u001b[0m\u001b[0m_get_value\u001b[0m\u001b[0;34m(\u001b[0m\u001b[0mkey\u001b[0m\u001b[0;34m)\u001b[0m\u001b[0;34m\u001b[0m\u001b[0;34m\u001b[0m\u001b[0m\n\u001b[0m\u001b[1;32m    883\u001b[0m \u001b[0;34m\u001b[0m\u001b[0m\n\u001b[1;32m    884\u001b[0m         \u001b[0;32mif\u001b[0m \u001b[0mis_hashable\u001b[0m\u001b[0;34m(\u001b[0m\u001b[0mkey\u001b[0m\u001b[0;34m)\u001b[0m\u001b[0;34m:\u001b[0m\u001b[0;34m\u001b[0m\u001b[0;34m\u001b[0m\u001b[0m\n",
            "\u001b[0;32m/usr/local/lib/python3.7/dist-packages/pandas/core/series.py\u001b[0m in \u001b[0;36m_get_value\u001b[0;34m(self, label, takeable)\u001b[0m\n\u001b[1;32m    988\u001b[0m \u001b[0;34m\u001b[0m\u001b[0m\n\u001b[1;32m    989\u001b[0m         \u001b[0;31m# Similar to Index.get_value, but we do not fall back to positional\u001b[0m\u001b[0;34m\u001b[0m\u001b[0;34m\u001b[0m\u001b[0;34m\u001b[0m\u001b[0m\n\u001b[0;32m--> 990\u001b[0;31m         \u001b[0mloc\u001b[0m \u001b[0;34m=\u001b[0m \u001b[0mself\u001b[0m\u001b[0;34m.\u001b[0m\u001b[0mindex\u001b[0m\u001b[0;34m.\u001b[0m\u001b[0mget_loc\u001b[0m\u001b[0;34m(\u001b[0m\u001b[0mlabel\u001b[0m\u001b[0;34m)\u001b[0m\u001b[0;34m\u001b[0m\u001b[0;34m\u001b[0m\u001b[0m\n\u001b[0m\u001b[1;32m    991\u001b[0m         \u001b[0;32mreturn\u001b[0m \u001b[0mself\u001b[0m\u001b[0;34m.\u001b[0m\u001b[0mindex\u001b[0m\u001b[0;34m.\u001b[0m\u001b[0m_get_values_for_loc\u001b[0m\u001b[0;34m(\u001b[0m\u001b[0mself\u001b[0m\u001b[0;34m,\u001b[0m \u001b[0mloc\u001b[0m\u001b[0;34m,\u001b[0m \u001b[0mlabel\u001b[0m\u001b[0;34m)\u001b[0m\u001b[0;34m\u001b[0m\u001b[0;34m\u001b[0m\u001b[0m\n\u001b[1;32m    992\u001b[0m \u001b[0;34m\u001b[0m\u001b[0m\n",
            "\u001b[0;32m/usr/local/lib/python3.7/dist-packages/pandas/core/indexes/base.py\u001b[0m in \u001b[0;36mget_loc\u001b[0;34m(self, key, method, tolerance)\u001b[0m\n\u001b[1;32m   2898\u001b[0m                 \u001b[0;32mreturn\u001b[0m \u001b[0mself\u001b[0m\u001b[0;34m.\u001b[0m\u001b[0m_engine\u001b[0m\u001b[0;34m.\u001b[0m\u001b[0mget_loc\u001b[0m\u001b[0;34m(\u001b[0m\u001b[0mcasted_key\u001b[0m\u001b[0;34m)\u001b[0m\u001b[0;34m\u001b[0m\u001b[0;34m\u001b[0m\u001b[0m\n\u001b[1;32m   2899\u001b[0m             \u001b[0;32mexcept\u001b[0m \u001b[0mKeyError\u001b[0m \u001b[0;32mas\u001b[0m \u001b[0merr\u001b[0m\u001b[0;34m:\u001b[0m\u001b[0;34m\u001b[0m\u001b[0;34m\u001b[0m\u001b[0m\n\u001b[0;32m-> 2900\u001b[0;31m                 \u001b[0;32mraise\u001b[0m \u001b[0mKeyError\u001b[0m\u001b[0;34m(\u001b[0m\u001b[0mkey\u001b[0m\u001b[0;34m)\u001b[0m \u001b[0;32mfrom\u001b[0m \u001b[0merr\u001b[0m\u001b[0;34m\u001b[0m\u001b[0;34m\u001b[0m\u001b[0m\n\u001b[0m\u001b[1;32m   2901\u001b[0m \u001b[0;34m\u001b[0m\u001b[0m\n\u001b[1;32m   2902\u001b[0m         \u001b[0;32mif\u001b[0m \u001b[0mtolerance\u001b[0m \u001b[0;32mis\u001b[0m \u001b[0;32mnot\u001b[0m \u001b[0;32mNone\u001b[0m\u001b[0;34m:\u001b[0m\u001b[0;34m\u001b[0m\u001b[0;34m\u001b[0m\u001b[0m\n",
            "\u001b[0;31mKeyError\u001b[0m: 'speaker_occupation'"
          ]
        }
      ]
    },
    {
      "cell_type": "markdown",
      "metadata": {
        "id": "IGj1JsK9I6Nc"
      },
      "source": [
        "## Dropping rows with missing values"
      ]
    },
    {
      "cell_type": "code",
      "metadata": {
        "id": "9IsPXTUoYmgZ"
      },
      "source": [
        "ted_main.shape, ted_main.dropna(how='all').shape"
      ],
      "execution_count": null,
      "outputs": []
    },
    {
      "cell_type": "code",
      "metadata": {
        "id": "wvySuxptYxSI",
        "colab": {
          "base_uri": "https://localhost:8080/"
        },
        "outputId": "5fddbecb-ea45-46f0-91c1-1786759cb8e6"
      },
      "source": [
        "ted_main.shape"
      ],
      "execution_count": null,
      "outputs": [
        {
          "output_type": "execute_result",
          "data": {
            "text/plain": [
              "(2550, 16)"
            ]
          },
          "metadata": {},
          "execution_count": 42
        }
      ]
    },
    {
      "cell_type": "markdown",
      "metadata": {
        "id": "UBp5A-PiAX6M"
      },
      "source": [
        "## Let's convert ratings, related talks and tags to proper datatypes!"
      ]
    },
    {
      "cell_type": "code",
      "metadata": {
        "id": "uhoPZGfg_qEp",
        "colab": {
          "base_uri": "https://localhost:8080/",
          "height": 86
        },
        "outputId": "4260019e-71a4-41e1-ba4d-90b04997203e"
      },
      "source": [
        "ted_main['ratings'].iloc[0]"
      ],
      "execution_count": null,
      "outputs": [
        {
          "output_type": "execute_result",
          "data": {
            "application/vnd.google.colaboratory.intrinsic+json": {
              "type": "string"
            },
            "text/plain": [
              "\"[{'id': 7, 'name': 'Funny', 'count': 19645}, {'id': 1, 'name': 'Beautiful', 'count': 4573}, {'id': 9, 'name': 'Ingenious', 'count': 6073}, {'id': 3, 'name': 'Courageous', 'count': 3253}, {'id': 11, 'name': 'Longwinded', 'count': 387}, {'id': 2, 'name': 'Confusing', 'count': 242}, {'id': 8, 'name': 'Informative', 'count': 7346}, {'id': 22, 'name': 'Fascinating', 'count': 10581}, {'id': 21, 'name': 'Unconvincing', 'count': 300}, {'id': 24, 'name': 'Persuasive', 'count': 10704}, {'id': 23, 'name': 'Jaw-dropping', 'count': 4439}, {'id': 25, 'name': 'OK', 'count': 1174}, {'id': 26, 'name': 'Obnoxious', 'count': 209}, {'id': 10, 'name': 'Inspiring', 'count': 24924}]\""
            ]
          },
          "metadata": {},
          "execution_count": 43
        }
      ]
    },
    {
      "cell_type": "code",
      "metadata": {
        "id": "nfCbQFxGTO3B",
        "colab": {
          "base_uri": "https://localhost:8080/"
        },
        "outputId": "63e36d33-ed7b-4452-ab43-4ea035b61364"
      },
      "source": [
        "ted_main['film_date'].iloc[0]"
      ],
      "execution_count": null,
      "outputs": [
        {
          "output_type": "execute_result",
          "data": {
            "text/plain": [
              "1140825600"
            ]
          },
          "metadata": {},
          "execution_count": 44
        }
      ]
    },
    {
      "cell_type": "code",
      "metadata": {
        "id": "BE763DthTUE0",
        "colab": {
          "base_uri": "https://localhost:8080/"
        },
        "outputId": "e4b8161f-6d28-422d-ee57-751e77022a24"
      },
      "source": [
        "ted_main['published_date'].iloc[0]"
      ],
      "execution_count": null,
      "outputs": [
        {
          "output_type": "execute_result",
          "data": {
            "text/plain": [
              "1151367060"
            ]
          },
          "metadata": {},
          "execution_count": 45
        }
      ]
    },
    {
      "cell_type": "code",
      "metadata": {
        "id": "xixST1yhS4J4"
      },
      "source": [
        "from ast import literal_eval"
      ],
      "execution_count": null,
      "outputs": []
    },
    {
      "cell_type": "code",
      "metadata": {
        "id": "4c-N1hMtxkcd"
      },
      "source": [
        "\n",
        "literal_eval?"
      ],
      "execution_count": null,
      "outputs": []
    },
    {
      "cell_type": "code",
      "metadata": {
        "colab": {
          "base_uri": "https://localhost:8080/"
        },
        "id": "YBuQ8_o7xRIj",
        "outputId": "c35fd3a4-f9d5-4735-f5d8-4f1252340393"
      },
      "source": [
        "eval(ted_main['ratings'].iloc[0])"
      ],
      "execution_count": null,
      "outputs": [
        {
          "output_type": "execute_result",
          "data": {
            "text/plain": [
              "[{'count': 19645, 'id': 7, 'name': 'Funny'},\n",
              " {'count': 4573, 'id': 1, 'name': 'Beautiful'},\n",
              " {'count': 6073, 'id': 9, 'name': 'Ingenious'},\n",
              " {'count': 3253, 'id': 3, 'name': 'Courageous'},\n",
              " {'count': 387, 'id': 11, 'name': 'Longwinded'},\n",
              " {'count': 242, 'id': 2, 'name': 'Confusing'},\n",
              " {'count': 7346, 'id': 8, 'name': 'Informative'},\n",
              " {'count': 10581, 'id': 22, 'name': 'Fascinating'},\n",
              " {'count': 300, 'id': 21, 'name': 'Unconvincing'},\n",
              " {'count': 10704, 'id': 24, 'name': 'Persuasive'},\n",
              " {'count': 4439, 'id': 23, 'name': 'Jaw-dropping'},\n",
              " {'count': 1174, 'id': 25, 'name': 'OK'},\n",
              " {'count': 209, 'id': 26, 'name': 'Obnoxious'},\n",
              " {'count': 24924, 'id': 10, 'name': 'Inspiring'}]"
            ]
          },
          "metadata": {},
          "execution_count": 48
        }
      ]
    },
    {
      "cell_type": "code",
      "metadata": {
        "id": "yFEnA4RBAW8w"
      },
      "source": [
        "ted_main['ratings'] = ted_main['ratings'].apply(literal_eval)\n",
        "ted_main['related_talks'] = ted_main['related_talks'].apply(literal_eval)\n",
        "ted_main['tags'] = ted_main['tags'].apply(literal_eval)"
      ],
      "execution_count": null,
      "outputs": []
    },
    {
      "cell_type": "code",
      "metadata": {
        "id": "no4IKwWF8bmh",
        "colab": {
          "base_uri": "https://localhost:8080/"
        },
        "outputId": "0c5a38bb-8434-4fcb-bfe1-a6180f70d363"
      },
      "source": [
        "ted_main['ratings'][0][0]"
      ],
      "execution_count": null,
      "outputs": [
        {
          "output_type": "execute_result",
          "data": {
            "text/plain": [
              "{'count': 19645, 'id': 7, 'name': 'Funny'}"
            ]
          },
          "metadata": {},
          "execution_count": 50
        }
      ]
    },
    {
      "cell_type": "markdown",
      "metadata": {
        "id": "SYMj_pHsYclm"
      },
      "source": [
        "## Let's convert the dates to a proper format"
      ]
    },
    {
      "cell_type": "code",
      "metadata": {
        "id": "tO529rN2x0kV"
      },
      "source": [
        "\n",
        "firstdate = pd.to_datetime(ted_main['film_date']).iloc[0]"
      ],
      "execution_count": null,
      "outputs": []
    },
    {
      "cell_type": "code",
      "metadata": {
        "colab": {
          "base_uri": "https://localhost:8080/"
        },
        "id": "vIpHAStwx_eI",
        "outputId": "ca7485cf-07d5-4142-98d5-0cc9443a6607"
      },
      "source": [
        "\n",
        "firstdate.month"
      ],
      "execution_count": null,
      "outputs": [
        {
          "output_type": "execute_result",
          "data": {
            "text/plain": [
              "1"
            ]
          },
          "metadata": {},
          "execution_count": 52
        }
      ]
    },
    {
      "cell_type": "code",
      "metadata": {
        "id": "p8g1C_2eTdTM"
      },
      "source": [
        "pd.to_datetime?"
      ],
      "execution_count": null,
      "outputs": []
    },
    {
      "cell_type": "code",
      "metadata": {
        "id": "kHP04wCUSnK2"
      },
      "source": [
        "ted_main['film_date'] = pd.to_datetime(ted_main['film_date'], unit='s')\n",
        "ted_main['published_date'] = pd.to_datetime(ted_main['published_date'], unit='s')"
      ],
      "execution_count": null,
      "outputs": []
    },
    {
      "cell_type": "markdown",
      "metadata": {
        "id": "sMyfq1rTAmU8"
      },
      "source": [
        "## What does it look like now?"
      ]
    },
    {
      "cell_type": "code",
      "metadata": {
        "id": "eC8D744dAlSS",
        "colab": {
          "base_uri": "https://localhost:8080/",
          "height": 330
        },
        "outputId": "d91d3a6c-bb3a-4459-80df-bd3d35001a72"
      },
      "source": [
        "ted_main.head(2)"
      ],
      "execution_count": null,
      "outputs": [
        {
          "output_type": "execute_result",
          "data": {
            "text/html": [
              "<div>\n",
              "<style scoped>\n",
              "    .dataframe tbody tr th:only-of-type {\n",
              "        vertical-align: middle;\n",
              "    }\n",
              "\n",
              "    .dataframe tbody tr th {\n",
              "        vertical-align: top;\n",
              "    }\n",
              "\n",
              "    .dataframe thead th {\n",
              "        text-align: right;\n",
              "    }\n",
              "</style>\n",
              "<table border=\"1\" class=\"dataframe\">\n",
              "  <thead>\n",
              "    <tr style=\"text-align: right;\">\n",
              "      <th></th>\n",
              "      <th>comments</th>\n",
              "      <th>description</th>\n",
              "      <th>duration</th>\n",
              "      <th>event</th>\n",
              "      <th>film_date</th>\n",
              "      <th>languages</th>\n",
              "      <th>main_speaker</th>\n",
              "      <th>name</th>\n",
              "      <th>num_speaker</th>\n",
              "      <th>published_date</th>\n",
              "      <th>ratings</th>\n",
              "      <th>related_talks</th>\n",
              "      <th>speaker_occupation</th>\n",
              "      <th>tags</th>\n",
              "      <th>title</th>\n",
              "      <th>views</th>\n",
              "    </tr>\n",
              "    <tr>\n",
              "      <th>url</th>\n",
              "      <th></th>\n",
              "      <th></th>\n",
              "      <th></th>\n",
              "      <th></th>\n",
              "      <th></th>\n",
              "      <th></th>\n",
              "      <th></th>\n",
              "      <th></th>\n",
              "      <th></th>\n",
              "      <th></th>\n",
              "      <th></th>\n",
              "      <th></th>\n",
              "      <th></th>\n",
              "      <th></th>\n",
              "      <th></th>\n",
              "      <th></th>\n",
              "    </tr>\n",
              "  </thead>\n",
              "  <tbody>\n",
              "    <tr>\n",
              "      <th>https://www.ted.com/talks/ken_robinson_says_schools_kill_creativity\\n</th>\n",
              "      <td>4553</td>\n",
              "      <td>Sir Ken Robinson makes an entertaining and pro...</td>\n",
              "      <td>1164</td>\n",
              "      <td>TED2006</td>\n",
              "      <td>2006-02-25</td>\n",
              "      <td>60</td>\n",
              "      <td>Ken Robinson</td>\n",
              "      <td>Ken Robinson: Do schools kill creativity?</td>\n",
              "      <td>1</td>\n",
              "      <td>2006-06-27 00:11:00</td>\n",
              "      <td>[{'id': 7, 'name': 'Funny', 'count': 19645}, {...</td>\n",
              "      <td>[{'id': 865, 'hero': 'https://pe.tedcdn.com/im...</td>\n",
              "      <td>Author/educator</td>\n",
              "      <td>[children, creativity, culture, dance, educati...</td>\n",
              "      <td>Do schools kill creativity?</td>\n",
              "      <td>47227110</td>\n",
              "    </tr>\n",
              "    <tr>\n",
              "      <th>https://www.ted.com/talks/al_gore_on_averting_climate_crisis\\n</th>\n",
              "      <td>265</td>\n",
              "      <td>With the same humor and humanity he exuded in ...</td>\n",
              "      <td>977</td>\n",
              "      <td>TED2006</td>\n",
              "      <td>2006-02-25</td>\n",
              "      <td>43</td>\n",
              "      <td>Al Gore</td>\n",
              "      <td>Al Gore: Averting the climate crisis</td>\n",
              "      <td>1</td>\n",
              "      <td>2006-06-27 00:11:00</td>\n",
              "      <td>[{'id': 7, 'name': 'Funny', 'count': 544}, {'i...</td>\n",
              "      <td>[{'id': 243, 'hero': 'https://pe.tedcdn.com/im...</td>\n",
              "      <td>Climate advocate</td>\n",
              "      <td>[alternative energy, cars, climate change, cul...</td>\n",
              "      <td>Averting the climate crisis</td>\n",
              "      <td>3200520</td>\n",
              "    </tr>\n",
              "  </tbody>\n",
              "</table>\n",
              "</div>"
            ],
            "text/plain": [
              "                                                    comments  ...     views\n",
              "url                                                           ...          \n",
              "https://www.ted.com/talks/ken_robinson_says_sch...      4553  ...  47227110\n",
              "https://www.ted.com/talks/al_gore_on_averting_c...       265  ...   3200520\n",
              "\n",
              "[2 rows x 16 columns]"
            ]
          },
          "metadata": {},
          "execution_count": 55
        }
      ]
    },
    {
      "cell_type": "code",
      "metadata": {
        "id": "WmoHCm0e7YdP"
      },
      "source": [
        "  # Update `languages` to 1, for rows that had `languages` set to 0\n",
        "\n",
        "ted_main.loc[(ted_main['languages']==0), 'comments'] = 0\n",
        "# ted_main.loc[(ted_main['languages']==0) & (ted_main['comments']=='whatever'),'comments'] = 1"
      ],
      "execution_count": null,
      "outputs": []
    },
    {
      "cell_type": "code",
      "metadata": {
        "id": "Bl-np0Rb0yB2"
      },
      "source": [
        "ted_main.reset_index(inplace=True)"
      ],
      "execution_count": null,
      "outputs": []
    },
    {
      "cell_type": "code",
      "metadata": {
        "id": "pFKW4-Dk-SL5",
        "colab": {
          "base_uri": "https://localhost:8080/"
        },
        "outputId": "004049f3-ad2a-46aa-faab-5fc7a6ad9aa6"
      },
      "source": [
        "# Print `url` of the first row\n",
        "# Note the newlines at the end\n",
        "\n",
        "ted_main['url'].values"
      ],
      "execution_count": null,
      "outputs": [
        {
          "output_type": "execute_result",
          "data": {
            "text/plain": [
              "array(['https://www.ted.com/talks/ken_robinson_says_schools_kill_creativity\\n',\n",
              "       'https://www.ted.com/talks/al_gore_on_averting_climate_crisis\\n',\n",
              "       'https://www.ted.com/talks/david_pogue_says_simplicity_sells\\n',\n",
              "       ...,\n",
              "       'https://www.ted.com/talks/radhika_nagpal_what_intelligent_machines_can_learn_from_a_school_of_fish\\n',\n",
              "       'https://www.ted.com/talks/theo_e_j_wilson_a_black_man_goes_undercover_in_the_alt_right\\n',\n",
              "       'https://www.ted.com/talks/karoliina_korppoo_how_a_video_game_might_help_us_build_better_cities\\n'],\n",
              "      dtype=object)"
            ]
          },
          "metadata": {},
          "execution_count": 60
        }
      ]
    },
    {
      "cell_type": "code",
      "metadata": {
        "id": "lj86LL1V-UN5"
      },
      "source": [
        "# Update the `url` column values after removing \n",
        "# the newline characters for each row\n",
        "\n",
        "ted_main['url'] = ted_main['url'].apply(lambda x: x.replace('\\n', ''))"
      ],
      "execution_count": null,
      "outputs": []
    },
    {
      "cell_type": "code",
      "metadata": {
        "colab": {
          "base_uri": "https://localhost:8080/"
        },
        "id": "H8LJ8KTp3dX3",
        "outputId": "fc091cc0-1cf2-4292-a697-c901041d81c7"
      },
      "source": [
        "ted_main['url'].apply(lambda x: x.replace('\\n', ''))"
      ],
      "execution_count": null,
      "outputs": [
        {
          "output_type": "execute_result",
          "data": {
            "text/plain": [
              "0       https://www.ted.com/talks/ken_robinson_says_sc...\n",
              "1       https://www.ted.com/talks/al_gore_on_averting_...\n",
              "2       https://www.ted.com/talks/david_pogue_says_sim...\n",
              "3       https://www.ted.com/talks/majora_carter_s_tale...\n",
              "4       https://www.ted.com/talks/hans_rosling_shows_t...\n",
              "                              ...                        \n",
              "2545    https://www.ted.com/talks/duarte_geraldino_wha...\n",
              "2546    https://www.ted.com/talks/armando_azua_bustos_...\n",
              "2547    https://www.ted.com/talks/radhika_nagpal_what_...\n",
              "2548    https://www.ted.com/talks/theo_e_j_wilson_a_bl...\n",
              "2549    https://www.ted.com/talks/karoliina_korppoo_ho...\n",
              "Name: url, Length: 2550, dtype: object"
            ]
          },
          "metadata": {},
          "execution_count": 61
        }
      ]
    },
    {
      "cell_type": "code",
      "metadata": {
        "id": "YYwB-X73-5C8",
        "colab": {
          "base_uri": "https://localhost:8080/",
          "height": 35
        },
        "outputId": "dc9a41d0-f1db-4310-d035-230c83bfa017"
      },
      "source": [
        "# No pesky newlines anymore \n",
        "\n",
        "ted_main['url'].iloc[0]"
      ],
      "execution_count": null,
      "outputs": [
        {
          "output_type": "execute_result",
          "data": {
            "application/vnd.google.colaboratory.intrinsic+json": {
              "type": "string"
            },
            "text/plain": [
              "'https://www.ted.com/talks/ken_robinson_says_schools_kill_creativity'"
            ]
          },
          "metadata": {},
          "execution_count": 61
        }
      ]
    },
    {
      "cell_type": "code",
      "metadata": {
        "id": "6uWDGK4L6x2l"
      },
      "source": [
        "# For each row, `apply` the anonymous function\n",
        "# removing <main_speaker>: from the column `name`\n",
        "\n",
        "def removeSpeakerName(row):\n",
        "  return row['name'].replace(\"%s:\" % row['main_speaker'], '').strip()\n",
        "\n",
        "ted_main['name'] = ted_main.apply(removeSpeakerName, axis=1)"
      ],
      "execution_count": null,
      "outputs": []
    },
    {
      "cell_type": "code",
      "metadata": {
        "colab": {
          "base_uri": "https://localhost:8080/"
        },
        "id": "EAO3PIFb3kU9",
        "outputId": "9eb6b50d-dc9c-44c5-d3bf-13a7e1ec03e2"
      },
      "source": [
        "ted_main['name']"
      ],
      "execution_count": null,
      "outputs": [
        {
          "output_type": "execute_result",
          "data": {
            "text/plain": [
              "0                             Do schools kill creativity?\n",
              "1                             Averting the climate crisis\n",
              "2                                        Simplicity sells\n",
              "3                                     Greening the ghetto\n",
              "4                         The best stats you've ever seen\n",
              "                              ...                        \n",
              "2545    What we're missing in the debate about immigra...\n",
              "2546                      The most Martian place on Earth\n",
              "2547    What intelligent machines can learn from a sch...\n",
              "2548         A black man goes undercover in the alt-right\n",
              "2549    How a video game might help us build better ci...\n",
              "Name: name, Length: 2550, dtype: object"
            ]
          },
          "metadata": {},
          "execution_count": 64
        }
      ]
    },
    {
      "cell_type": "code",
      "metadata": {
        "id": "J1-cqaeU3kCV"
      },
      "source": [],
      "execution_count": null,
      "outputs": []
    },
    {
      "cell_type": "code",
      "metadata": {
        "id": "-YCQ9gf66zN9",
        "colab": {
          "base_uri": "https://localhost:8080/",
          "height": 305
        },
        "outputId": "b8de4190-a5dc-4f8b-8bbb-bd0ab9382f2f"
      },
      "source": [
        "ted_main.head(2)"
      ],
      "execution_count": null,
      "outputs": [
        {
          "output_type": "execute_result",
          "data": {
            "text/html": [
              "<div>\n",
              "<style scoped>\n",
              "    .dataframe tbody tr th:only-of-type {\n",
              "        vertical-align: middle;\n",
              "    }\n",
              "\n",
              "    .dataframe tbody tr th {\n",
              "        vertical-align: top;\n",
              "    }\n",
              "\n",
              "    .dataframe thead th {\n",
              "        text-align: right;\n",
              "    }\n",
              "</style>\n",
              "<table border=\"1\" class=\"dataframe\">\n",
              "  <thead>\n",
              "    <tr style=\"text-align: right;\">\n",
              "      <th></th>\n",
              "      <th>comments</th>\n",
              "      <th>description</th>\n",
              "      <th>duration</th>\n",
              "      <th>event</th>\n",
              "      <th>film_date</th>\n",
              "      <th>languages</th>\n",
              "      <th>main_speaker</th>\n",
              "      <th>name</th>\n",
              "      <th>num_speaker</th>\n",
              "      <th>published_date</th>\n",
              "      <th>ratings</th>\n",
              "      <th>related_talks</th>\n",
              "      <th>speaker_occupation</th>\n",
              "      <th>tags</th>\n",
              "      <th>title</th>\n",
              "      <th>url</th>\n",
              "      <th>views</th>\n",
              "    </tr>\n",
              "  </thead>\n",
              "  <tbody>\n",
              "    <tr>\n",
              "      <th>0</th>\n",
              "      <td>4553</td>\n",
              "      <td>Sir Ken Robinson makes an entertaining and pro...</td>\n",
              "      <td>1164</td>\n",
              "      <td>TED2006</td>\n",
              "      <td>2006-02-25</td>\n",
              "      <td>60</td>\n",
              "      <td>Ken Robinson</td>\n",
              "      <td>Do schools kill creativity?</td>\n",
              "      <td>1</td>\n",
              "      <td>2006-06-27 00:11:00</td>\n",
              "      <td>[{'id': 7, 'name': 'Funny', 'count': 19645}, {...</td>\n",
              "      <td>[{'id': 865, 'hero': 'https://pe.tedcdn.com/im...</td>\n",
              "      <td>Author/educator</td>\n",
              "      <td>[children, creativity, culture, dance, educati...</td>\n",
              "      <td>Do schools kill creativity?</td>\n",
              "      <td>https://www.ted.com/talks/ken_robinson_says_sc...</td>\n",
              "      <td>47227110</td>\n",
              "    </tr>\n",
              "    <tr>\n",
              "      <th>1</th>\n",
              "      <td>265</td>\n",
              "      <td>With the same humor and humanity he exuded in ...</td>\n",
              "      <td>977</td>\n",
              "      <td>TED2006</td>\n",
              "      <td>2006-02-25</td>\n",
              "      <td>43</td>\n",
              "      <td>Al Gore</td>\n",
              "      <td>Averting the climate crisis</td>\n",
              "      <td>1</td>\n",
              "      <td>2006-06-27 00:11:00</td>\n",
              "      <td>[{'id': 7, 'name': 'Funny', 'count': 544}, {'i...</td>\n",
              "      <td>[{'id': 243, 'hero': 'https://pe.tedcdn.com/im...</td>\n",
              "      <td>Climate advocate</td>\n",
              "      <td>[alternative energy, cars, climate change, cul...</td>\n",
              "      <td>Averting the climate crisis</td>\n",
              "      <td>https://www.ted.com/talks/al_gore_on_averting_...</td>\n",
              "      <td>3200520</td>\n",
              "    </tr>\n",
              "  </tbody>\n",
              "</table>\n",
              "</div>"
            ],
            "text/plain": [
              "   comments  ...     views\n",
              "0      4553  ...  47227110\n",
              "1       265  ...   3200520\n",
              "\n",
              "[2 rows x 17 columns]"
            ]
          },
          "metadata": {},
          "execution_count": 63
        }
      ]
    },
    {
      "cell_type": "code",
      "metadata": {
        "id": "Iy-58dgv-H9K",
        "colab": {
          "base_uri": "https://localhost:8080/",
          "height": 205
        },
        "outputId": "500fd00f-d30e-4009-9820-fd17418588ab"
      },
      "source": [
        "# Note `(Laughter)` and `(Music..)` in the \n",
        "# first and third rows, these are\n",
        "# clearly not part of the transcript\n",
        "\n",
        "transcripts.head()"
      ],
      "execution_count": null,
      "outputs": [
        {
          "output_type": "execute_result",
          "data": {
            "text/html": [
              "<div>\n",
              "<style scoped>\n",
              "    .dataframe tbody tr th:only-of-type {\n",
              "        vertical-align: middle;\n",
              "    }\n",
              "\n",
              "    .dataframe tbody tr th {\n",
              "        vertical-align: top;\n",
              "    }\n",
              "\n",
              "    .dataframe thead th {\n",
              "        text-align: right;\n",
              "    }\n",
              "</style>\n",
              "<table border=\"1\" class=\"dataframe\">\n",
              "  <thead>\n",
              "    <tr style=\"text-align: right;\">\n",
              "      <th></th>\n",
              "      <th>transcript</th>\n",
              "      <th>url</th>\n",
              "    </tr>\n",
              "  </thead>\n",
              "  <tbody>\n",
              "    <tr>\n",
              "      <th>0</th>\n",
              "      <td>Good morning. How are you?(Laughter)It's been ...</td>\n",
              "      <td>https://www.ted.com/talks/ken_robinson_says_sc...</td>\n",
              "    </tr>\n",
              "    <tr>\n",
              "      <th>1</th>\n",
              "      <td>Thank you so much, Chris. And it's truly a gre...</td>\n",
              "      <td>https://www.ted.com/talks/al_gore_on_averting_...</td>\n",
              "    </tr>\n",
              "    <tr>\n",
              "      <th>2</th>\n",
              "      <td>(Music: \"The Sound of Silence,\" Simon &amp; Garfun...</td>\n",
              "      <td>https://www.ted.com/talks/david_pogue_says_sim...</td>\n",
              "    </tr>\n",
              "    <tr>\n",
              "      <th>3</th>\n",
              "      <td>If you're here today — and I'm very happy that...</td>\n",
              "      <td>https://www.ted.com/talks/majora_carter_s_tale...</td>\n",
              "    </tr>\n",
              "    <tr>\n",
              "      <th>4</th>\n",
              "      <td>About 10 years ago, I took on the task to teac...</td>\n",
              "      <td>https://www.ted.com/talks/hans_rosling_shows_t...</td>\n",
              "    </tr>\n",
              "  </tbody>\n",
              "</table>\n",
              "</div>"
            ],
            "text/plain": [
              "                                          transcript                                                url\n",
              "0  Good morning. How are you?(Laughter)It's been ...  https://www.ted.com/talks/ken_robinson_says_sc...\n",
              "1  Thank you so much, Chris. And it's truly a gre...  https://www.ted.com/talks/al_gore_on_averting_...\n",
              "2  (Music: \"The Sound of Silence,\" Simon & Garfun...  https://www.ted.com/talks/david_pogue_says_sim...\n",
              "3  If you're here today — and I'm very happy that...  https://www.ted.com/talks/majora_carter_s_tale...\n",
              "4  About 10 years ago, I took on the task to teac...  https://www.ted.com/talks/hans_rosling_shows_t..."
            ]
          },
          "metadata": {},
          "execution_count": 64
        }
      ]
    },
    {
      "cell_type": "code",
      "metadata": {
        "colab": {
          "base_uri": "https://localhost:8080/",
          "height": 120
        },
        "id": "LghgRk1X4HDM",
        "outputId": "bbad2eae-d97d-406f-a3c9-294604b62aa3"
      },
      "source": [
        "transcripts['transcript'].iloc[0]"
      ],
      "execution_count": null,
      "outputs": [
        {
          "output_type": "execute_result",
          "data": {
            "application/vnd.google.colaboratory.intrinsic+json": {
              "type": "string"
            },
            "text/plain": [
              "'Good morning. How are you?(Laughter)It\\'s been great, hasn\\'t it? I\\'ve been blown away by the whole thing. In fact, I\\'m leaving.(Laughter)There have been three themes running through the conference which are relevant to what I want to talk about. One is the extraordinary evidence of human creativity in all of the presentations that we\\'ve had and in all of the people here. Just the variety of it and the range of it. The second is that it\\'s put us in a place where we have no idea what\\'s going to happen, in terms of the future. No idea how this may play out.I have an interest in education. Actually, what I find is everybody has an interest in education. Don\\'t you? I find this very interesting. If you\\'re at a dinner party, and you say you work in education — Actually, you\\'re not often at dinner parties, frankly.(Laughter)If you work in education, you\\'re not asked.(Laughter)And you\\'re never asked back, curiously. That\\'s strange to me. But if you are, and you say to somebody, you know, they say, \"What do you do?\" and you say you work in education, you can see the blood run from their face. They\\'re like, \"Oh my God,\" you know, \"Why me?\"(Laughter)\"My one night out all week.\"(Laughter)But if you ask about their education, they pin you to the wall. Because it\\'s one of those things that goes deep with people, am I right? Like religion, and money and other things. So I have a big interest in education, and I think we all do. We have a huge vested interest in it, partly because it\\'s education that\\'s meant to take us into this future that we can\\'t grasp. If you think of it, children starting school this year will be retiring in 2065. Nobody has a clue, despite all the expertise that\\'s been on parade for the past four days, what the world will look like in five years\\' time. And yet we\\'re meant to be educating them for it. So the unpredictability, I think, is extraordinary.And the third part of this is that we\\'ve all agreed, nonetheless, on the really extraordinary capacities that children have — their capacities for innovation. I mean, Sirena last night was a marvel, wasn\\'t she? Just seeing what she could do. And she\\'s exceptional, but I think she\\'s not, so to speak, exceptional in the whole of childhood. What you have there is a person of extraordinary dedication who found a talent. And my contention is, all kids have tremendous talents. And we squander them, pretty ruthlessly.So I want to talk about education and I want to talk about creativity. My contention is that creativity now is as important in education as literacy, and we should treat it with the same status.(Applause) Thank you.(Applause)That was it, by the way. Thank you very much.(Laughter)So, 15 minutes left.(Laughter)Well, I was born... no.(Laughter)I heard a great story recently — I love telling it — of a little girl who was in a drawing lesson. She was six, and she was at the back, drawing, and the teacher said this girl hardly ever paid attention, and in this drawing lesson, she did. The teacher was fascinated. She went over to her, and she said, \"What are you drawing?\" And the girl said, \"I\\'m drawing a picture of God.\" And the teacher said, \"But nobody knows what God looks like.\" And the girl said, \"They will, in a minute.\"(Laughter)When my son was four in England — Actually, he was four everywhere, to be honest.(Laughter)If we\\'re being strict about it, wherever he went, he was four that year. He was in the Nativity play. Do you remember the story?(Laughter)No, it was big, it was a big story. Mel Gibson did the sequel, you may have seen it.(Laughter)\"Nativity II.\" But James got the part of Joseph, which we were thrilled about. We considered this to be one of the lead parts. We had the place crammed full of agents in T-shirts: \"James Robinson IS Joseph!\" (Laughter) He didn\\'t have to speak, but you know the bit where the three kings come in? They come in bearing gifts, gold, frankincense and myrrh. This really happened. We were sitting there and I think they just went out of sequence, because we talked to the little boy afterward and we said, \"You OK with that?\" And he said, \"Yeah, why? Was that wrong?\" They just switched. The three boys came in, four-year-olds with tea towels on their heads, and they put these boxes down, and the first boy said, \"I bring you gold.\" And the second boy said, \"I bring you myrrh.\" And the third boy said, \"Frank sent this.\"(Laughter)What these things have in common is that kids will take a chance. If they don\\'t know, they\\'ll have a go. Am I right? They\\'re not frightened of being wrong. I don\\'t mean to say that being wrong is the same thing as being creative. What we do know is, if you\\'re not prepared to be wrong, you\\'ll never come up with anything original — if you\\'re not prepared to be wrong. And by the time they get to be adults, most kids have lost that capacity. They have become frightened of being wrong. And we run our companies like this. We stigmatize mistakes. And we\\'re now running national education systems where mistakes are the worst thing you can make. And the result is that we are educating people out of their creative capacities.Picasso once said this, he said that all children are born artists. The problem is to remain an artist as we grow up. I believe this passionately, that we don\\'t grow into creativity, we grow out of it. Or rather, we get educated out of it. So why is this?I lived in Stratford-on-Avon until about five years ago. In fact, we moved from Stratford to Los Angeles. So you can imagine what a seamless transition that was.(Laughter)Actually, we lived in a place called Snitterfield, just outside Stratford, which is where Shakespeare\\'s father was born. Are you struck by a new thought? I was. You don\\'t think of Shakespeare having a father, do you? Do you? Because you don\\'t think of Shakespeare being a child, do you? Shakespeare being seven? I never thought of it. I mean, he was seven at some point. He was in somebody\\'s English class, wasn\\'t he?(Laughter)How annoying would that be?(Laughter)\"Must try harder.\"(Laughter)Being sent to bed by his dad, you know, to Shakespeare, \"Go to bed, now! And put the pencil down.\"(Laughter)\"And stop speaking like that.\"(Laughter)\"It\\'s confusing everybody.\"(Laughter)Anyway, we moved from Stratford to Los Angeles, and I just want to say a word about the transition. My son didn\\'t want to come. I\\'ve got two kids; he\\'s 21 now, my daughter\\'s 16. He didn\\'t want to come to Los Angeles. He loved it, but he had a girlfriend in England. This was the love of his life, Sarah. He\\'d known her for a month.(Laughter)Mind you, they\\'d had their fourth anniversary, because it\\'s a long time when you\\'re 16. He was really upset on the plane, he said, \"I\\'ll never find another girl like Sarah.\" And we were rather pleased about that, frankly —(Laughter)Because she was the main reason we were leaving the country.(Laughter)But something strikes you when you move to America and travel around the world: Every education system on Earth has the same hierarchy of subjects. Every one. Doesn\\'t matter where you go. You\\'d think it would be otherwise, but it isn\\'t. At the top are mathematics and languages, then the humanities, and at the bottom are the arts. Everywhere on Earth. And in pretty much every system too, there\\'s a hierarchy within the arts. Art and music are normally given a higher status in schools than drama and dance. There isn\\'t an education system on the planet that teaches dance everyday to children the way we teach them mathematics. Why? Why not? I think this is rather important. I think math is very important, but so is dance. Children dance all the time if they\\'re allowed to, we all do. We all have bodies, don\\'t we? Did I miss a meeting?(Laughter)Truthfully, what happens is, as children grow up, we start to educate them progressively from the waist up. And then we focus on their heads. And slightly to one side.If you were to visit education, as an alien, and say \"What\\'s it for, public education?\" I think you\\'d have to conclude, if you look at the output, who really succeeds by this, who does everything that they should, who gets all the brownie points, who are the winners — I think you\\'d have to conclude the whole purpose of public education throughout the world is to produce university professors. Isn\\'t it? They\\'re the people who come out the top. And I used to be one, so there.(Laughter)And I like university professors, but you know, we shouldn\\'t hold them up as the high-water mark of all human achievement. They\\'re just a form of life, another form of life. But they\\'re rather curious, and I say this out of affection for them. There\\'s something curious about professors in my experience — not all of them, but typically, they live in their heads. They live up there, and slightly to one side. They\\'re disembodied, you know, in a kind of literal way. They look upon their body as a form of transport for their heads.(Laughter)Don\\'t they? It\\'s a way of getting their head to meetings.(Laughter)If you want real evidence of out-of-body experiences, get yourself along to a residential conference of senior academics, and pop into the discotheque on the final night.(Laughter)And there, you will see it. Grown men and women writhing uncontrollably, off the beat.(Laughter)Waiting until it ends so they can go home and write a paper about it.(Laughter)Our education system is predicated on the idea of academic ability. And there\\'s a reason. Around the world, there were no public systems of education, really, before the 19th century. They all came into being to meet the needs of industrialism. So the hierarchy is rooted on two ideas.Number one, that the most useful subjects for work are at the top. So you were probably steered benignly away from things at school when you were a kid, things you liked, on the grounds that you would never get a job doing that. Is that right? Don\\'t do music, you\\'re not going to be a musician; don\\'t do art, you won\\'t be an artist. Benign advice — now, profoundly mistaken. The whole world is engulfed in a revolution.And the second is academic ability, which has really come to dominate our view of intelligence, because the universities designed the system in their image. If you think of it, the whole system of public education around the world is a protracted process of university entrance. And the consequence is that many highly-talented, brilliant, creative people think they\\'re not, because the thing they were good at at school wasn\\'t valued, or was actually stigmatized. And I think we can\\'t afford to go on that way.In the next 30 years, according to UNESCO, more people worldwide will be graduating through education than since the beginning of history. More people, and it\\'s the combination of all the things we\\'ve talked about — technology and its transformation effect on work, and demography and the huge explosion in population.Suddenly, degrees aren\\'t worth anything. Isn\\'t that true? When I was a student, if you had a degree, you had a job. If you didn\\'t have a job, it\\'s because you didn\\'t want one. And I didn\\'t want one, frankly. (Laughter) But now kids with degrees are often heading home to carry on playing video games, because you need an MA where the previous job required a BA, and now you need a PhD for the other. It\\'s a process of academic inflation. And it indicates the whole structure of education is shifting beneath our feet. We need to radically rethink our view of intelligence.We know three things about intelligence. One, it\\'s diverse. We think about the world in all the ways that we experience it. We think visually, we think in sound, we think kinesthetically. We think in abstract terms, we think in movement. Secondly, intelligence is dynamic. If you look at the interactions of a human brain, as we heard yesterday from a number of presentations, intelligence is wonderfully interactive. The brain isn\\'t divided into compartments. In fact, creativity — which I define as the process of having original ideas that have value — more often than not comes about through the interaction of different disciplinary ways of seeing things.By the way, there\\'s a shaft of nerves that joins the two halves of the brain called the corpus callosum. It\\'s thicker in women. Following off from Helen yesterday, this is probably why women are better at multi-tasking. Because you are, aren\\'t you? There\\'s a raft of research, but I know it from my personal life. If my wife is cooking a meal at home — which is not often, thankfully.(Laughter)No, she\\'s good at some things, but if she\\'s cooking, she\\'s dealing with people on the phone, she\\'s talking to the kids, she\\'s painting the ceiling, she\\'s doing open-heart surgery over here. If I\\'m cooking, the door is shut, the kids are out, the phone\\'s on the hook, if she comes in I get annoyed. I say, \"Terry, please, I\\'m trying to fry an egg in here.\"(Laughter)\"Give me a break.\"(Laughter)Actually, do you know that old philosophical thing, if a tree falls in a forest and nobody hears it, did it happen? Remember that old chestnut? I saw a great t-shirt recently, which said, \"If a man speaks his mind in a forest, and no woman hears him, is he still wrong?\"(Laughter)And the third thing about intelligence is, it\\'s distinct. I\\'m doing a new book at the moment called \"Epiphany,\" which is based on a series of interviews with people about how they discovered their talent. I\\'m fascinated by how people got to be there. It\\'s really prompted by a conversation I had with a wonderful woman who maybe most people have never heard of, Gillian Lynne. Have you heard of her? Some have. She\\'s a choreographer, and everybody knows her work. She did \"Cats\" and \"Phantom of the Opera.\" She\\'s wonderful. I used to be on the board of The Royal Ballet, as you can see. Anyway, Gillian and I had lunch one day and I said, \"How did you get to be a dancer?\" It was interesting. When she was at school, she was really hopeless. And the school, in the \\'30s, wrote to her parents and said, \"We think Gillian has a learning disorder.\" She couldn\\'t concentrate; she was fidgeting. I think now they\\'d say she had ADHD. Wouldn\\'t you? But this was the 1930s, and ADHD hadn\\'t been invented at this point. It wasn\\'t an available condition.(Laughter)People weren\\'t aware they could have that.(Laughter)Anyway, she went to see this specialist. So, this oak-paneled room, and she was there with her mother, and she was led and sat on this chair at the end, and she sat on her hands for 20 minutes while this man talked to her mother about the problems Gillian was having at school. Because she was disturbing people; her homework was always late; and so on, little kid of eight. In the end, the doctor went and sat next to Gillian, and said, \"I\\'ve listened to all these things your mother\\'s told me, I need to speak to her privately. Wait here. We\\'ll be back; we won\\'t be very long,\" and they went and left her.But as they went out of the room, he turned on the radio that was sitting on his desk. And when they got out, he said to her mother, \"Just stand and watch her.\" And the minute they left the room, she was on her feet, moving to the music. And they watched for a few minutes and he turned to her mother and said, \"Mrs. Lynne, Gillian isn\\'t sick; she\\'s a dancer. Take her to a dance school.\"I said, \"What happened?\" She said, \"She did. I can\\'t tell you how wonderful it was. We walked in this room and it was full of people like me. People who couldn\\'t sit still. People who had to move to think.\" Who had to move to think. They did ballet, they did tap, jazz; they did modern; they did contemporary. She was eventually auditioned for the Royal Ballet School; she became a soloist; she had a wonderful career at the Royal Ballet. She eventually graduated from the Royal Ballet School, founded the Gillian Lynne Dance Company, met Andrew Lloyd Webber. She\\'s been responsible for some of the most successful musical theater productions in history, she\\'s given pleasure to millions, and she\\'s a multi-millionaire. Somebody else might have put her on medication and told her to calm down.(Applause)What I think it comes to is this: Al Gore spoke the other night about ecology and the revolution that was triggered by Rachel Carson. I believe our only hope for the future is to adopt a new conception of human ecology, one in which we start to reconstitute our conception of the richness of human capacity. Our education system has mined our minds in the way that we strip-mine the earth: for a particular commodity. And for the future, it won\\'t serve us. We have to rethink the fundamental principles on which we\\'re educating our children.There was a wonderful quote by Jonas Salk, who said, \"If all the insects were to disappear from the Earth, within 50 years all life on Earth would end. If all human beings disappeared from the Earth, within 50 years all forms of life would flourish.\" And he\\'s right.What TED celebrates is the gift of the human imagination. We have to be careful now that we use this gift wisely and that we avert some of the scenarios that we\\'ve talked about. And the only way we\\'ll do it is by seeing our creative capacities for the richness they are and seeing our children for the hope that they are. And our task is to educate their whole being, so they can face this future. By the way — we may not see this future, but they will. And our job is to help them make something of it.Thank you very much.(Applause)'"
            ]
          },
          "metadata": {},
          "execution_count": 65
        }
      ]
    },
    {
      "cell_type": "code",
      "metadata": {
        "id": "kLNHp9t4_pid"
      },
      "source": [
        "# This looks like a job for... \n",
        "# REGULAR EXPRESSIONS!\n",
        "\n",
        "import re"
      ],
      "execution_count": null,
      "outputs": []
    },
    {
      "cell_type": "code",
      "metadata": {
        "id": "TpS73bM24dE2"
      },
      "source": [],
      "execution_count": null,
      "outputs": []
    },
    {
      "cell_type": "code",
      "metadata": {
        "id": "xph_sfVp_NjR"
      },
      "source": [
        "transcripts['transcript'] = \\\n",
        "  transcripts['transcript'].apply(lambda x: re.sub(r'\\((.*?)\\)', ' ', x))"
      ],
      "execution_count": null,
      "outputs": []
    },
    {
      "cell_type": "code",
      "metadata": {
        "id": "Ua0qNnC8BY7n",
        "colab": {
          "base_uri": "https://localhost:8080/",
          "height": 203
        },
        "outputId": "ace4fd04-1d59-4f20-dcd8-9bdc816ed46b"
      },
      "source": [
        "transcripts.head() # Like a boss "
      ],
      "execution_count": null,
      "outputs": [
        {
          "output_type": "execute_result",
          "data": {
            "text/html": [
              "<div>\n",
              "<style scoped>\n",
              "    .dataframe tbody tr th:only-of-type {\n",
              "        vertical-align: middle;\n",
              "    }\n",
              "\n",
              "    .dataframe tbody tr th {\n",
              "        vertical-align: top;\n",
              "    }\n",
              "\n",
              "    .dataframe thead th {\n",
              "        text-align: right;\n",
              "    }\n",
              "</style>\n",
              "<table border=\"1\" class=\"dataframe\">\n",
              "  <thead>\n",
              "    <tr style=\"text-align: right;\">\n",
              "      <th></th>\n",
              "      <th>transcript</th>\n",
              "      <th>url</th>\n",
              "    </tr>\n",
              "  </thead>\n",
              "  <tbody>\n",
              "    <tr>\n",
              "      <th>0</th>\n",
              "      <td>Good morning. How are you? It's been great, ha...</td>\n",
              "      <td>https://www.ted.com/talks/ken_robinson_says_sc...</td>\n",
              "    </tr>\n",
              "    <tr>\n",
              "      <th>1</th>\n",
              "      <td>Thank you so much, Chris. And it's truly a gre...</td>\n",
              "      <td>https://www.ted.com/talks/al_gore_on_averting_...</td>\n",
              "    </tr>\n",
              "    <tr>\n",
              "      <th>2</th>\n",
              "      <td>Hello voice mail, my old friend. I've called ...</td>\n",
              "      <td>https://www.ted.com/talks/david_pogue_says_sim...</td>\n",
              "    </tr>\n",
              "    <tr>\n",
              "      <th>3</th>\n",
              "      <td>If you're here today — and I'm very happy that...</td>\n",
              "      <td>https://www.ted.com/talks/majora_carter_s_tale...</td>\n",
              "    </tr>\n",
              "    <tr>\n",
              "      <th>4</th>\n",
              "      <td>About 10 years ago, I took on the task to teac...</td>\n",
              "      <td>https://www.ted.com/talks/hans_rosling_shows_t...</td>\n",
              "    </tr>\n",
              "  </tbody>\n",
              "</table>\n",
              "</div>"
            ],
            "text/plain": [
              "                                          transcript                                                url\n",
              "0  Good morning. How are you? It's been great, ha...  https://www.ted.com/talks/ken_robinson_says_sc...\n",
              "1  Thank you so much, Chris. And it's truly a gre...  https://www.ted.com/talks/al_gore_on_averting_...\n",
              "2   Hello voice mail, my old friend. I've called ...  https://www.ted.com/talks/david_pogue_says_sim...\n",
              "3  If you're here today — and I'm very happy that...  https://www.ted.com/talks/majora_carter_s_tale...\n",
              "4  About 10 years ago, I took on the task to teac...  https://www.ted.com/talks/hans_rosling_shows_t..."
            ]
          },
          "metadata": {},
          "execution_count": 70
        }
      ]
    },
    {
      "cell_type": "code",
      "metadata": {
        "colab": {
          "base_uri": "https://localhost:8080/",
          "height": 120
        },
        "id": "9oNu2ZoN4gap",
        "outputId": "52ed3ff4-6382-482a-e5b2-f29090d0c88b"
      },
      "source": [
        "transcripts['transcript'].iloc[0]"
      ],
      "execution_count": null,
      "outputs": [
        {
          "output_type": "execute_result",
          "data": {
            "application/vnd.google.colaboratory.intrinsic+json": {
              "type": "string"
            },
            "text/plain": [
              "'Good morning. How are you? It\\'s been great, hasn\\'t it? I\\'ve been blown away by the whole thing. In fact, I\\'m leaving. There have been three themes running through the conference which are relevant to what I want to talk about. One is the extraordinary evidence of human creativity in all of the presentations that we\\'ve had and in all of the people here. Just the variety of it and the range of it. The second is that it\\'s put us in a place where we have no idea what\\'s going to happen, in terms of the future. No idea how this may play out.I have an interest in education. Actually, what I find is everybody has an interest in education. Don\\'t you? I find this very interesting. If you\\'re at a dinner party, and you say you work in education — Actually, you\\'re not often at dinner parties, frankly. If you work in education, you\\'re not asked. And you\\'re never asked back, curiously. That\\'s strange to me. But if you are, and you say to somebody, you know, they say, \"What do you do?\" and you say you work in education, you can see the blood run from their face. They\\'re like, \"Oh my God,\" you know, \"Why me?\" \"My one night out all week.\" But if you ask about their education, they pin you to the wall. Because it\\'s one of those things that goes deep with people, am I right? Like religion, and money and other things. So I have a big interest in education, and I think we all do. We have a huge vested interest in it, partly because it\\'s education that\\'s meant to take us into this future that we can\\'t grasp. If you think of it, children starting school this year will be retiring in 2065. Nobody has a clue, despite all the expertise that\\'s been on parade for the past four days, what the world will look like in five years\\' time. And yet we\\'re meant to be educating them for it. So the unpredictability, I think, is extraordinary.And the third part of this is that we\\'ve all agreed, nonetheless, on the really extraordinary capacities that children have — their capacities for innovation. I mean, Sirena last night was a marvel, wasn\\'t she? Just seeing what she could do. And she\\'s exceptional, but I think she\\'s not, so to speak, exceptional in the whole of childhood. What you have there is a person of extraordinary dedication who found a talent. And my contention is, all kids have tremendous talents. And we squander them, pretty ruthlessly.So I want to talk about education and I want to talk about creativity. My contention is that creativity now is as important in education as literacy, and we should treat it with the same status.  Thank you. That was it, by the way. Thank you very much. So, 15 minutes left. Well, I was born... no. I heard a great story recently — I love telling it — of a little girl who was in a drawing lesson. She was six, and she was at the back, drawing, and the teacher said this girl hardly ever paid attention, and in this drawing lesson, she did. The teacher was fascinated. She went over to her, and she said, \"What are you drawing?\" And the girl said, \"I\\'m drawing a picture of God.\" And the teacher said, \"But nobody knows what God looks like.\" And the girl said, \"They will, in a minute.\" When my son was four in England — Actually, he was four everywhere, to be honest. If we\\'re being strict about it, wherever he went, he was four that year. He was in the Nativity play. Do you remember the story? No, it was big, it was a big story. Mel Gibson did the sequel, you may have seen it. \"Nativity II.\" But James got the part of Joseph, which we were thrilled about. We considered this to be one of the lead parts. We had the place crammed full of agents in T-shirts: \"James Robinson IS Joseph!\"   He didn\\'t have to speak, but you know the bit where the three kings come in? They come in bearing gifts, gold, frankincense and myrrh. This really happened. We were sitting there and I think they just went out of sequence, because we talked to the little boy afterward and we said, \"You OK with that?\" And he said, \"Yeah, why? Was that wrong?\" They just switched. The three boys came in, four-year-olds with tea towels on their heads, and they put these boxes down, and the first boy said, \"I bring you gold.\" And the second boy said, \"I bring you myrrh.\" And the third boy said, \"Frank sent this.\" What these things have in common is that kids will take a chance. If they don\\'t know, they\\'ll have a go. Am I right? They\\'re not frightened of being wrong. I don\\'t mean to say that being wrong is the same thing as being creative. What we do know is, if you\\'re not prepared to be wrong, you\\'ll never come up with anything original — if you\\'re not prepared to be wrong. And by the time they get to be adults, most kids have lost that capacity. They have become frightened of being wrong. And we run our companies like this. We stigmatize mistakes. And we\\'re now running national education systems where mistakes are the worst thing you can make. And the result is that we are educating people out of their creative capacities.Picasso once said this, he said that all children are born artists. The problem is to remain an artist as we grow up. I believe this passionately, that we don\\'t grow into creativity, we grow out of it. Or rather, we get educated out of it. So why is this?I lived in Stratford-on-Avon until about five years ago. In fact, we moved from Stratford to Los Angeles. So you can imagine what a seamless transition that was. Actually, we lived in a place called Snitterfield, just outside Stratford, which is where Shakespeare\\'s father was born. Are you struck by a new thought? I was. You don\\'t think of Shakespeare having a father, do you? Do you? Because you don\\'t think of Shakespeare being a child, do you? Shakespeare being seven? I never thought of it. I mean, he was seven at some point. He was in somebody\\'s English class, wasn\\'t he? How annoying would that be? \"Must try harder.\" Being sent to bed by his dad, you know, to Shakespeare, \"Go to bed, now! And put the pencil down.\" \"And stop speaking like that.\" \"It\\'s confusing everybody.\" Anyway, we moved from Stratford to Los Angeles, and I just want to say a word about the transition. My son didn\\'t want to come. I\\'ve got two kids; he\\'s 21 now, my daughter\\'s 16. He didn\\'t want to come to Los Angeles. He loved it, but he had a girlfriend in England. This was the love of his life, Sarah. He\\'d known her for a month. Mind you, they\\'d had their fourth anniversary, because it\\'s a long time when you\\'re 16. He was really upset on the plane, he said, \"I\\'ll never find another girl like Sarah.\" And we were rather pleased about that, frankly — Because she was the main reason we were leaving the country. But something strikes you when you move to America and travel around the world: Every education system on Earth has the same hierarchy of subjects. Every one. Doesn\\'t matter where you go. You\\'d think it would be otherwise, but it isn\\'t. At the top are mathematics and languages, then the humanities, and at the bottom are the arts. Everywhere on Earth. And in pretty much every system too, there\\'s a hierarchy within the arts. Art and music are normally given a higher status in schools than drama and dance. There isn\\'t an education system on the planet that teaches dance everyday to children the way we teach them mathematics. Why? Why not? I think this is rather important. I think math is very important, but so is dance. Children dance all the time if they\\'re allowed to, we all do. We all have bodies, don\\'t we? Did I miss a meeting? Truthfully, what happens is, as children grow up, we start to educate them progressively from the waist up. And then we focus on their heads. And slightly to one side.If you were to visit education, as an alien, and say \"What\\'s it for, public education?\" I think you\\'d have to conclude, if you look at the output, who really succeeds by this, who does everything that they should, who gets all the brownie points, who are the winners — I think you\\'d have to conclude the whole purpose of public education throughout the world is to produce university professors. Isn\\'t it? They\\'re the people who come out the top. And I used to be one, so there. And I like university professors, but you know, we shouldn\\'t hold them up as the high-water mark of all human achievement. They\\'re just a form of life, another form of life. But they\\'re rather curious, and I say this out of affection for them. There\\'s something curious about professors in my experience — not all of them, but typically, they live in their heads. They live up there, and slightly to one side. They\\'re disembodied, you know, in a kind of literal way. They look upon their body as a form of transport for their heads. Don\\'t they? It\\'s a way of getting their head to meetings. If you want real evidence of out-of-body experiences, get yourself along to a residential conference of senior academics, and pop into the discotheque on the final night. And there, you will see it. Grown men and women writhing uncontrollably, off the beat. Waiting until it ends so they can go home and write a paper about it. Our education system is predicated on the idea of academic ability. And there\\'s a reason. Around the world, there were no public systems of education, really, before the 19th century. They all came into being to meet the needs of industrialism. So the hierarchy is rooted on two ideas.Number one, that the most useful subjects for work are at the top. So you were probably steered benignly away from things at school when you were a kid, things you liked, on the grounds that you would never get a job doing that. Is that right? Don\\'t do music, you\\'re not going to be a musician; don\\'t do art, you won\\'t be an artist. Benign advice — now, profoundly mistaken. The whole world is engulfed in a revolution.And the second is academic ability, which has really come to dominate our view of intelligence, because the universities designed the system in their image. If you think of it, the whole system of public education around the world is a protracted process of university entrance. And the consequence is that many highly-talented, brilliant, creative people think they\\'re not, because the thing they were good at at school wasn\\'t valued, or was actually stigmatized. And I think we can\\'t afford to go on that way.In the next 30 years, according to UNESCO, more people worldwide will be graduating through education than since the beginning of history. More people, and it\\'s the combination of all the things we\\'ve talked about — technology and its transformation effect on work, and demography and the huge explosion in population.Suddenly, degrees aren\\'t worth anything. Isn\\'t that true? When I was a student, if you had a degree, you had a job. If you didn\\'t have a job, it\\'s because you didn\\'t want one. And I didn\\'t want one, frankly.   But now kids with degrees are often heading home to carry on playing video games, because you need an MA where the previous job required a BA, and now you need a PhD for the other. It\\'s a process of academic inflation. And it indicates the whole structure of education is shifting beneath our feet. We need to radically rethink our view of intelligence.We know three things about intelligence. One, it\\'s diverse. We think about the world in all the ways that we experience it. We think visually, we think in sound, we think kinesthetically. We think in abstract terms, we think in movement. Secondly, intelligence is dynamic. If you look at the interactions of a human brain, as we heard yesterday from a number of presentations, intelligence is wonderfully interactive. The brain isn\\'t divided into compartments. In fact, creativity — which I define as the process of having original ideas that have value — more often than not comes about through the interaction of different disciplinary ways of seeing things.By the way, there\\'s a shaft of nerves that joins the two halves of the brain called the corpus callosum. It\\'s thicker in women. Following off from Helen yesterday, this is probably why women are better at multi-tasking. Because you are, aren\\'t you? There\\'s a raft of research, but I know it from my personal life. If my wife is cooking a meal at home — which is not often, thankfully. No, she\\'s good at some things, but if she\\'s cooking, she\\'s dealing with people on the phone, she\\'s talking to the kids, she\\'s painting the ceiling, she\\'s doing open-heart surgery over here. If I\\'m cooking, the door is shut, the kids are out, the phone\\'s on the hook, if she comes in I get annoyed. I say, \"Terry, please, I\\'m trying to fry an egg in here.\" \"Give me a break.\" Actually, do you know that old philosophical thing, if a tree falls in a forest and nobody hears it, did it happen? Remember that old chestnut? I saw a great t-shirt recently, which said, \"If a man speaks his mind in a forest, and no woman hears him, is he still wrong?\" And the third thing about intelligence is, it\\'s distinct. I\\'m doing a new book at the moment called \"Epiphany,\" which is based on a series of interviews with people about how they discovered their talent. I\\'m fascinated by how people got to be there. It\\'s really prompted by a conversation I had with a wonderful woman who maybe most people have never heard of, Gillian Lynne. Have you heard of her? Some have. She\\'s a choreographer, and everybody knows her work. She did \"Cats\" and \"Phantom of the Opera.\" She\\'s wonderful. I used to be on the board of The Royal Ballet, as you can see. Anyway, Gillian and I had lunch one day and I said, \"How did you get to be a dancer?\" It was interesting. When she was at school, she was really hopeless. And the school, in the \\'30s, wrote to her parents and said, \"We think Gillian has a learning disorder.\" She couldn\\'t concentrate; she was fidgeting. I think now they\\'d say she had ADHD. Wouldn\\'t you? But this was the 1930s, and ADHD hadn\\'t been invented at this point. It wasn\\'t an available condition. People weren\\'t aware they could have that. Anyway, she went to see this specialist. So, this oak-paneled room, and she was there with her mother, and she was led and sat on this chair at the end, and she sat on her hands for 20 minutes while this man talked to her mother about the problems Gillian was having at school. Because she was disturbing people; her homework was always late; and so on, little kid of eight. In the end, the doctor went and sat next to Gillian, and said, \"I\\'ve listened to all these things your mother\\'s told me, I need to speak to her privately. Wait here. We\\'ll be back; we won\\'t be very long,\" and they went and left her.But as they went out of the room, he turned on the radio that was sitting on his desk. And when they got out, he said to her mother, \"Just stand and watch her.\" And the minute they left the room, she was on her feet, moving to the music. And they watched for a few minutes and he turned to her mother and said, \"Mrs. Lynne, Gillian isn\\'t sick; she\\'s a dancer. Take her to a dance school.\"I said, \"What happened?\" She said, \"She did. I can\\'t tell you how wonderful it was. We walked in this room and it was full of people like me. People who couldn\\'t sit still. People who had to move to think.\" Who had to move to think. They did ballet, they did tap, jazz; they did modern; they did contemporary. She was eventually auditioned for the Royal Ballet School; she became a soloist; she had a wonderful career at the Royal Ballet. She eventually graduated from the Royal Ballet School, founded the Gillian Lynne Dance Company, met Andrew Lloyd Webber. She\\'s been responsible for some of the most successful musical theater productions in history, she\\'s given pleasure to millions, and she\\'s a multi-millionaire. Somebody else might have put her on medication and told her to calm down. What I think it comes to is this: Al Gore spoke the other night about ecology and the revolution that was triggered by Rachel Carson. I believe our only hope for the future is to adopt a new conception of human ecology, one in which we start to reconstitute our conception of the richness of human capacity. Our education system has mined our minds in the way that we strip-mine the earth: for a particular commodity. And for the future, it won\\'t serve us. We have to rethink the fundamental principles on which we\\'re educating our children.There was a wonderful quote by Jonas Salk, who said, \"If all the insects were to disappear from the Earth, within 50 years all life on Earth would end. If all human beings disappeared from the Earth, within 50 years all forms of life would flourish.\" And he\\'s right.What TED celebrates is the gift of the human imagination. We have to be careful now that we use this gift wisely and that we avert some of the scenarios that we\\'ve talked about. And the only way we\\'ll do it is by seeing our creative capacities for the richness they are and seeing our children for the hope that they are. And our task is to educate their whole being, so they can face this future. By the way — we may not see this future, but they will. And our job is to help them make something of it.Thank you very much. '"
            ]
          },
          "metadata": {},
          "execution_count": 71
        }
      ]
    },
    {
      "cell_type": "markdown",
      "metadata": {
        "id": "tURbkZPiAuXA"
      },
      "source": [
        "# Let's visualize some distributions"
      ]
    },
    {
      "cell_type": "code",
      "metadata": {
        "id": "6x-hHqcLVZiE",
        "colab": {
          "base_uri": "https://localhost:8080/",
          "height": 294
        },
        "outputId": "1ab2ff9e-5cc0-48f6-b300-1b59d3bc003f"
      },
      "source": [
        "hists = ted_main.hist()"
      ],
      "execution_count": null,
      "outputs": [
        {
          "output_type": "display_data",
          "data": {
            "image/png": "[encoded data removed]",
            "text/plain": [
              "<Figure size 432x288 with 6 Axes>"
            ]
          },
          "metadata": {
            "needs_background": "light"
          }
        }
      ]
    },
    {
      "cell_type": "markdown",
      "metadata": {
        "id": "xWNue7n_VhHO"
      },
      "source": [
        "### Matplotlib helps keep things cleaner!"
      ]
    },
    {
      "cell_type": "code",
      "metadata": {
        "id": "fp1xefKgVS_E"
      },
      "source": [
        "import matplotlib.pyplot as plt"
      ],
      "execution_count": null,
      "outputs": []
    },
    {
      "cell_type": "code",
      "metadata": {
        "id": "dqaPPfu_Cz77",
        "colab": {
          "base_uri": "https://localhost:8080/",
          "height": 314
        },
        "outputId": "146abed6-a0b1-4d5c-97bf-a2e464ac40aa"
      },
      "source": [
        "hists = ted_main.hist()\n",
        "plt.tight_layout()\n",
        "plt.show()\n",
        "plt.savefig('plot.png')"
      ],
      "execution_count": null,
      "outputs": [
        {
          "output_type": "display_data",
          "data": {
            "image/png": "[encoded data removed]",
            "text/plain": [
              "<Figure size 432x288 with 6 Axes>"
            ]
          },
          "metadata": {
            "needs_background": "light"
          }
        },
        {
          "output_type": "display_data",
          "data": {
            "text/plain": [
              "<Figure size 432x288 with 0 Axes>"
            ]
          },
          "metadata": {}
        }
      ]
    },
    {
      "cell_type": "code",
      "metadata": {
        "colab": {
          "base_uri": "https://localhost:8080/",
          "height": 282
        },
        "id": "lAZiee8j4vgo",
        "outputId": "f0dcb9c7-a858-4aef-ef21-2018ba55927f"
      },
      "source": [
        "ted_main['comments'].hist(bins=20)"
      ],
      "execution_count": null,
      "outputs": [
        {
          "output_type": "execute_result",
          "data": {
            "text/plain": [
              "<matplotlib.axes._subplots.AxesSubplot at 0x7f5f14ab1350>"
            ]
          },
          "metadata": {},
          "execution_count": 77
        },
        {
          "output_type": "display_data",
          "data": {
            "image/png": "[encoded data removed]",
            "text/plain": [
              "<Figure size 432x288 with 1 Axes>"
            ]
          },
          "metadata": {
            "needs_background": "light"
          }
        }
      ]
    },
    {
      "cell_type": "code",
      "metadata": {
        "id": "WDEwgfg55dKD"
      },
      "source": [
        "import numpy as np"
      ],
      "execution_count": null,
      "outputs": []
    },
    {
      "cell_type": "code",
      "metadata": {
        "colab": {
          "base_uri": "https://localhost:8080/",
          "height": 772
        },
        "id": "npJarVuS5Vyw",
        "outputId": "da67983b-b50e-4edc-d0d4-0a5a7b7dde65"
      },
      "source": [
        "plt.hist(np.log([x for x in ted_main['comments'] if x]), bins=100)\n",
        "# np.log([x for x in ted_main['comments'] if x]).hist(bins=20)"
      ],
      "execution_count": null,
      "outputs": [
        {
          "output_type": "execute_result",
          "data": {
            "text/plain": [
              "(array([ 1.,  0.,  0.,  0.,  0.,  3.,  0.,  0.,  0.,  0.,  0.,  0.,  0.,\n",
              "         4.,  0.,  3.,  0.,  5.,  3.,  5.,  0.,  4.,  8.,  5., 14.,  1.,\n",
              "         4., 18., 12., 19., 17., 15., 17., 36., 29., 46., 40., 41., 68.,\n",
              "        49., 40., 68., 64., 73., 67., 75., 76., 96., 84., 92., 67., 75.,\n",
              "        91., 92., 82., 78., 58., 81., 77., 49., 57., 57., 55., 40., 40.,\n",
              "        36., 23., 24., 26., 20., 24., 18., 12., 13., 17.,  9., 11.,  1.,\n",
              "         4.,  3.,  4.,  2.,  4.,  1.,  0.,  2.,  0.,  3.,  1.,  1.,  1.,\n",
              "         1.,  0.,  0.,  0.,  1.,  0.,  0.,  0.,  1.]),\n",
              " array([0.69314718, 0.77386249, 0.8545778 , 0.93529311, 1.01600842,\n",
              "        1.09672373, 1.17743903, 1.25815434, 1.33886965, 1.41958496,\n",
              "        1.50030027, 1.58101558, 1.66173089, 1.7424462 , 1.82316151,\n",
              "        1.90387681, 1.98459212, 2.06530743, 2.14602274, 2.22673805,\n",
              "        2.30745336, 2.38816867, 2.46888398, 2.54959929, 2.6303146 ,\n",
              "        2.7110299 , 2.79174521, 2.87246052, 2.95317583, 3.03389114,\n",
              "        3.11460645, 3.19532176, 3.27603707, 3.35675238, 3.43746768,\n",
              "        3.51818299, 3.5988983 , 3.67961361, 3.76032892, 3.84104423,\n",
              "        3.92175954, 4.00247485, 4.08319016, 4.16390546, 4.24462077,\n",
              "        4.32533608, 4.40605139, 4.4867667 , 4.56748201, 4.64819732,\n",
              "        4.72891263, 4.80962794, 4.89034325, 4.97105855, 5.05177386,\n",
              "        5.13248917, 5.21320448, 5.29391979, 5.3746351 , 5.45535041,\n",
              "        5.53606572, 5.61678103, 5.69749633, 5.77821164, 5.85892695,\n",
              "        5.93964226, 6.02035757, 6.10107288, 6.18178819, 6.2625035 ,\n",
              "        6.34321881, 6.42393411, 6.50464942, 6.58536473, 6.66608004,\n",
              "        6.74679535, 6.82751066, 6.90822597, 6.98894128, 7.06965659,\n",
              "        7.1503719 , 7.2310872 , 7.31180251, 7.39251782, 7.47323313,\n",
              "        7.55394844, 7.63466375, 7.71537906, 7.79609437, 7.87680968,\n",
              "        7.95752498, 8.03824029, 8.1189556 , 8.19967091, 8.28038622,\n",
              "        8.36110153, 8.44181684, 8.52253215, 8.60324746, 8.68396277,\n",
              "        8.76467807]),\n",
              " <a list of 100 Patch objects>)"
            ]
          },
          "metadata": {},
          "execution_count": 84
        },
        {
          "output_type": "display_data",
          "data": {
            "image/png": "[encoded data removed]",
            "text/plain": [
              "<Figure size 432x288 with 1 Axes>"
            ]
          },
          "metadata": {
            "needs_background": "light"
          }
        }
      ]
    },
    {
      "cell_type": "code",
      "metadata": {
        "id": "-ET0LkrFVojE",
        "colab": {
          "base_uri": "https://localhost:8080/",
          "height": 312
        },
        "outputId": "3a34786e-8317-428d-dc6a-7e0710cae468"
      },
      "source": [
        "nums = [1,2,3,4]\n",
        "plt.plot(nums, [x * x for x in nums], '.');\n",
        "plt.plot(nums, [x ** 3 for x in nums], '-o');\n",
        "plt.legend(['Square', 'Cube']);\n",
        "plt.xlabel('x');\n",
        "plt.ylabel('power(x)');\n",
        "plt.title('my graph')"
      ],
      "execution_count": null,
      "outputs": [
        {
          "output_type": "execute_result",
          "data": {
            "text/plain": [
              "Text(0.5, 1.0, 'my graph')"
            ]
          },
          "metadata": {},
          "execution_count": 87
        },
        {
          "output_type": "display_data",
          "data": {
            "image/png": "[encoded data removed]",
            "text/plain": [
              "<Figure size 432x288 with 1 Axes>"
            ]
          },
          "metadata": {
            "needs_background": "light"
          }
        }
      ]
    },
    {
      "cell_type": "code",
      "metadata": {
        "id": "zIRw7_O1WdFk",
        "colab": {
          "base_uri": "https://localhost:8080/",
          "height": 295
        },
        "outputId": "ef76a141-0aff-4058-b1d3-54aa094e36fa"
      },
      "source": [
        "nums = [1,2,3,4]\n",
        "plt.figure(figsize=(4,4))\n",
        "plt.plot(nums, [x * x for x in nums], '-s', color='Green');\n",
        "plt.plot(nums, [x * x * x for x in nums], '-.', color='Red');\n",
        "plt.legend(['Square', 'Cube'])\n",
        "plt.xlabel('x');\n",
        "plt.ylabel('power(x)');\n",
        "\n",
        "plt.xticks(nums)\n",
        "plt.title('A super boring graph')\n",
        "plt.grid(axis='y')\n",
        "# plt.show()"
      ],
      "execution_count": null,
      "outputs": [
        {
          "output_type": "display_data",
          "data": {
            "image/png": "[encoded data removed]",
            "text/plain": [
              "<Figure size 288x288 with 1 Axes>"
            ]
          },
          "metadata": {
            "needs_background": "light"
          }
        }
      ]
    },
    {
      "cell_type": "code",
      "metadata": {
        "id": "nI9rdPSGFf5D",
        "colab": {
          "base_uri": "https://localhost:8080/",
          "height": 571
        },
        "outputId": "27ad1cd6-890e-44b6-f100-5497e9e3132a"
      },
      "source": [
        "ted_main.head(5)"
      ],
      "execution_count": null,
      "outputs": [
        {
          "output_type": "execute_result",
          "data": {
            "text/html": [
              "<div>\n",
              "<style scoped>\n",
              "    .dataframe tbody tr th:only-of-type {\n",
              "        vertical-align: middle;\n",
              "    }\n",
              "\n",
              "    .dataframe tbody tr th {\n",
              "        vertical-align: top;\n",
              "    }\n",
              "\n",
              "    .dataframe thead th {\n",
              "        text-align: right;\n",
              "    }\n",
              "</style>\n",
              "<table border=\"1\" class=\"dataframe\">\n",
              "  <thead>\n",
              "    <tr style=\"text-align: right;\">\n",
              "      <th></th>\n",
              "      <th>comments</th>\n",
              "      <th>description</th>\n",
              "      <th>duration</th>\n",
              "      <th>event</th>\n",
              "      <th>film_date</th>\n",
              "      <th>languages</th>\n",
              "      <th>main_speaker</th>\n",
              "      <th>name</th>\n",
              "      <th>num_speaker</th>\n",
              "      <th>published_date</th>\n",
              "      <th>ratings</th>\n",
              "      <th>related_talks</th>\n",
              "      <th>speaker_occupation</th>\n",
              "      <th>tags</th>\n",
              "      <th>title</th>\n",
              "      <th>url</th>\n",
              "      <th>views</th>\n",
              "    </tr>\n",
              "  </thead>\n",
              "  <tbody>\n",
              "    <tr>\n",
              "      <th>0</th>\n",
              "      <td>4553</td>\n",
              "      <td>Sir Ken Robinson makes an entertaining and pro...</td>\n",
              "      <td>1164</td>\n",
              "      <td>TED2006</td>\n",
              "      <td>2006-02-25</td>\n",
              "      <td>60</td>\n",
              "      <td>Ken Robinson</td>\n",
              "      <td>Do schools kill creativity?</td>\n",
              "      <td>1</td>\n",
              "      <td>2006-06-27 00:11:00</td>\n",
              "      <td>[{'id': 7, 'name': 'Funny', 'count': 19645}, {...</td>\n",
              "      <td>[{'id': 865, 'hero': 'https://pe.tedcdn.com/im...</td>\n",
              "      <td>Author/educator</td>\n",
              "      <td>[children, creativity, culture, dance, educati...</td>\n",
              "      <td>Do schools kill creativity?</td>\n",
              "      <td>https://www.ted.com/talks/ken_robinson_says_sc...</td>\n",
              "      <td>47227110</td>\n",
              "    </tr>\n",
              "    <tr>\n",
              "      <th>1</th>\n",
              "      <td>265</td>\n",
              "      <td>With the same humor and humanity he exuded in ...</td>\n",
              "      <td>977</td>\n",
              "      <td>TED2006</td>\n",
              "      <td>2006-02-25</td>\n",
              "      <td>43</td>\n",
              "      <td>Al Gore</td>\n",
              "      <td>Averting the climate crisis</td>\n",
              "      <td>1</td>\n",
              "      <td>2006-06-27 00:11:00</td>\n",
              "      <td>[{'id': 7, 'name': 'Funny', 'count': 544}, {'i...</td>\n",
              "      <td>[{'id': 243, 'hero': 'https://pe.tedcdn.com/im...</td>\n",
              "      <td>Climate advocate</td>\n",
              "      <td>[alternative energy, cars, climate change, cul...</td>\n",
              "      <td>Averting the climate crisis</td>\n",
              "      <td>https://www.ted.com/talks/al_gore_on_averting_...</td>\n",
              "      <td>3200520</td>\n",
              "    </tr>\n",
              "    <tr>\n",
              "      <th>2</th>\n",
              "      <td>124</td>\n",
              "      <td>New York Times columnist David Pogue takes aim...</td>\n",
              "      <td>1286</td>\n",
              "      <td>TED2006</td>\n",
              "      <td>2006-02-24</td>\n",
              "      <td>26</td>\n",
              "      <td>David Pogue</td>\n",
              "      <td>Simplicity sells</td>\n",
              "      <td>1</td>\n",
              "      <td>2006-06-27 00:11:00</td>\n",
              "      <td>[{'id': 7, 'name': 'Funny', 'count': 964}, {'i...</td>\n",
              "      <td>[{'id': 1725, 'hero': 'https://pe.tedcdn.com/i...</td>\n",
              "      <td>Technology columnist</td>\n",
              "      <td>[computers, entertainment, interface design, m...</td>\n",
              "      <td>Simplicity sells</td>\n",
              "      <td>https://www.ted.com/talks/david_pogue_says_sim...</td>\n",
              "      <td>1636292</td>\n",
              "    </tr>\n",
              "    <tr>\n",
              "      <th>3</th>\n",
              "      <td>200</td>\n",
              "      <td>In an emotionally charged talk, MacArthur-winn...</td>\n",
              "      <td>1116</td>\n",
              "      <td>TED2006</td>\n",
              "      <td>2006-02-26</td>\n",
              "      <td>35</td>\n",
              "      <td>Majora Carter</td>\n",
              "      <td>Greening the ghetto</td>\n",
              "      <td>1</td>\n",
              "      <td>2006-06-27 00:11:00</td>\n",
              "      <td>[{'id': 3, 'name': 'Courageous', 'count': 760}...</td>\n",
              "      <td>[{'id': 1041, 'hero': 'https://pe.tedcdn.com/i...</td>\n",
              "      <td>Activist for environmental justice</td>\n",
              "      <td>[MacArthur grant, activism, business, cities, ...</td>\n",
              "      <td>Greening the ghetto</td>\n",
              "      <td>https://www.ted.com/talks/majora_carter_s_tale...</td>\n",
              "      <td>1697550</td>\n",
              "    </tr>\n",
              "    <tr>\n",
              "      <th>4</th>\n",
              "      <td>593</td>\n",
              "      <td>You've never seen data presented like this. Wi...</td>\n",
              "      <td>1190</td>\n",
              "      <td>TED2006</td>\n",
              "      <td>2006-02-22</td>\n",
              "      <td>48</td>\n",
              "      <td>Hans Rosling</td>\n",
              "      <td>The best stats you've ever seen</td>\n",
              "      <td>1</td>\n",
              "      <td>2006-06-27 20:38:00</td>\n",
              "      <td>[{'id': 9, 'name': 'Ingenious', 'count': 3202}...</td>\n",
              "      <td>[{'id': 2056, 'hero': 'https://pe.tedcdn.com/i...</td>\n",
              "      <td>Global health expert; data visionary</td>\n",
              "      <td>[Africa, Asia, Google, demo, economics, global...</td>\n",
              "      <td>The best stats you've ever seen</td>\n",
              "      <td>https://www.ted.com/talks/hans_rosling_shows_t...</td>\n",
              "      <td>12005869</td>\n",
              "    </tr>\n",
              "  </tbody>\n",
              "</table>\n",
              "</div>"
            ],
            "text/plain": [
              "   comments  ...     views\n",
              "0      4553  ...  47227110\n",
              "1       265  ...   3200520\n",
              "2       124  ...   1636292\n",
              "3       200  ...   1697550\n",
              "4       593  ...  12005869\n",
              "\n",
              "[5 rows x 17 columns]"
            ]
          },
          "metadata": {},
          "execution_count": 73
        }
      ]
    },
    {
      "cell_type": "code",
      "metadata": {
        "id": "UgB_1a_dj19l",
        "colab": {
          "base_uri": "https://localhost:8080/",
          "height": 203
        },
        "outputId": "7ed454a2-5a00-4113-e0e7-568f7df21fd8"
      },
      "source": [
        "ted_main.corr()"
      ],
      "execution_count": null,
      "outputs": [
        {
          "output_type": "execute_result",
          "data": {
            "text/html": [
              "<div>\n",
              "<style scoped>\n",
              "    .dataframe tbody tr th:only-of-type {\n",
              "        vertical-align: middle;\n",
              "    }\n",
              "\n",
              "    .dataframe tbody tr th {\n",
              "        vertical-align: top;\n",
              "    }\n",
              "\n",
              "    .dataframe thead th {\n",
              "        text-align: right;\n",
              "    }\n",
              "</style>\n",
              "<table border=\"1\" class=\"dataframe\">\n",
              "  <thead>\n",
              "    <tr style=\"text-align: right;\">\n",
              "      <th></th>\n",
              "      <th>comments</th>\n",
              "      <th>duration</th>\n",
              "      <th>languages</th>\n",
              "      <th>num_speaker</th>\n",
              "      <th>views</th>\n",
              "    </tr>\n",
              "  </thead>\n",
              "  <tbody>\n",
              "    <tr>\n",
              "      <th>comments</th>\n",
              "      <td>1.000000</td>\n",
              "      <td>0.134170</td>\n",
              "      <td>0.377637</td>\n",
              "      <td>-0.033845</td>\n",
              "      <td>0.532780</td>\n",
              "    </tr>\n",
              "    <tr>\n",
              "      <th>duration</th>\n",
              "      <td>0.134170</td>\n",
              "      <td>1.000000</td>\n",
              "      <td>-0.295681</td>\n",
              "      <td>0.022257</td>\n",
              "      <td>0.048740</td>\n",
              "    </tr>\n",
              "    <tr>\n",
              "      <th>languages</th>\n",
              "      <td>0.377637</td>\n",
              "      <td>-0.295681</td>\n",
              "      <td>1.000000</td>\n",
              "      <td>-0.063100</td>\n",
              "      <td>0.377623</td>\n",
              "    </tr>\n",
              "    <tr>\n",
              "      <th>num_speaker</th>\n",
              "      <td>-0.033845</td>\n",
              "      <td>0.022257</td>\n",
              "      <td>-0.063100</td>\n",
              "      <td>1.000000</td>\n",
              "      <td>-0.026389</td>\n",
              "    </tr>\n",
              "    <tr>\n",
              "      <th>views</th>\n",
              "      <td>0.532780</td>\n",
              "      <td>0.048740</td>\n",
              "      <td>0.377623</td>\n",
              "      <td>-0.026389</td>\n",
              "      <td>1.000000</td>\n",
              "    </tr>\n",
              "  </tbody>\n",
              "</table>\n",
              "</div>"
            ],
            "text/plain": [
              "             comments  duration  languages  num_speaker     views\n",
              "comments     1.000000  0.134170   0.377637    -0.033845  0.532780\n",
              "duration     0.134170  1.000000  -0.295681     0.022257  0.048740\n",
              "languages    0.377637 -0.295681   1.000000    -0.063100  0.377623\n",
              "num_speaker -0.033845  0.022257  -0.063100     1.000000 -0.026389\n",
              "views        0.532780  0.048740   0.377623    -0.026389  1.000000"
            ]
          },
          "metadata": {},
          "execution_count": 89
        }
      ]
    },
    {
      "cell_type": "code",
      "metadata": {
        "id": "fTblQchpjzFk"
      },
      "source": [
        "import seaborn as sns"
      ],
      "execution_count": null,
      "outputs": []
    },
    {
      "cell_type": "code",
      "metadata": {
        "id": "ubpO2nJnj-CD",
        "colab": {
          "base_uri": "https://localhost:8080/",
          "height": 326
        },
        "outputId": "697f9ce9-21d4-4f14-de8f-879bd6a8ea02"
      },
      "source": [
        "sns.heatmap(ted_main.corr());"
      ],
      "execution_count": null,
      "outputs": [
        {
          "output_type": "display_data",
          "data": {
            "image/png": "[encoded data removed]",
            "text/plain": [
              "<Figure size 432x288 with 2 Axes>"
            ]
          },
          "metadata": {
            "needs_background": "light"
          }
        }
      ]
    },
    {
      "cell_type": "code",
      "metadata": {
        "id": "PMdMJNsnkCzU",
        "colab": {
          "base_uri": "https://localhost:8080/",
          "height": 326
        },
        "outputId": "a227da81-abab-4352-8fe2-f6b8c1cc40a6"
      },
      "source": [
        "sns.heatmap(ted_main.corr(), vmin=-1, vmax=1, cmap='seismic', linewidths=0.2, annot=True);"
      ],
      "execution_count": null,
      "outputs": [
        {
          "output_type": "display_data",
          "data": {
            "image/png": "[encoded data removed]",
            "text/plain": [
              "<Figure size 432x288 with 2 Axes>"
            ]
          },
          "metadata": {
            "needs_background": "light"
          }
        }
      ]
    },
    {
      "cell_type": "markdown",
      "metadata": {
        "id": "0-VKk9QcBW9N"
      },
      "source": [
        "## Visualizing distributions"
      ]
    },
    {
      "cell_type": "code",
      "metadata": {
        "id": "fr46ApODAo0X",
        "colab": {
          "base_uri": "https://localhost:8080/",
          "height": 265
        },
        "outputId": "0a399319-e538-4851-8353-ac16fc9ed89b"
      },
      "source": [
        "ted_main['comments'].hist(bins=100);"
      ],
      "execution_count": null,
      "outputs": [
        {
          "output_type": "display_data",
          "data": {
            "image/png": "[encoded data removed]",
            "text/plain": [
              "<Figure size 432x288 with 1 Axes>"
            ]
          },
          "metadata": {
            "needs_background": "light"
          }
        }
      ]
    },
    {
      "cell_type": "code",
      "metadata": {
        "id": "Xarxj4RSXtw2"
      },
      "source": [
        "import numpy as np"
      ],
      "execution_count": null,
      "outputs": []
    },
    {
      "cell_type": "code",
      "metadata": {
        "id": "UMb9h6Tp76FX"
      },
      "source": [
        "ted_main.dropna(how='any', inplace=True)"
      ],
      "execution_count": null,
      "outputs": []
    },
    {
      "cell_type": "code",
      "metadata": {
        "id": "Bt9slz5TA9DX",
        "colab": {
          "base_uri": "https://localhost:8080/",
          "height": 623
        },
        "outputId": "c746a360-065f-45a6-bd4f-bcb10c9c993b"
      },
      "source": [
        "np.log(ted_main['comments']).hist(bins=100);"
      ],
      "execution_count": null,
      "outputs": [
        {
          "output_type": "stream",
          "name": "stderr",
          "text": [
            "/usr/local/lib/python3.7/dist-packages/pandas/core/series.py:726: RuntimeWarning: divide by zero encountered in log\n",
            "  result = getattr(ufunc, method)(*inputs, **kwargs)\n"
          ]
        },
        {
          "output_type": "error",
          "ename": "ValueError",
          "evalue": "ignored",
          "traceback": [
            "\u001b[0;31m---------------------------------------------------------------------------\u001b[0m",
            "\u001b[0;31mValueError\u001b[0m                                Traceback (most recent call last)",
            "\u001b[0;32m<ipython-input-97-79ec743201ea>\u001b[0m in \u001b[0;36m<module>\u001b[0;34m()\u001b[0m\n\u001b[0;32m----> 1\u001b[0;31m \u001b[0mnp\u001b[0m\u001b[0;34m.\u001b[0m\u001b[0mlog\u001b[0m\u001b[0;34m(\u001b[0m\u001b[0mted_main\u001b[0m\u001b[0;34m[\u001b[0m\u001b[0;34m'comments'\u001b[0m\u001b[0;34m]\u001b[0m\u001b[0;34m)\u001b[0m\u001b[0;34m.\u001b[0m\u001b[0mhist\u001b[0m\u001b[0;34m(\u001b[0m\u001b[0mbins\u001b[0m\u001b[0;34m=\u001b[0m\u001b[0;36m100\u001b[0m\u001b[0;34m)\u001b[0m\u001b[0;34m;\u001b[0m\u001b[0;34m\u001b[0m\u001b[0;34m\u001b[0m\u001b[0m\n\u001b[0m",
            "\u001b[0;32m/usr/local/lib/python3.7/dist-packages/pandas/plotting/_core.py\u001b[0m in \u001b[0;36mhist_series\u001b[0;34m(self, by, ax, grid, xlabelsize, xrot, ylabelsize, yrot, figsize, bins, backend, legend, **kwargs)\u001b[0m\n\u001b[1;32m     95\u001b[0m         \u001b[0mbins\u001b[0m\u001b[0;34m=\u001b[0m\u001b[0mbins\u001b[0m\u001b[0;34m,\u001b[0m\u001b[0;34m\u001b[0m\u001b[0;34m\u001b[0m\u001b[0m\n\u001b[1;32m     96\u001b[0m         \u001b[0mlegend\u001b[0m\u001b[0;34m=\u001b[0m\u001b[0mlegend\u001b[0m\u001b[0;34m,\u001b[0m\u001b[0;34m\u001b[0m\u001b[0;34m\u001b[0m\u001b[0m\n\u001b[0;32m---> 97\u001b[0;31m         \u001b[0;34m**\u001b[0m\u001b[0mkwargs\u001b[0m\u001b[0;34m,\u001b[0m\u001b[0;34m\u001b[0m\u001b[0;34m\u001b[0m\u001b[0m\n\u001b[0m\u001b[1;32m     98\u001b[0m     )\n\u001b[1;32m     99\u001b[0m \u001b[0;34m\u001b[0m\u001b[0m\n",
            "\u001b[0;32m/usr/local/lib/python3.7/dist-packages/pandas/plotting/_matplotlib/hist.py\u001b[0m in \u001b[0;36mhist_series\u001b[0;34m(self, by, ax, grid, xlabelsize, xrot, ylabelsize, yrot, figsize, bins, legend, **kwds)\u001b[0m\n\u001b[1;32m    327\u001b[0m         \u001b[0;32mif\u001b[0m \u001b[0mlegend\u001b[0m\u001b[0;34m:\u001b[0m\u001b[0;34m\u001b[0m\u001b[0;34m\u001b[0m\u001b[0m\n\u001b[1;32m    328\u001b[0m             \u001b[0mkwds\u001b[0m\u001b[0;34m[\u001b[0m\u001b[0;34m\"label\"\u001b[0m\u001b[0;34m]\u001b[0m \u001b[0;34m=\u001b[0m \u001b[0mself\u001b[0m\u001b[0;34m.\u001b[0m\u001b[0mname\u001b[0m\u001b[0;34m\u001b[0m\u001b[0;34m\u001b[0m\u001b[0m\n\u001b[0;32m--> 329\u001b[0;31m         \u001b[0max\u001b[0m\u001b[0;34m.\u001b[0m\u001b[0mhist\u001b[0m\u001b[0;34m(\u001b[0m\u001b[0mvalues\u001b[0m\u001b[0;34m,\u001b[0m \u001b[0mbins\u001b[0m\u001b[0;34m=\u001b[0m\u001b[0mbins\u001b[0m\u001b[0;34m,\u001b[0m \u001b[0;34m**\u001b[0m\u001b[0mkwds\u001b[0m\u001b[0;34m)\u001b[0m\u001b[0;34m\u001b[0m\u001b[0;34m\u001b[0m\u001b[0m\n\u001b[0m\u001b[1;32m    330\u001b[0m         \u001b[0;32mif\u001b[0m \u001b[0mlegend\u001b[0m\u001b[0;34m:\u001b[0m\u001b[0;34m\u001b[0m\u001b[0;34m\u001b[0m\u001b[0m\n\u001b[1;32m    331\u001b[0m             \u001b[0max\u001b[0m\u001b[0;34m.\u001b[0m\u001b[0mlegend\u001b[0m\u001b[0;34m(\u001b[0m\u001b[0;34m)\u001b[0m\u001b[0;34m\u001b[0m\u001b[0;34m\u001b[0m\u001b[0m\n",
            "\u001b[0;32m/usr/local/lib/python3.7/dist-packages/matplotlib/__init__.py\u001b[0m in \u001b[0;36minner\u001b[0;34m(ax, data, *args, **kwargs)\u001b[0m\n\u001b[1;32m   1563\u001b[0m     \u001b[0;32mdef\u001b[0m \u001b[0minner\u001b[0m\u001b[0;34m(\u001b[0m\u001b[0max\u001b[0m\u001b[0;34m,\u001b[0m \u001b[0;34m*\u001b[0m\u001b[0margs\u001b[0m\u001b[0;34m,\u001b[0m \u001b[0mdata\u001b[0m\u001b[0;34m=\u001b[0m\u001b[0;32mNone\u001b[0m\u001b[0;34m,\u001b[0m \u001b[0;34m**\u001b[0m\u001b[0mkwargs\u001b[0m\u001b[0;34m)\u001b[0m\u001b[0;34m:\u001b[0m\u001b[0;34m\u001b[0m\u001b[0;34m\u001b[0m\u001b[0m\n\u001b[1;32m   1564\u001b[0m         \u001b[0;32mif\u001b[0m \u001b[0mdata\u001b[0m \u001b[0;32mis\u001b[0m \u001b[0;32mNone\u001b[0m\u001b[0;34m:\u001b[0m\u001b[0;34m\u001b[0m\u001b[0;34m\u001b[0m\u001b[0m\n\u001b[0;32m-> 1565\u001b[0;31m             \u001b[0;32mreturn\u001b[0m \u001b[0mfunc\u001b[0m\u001b[0;34m(\u001b[0m\u001b[0max\u001b[0m\u001b[0;34m,\u001b[0m \u001b[0;34m*\u001b[0m\u001b[0mmap\u001b[0m\u001b[0;34m(\u001b[0m\u001b[0msanitize_sequence\u001b[0m\u001b[0;34m,\u001b[0m \u001b[0margs\u001b[0m\u001b[0;34m)\u001b[0m\u001b[0;34m,\u001b[0m \u001b[0;34m**\u001b[0m\u001b[0mkwargs\u001b[0m\u001b[0;34m)\u001b[0m\u001b[0;34m\u001b[0m\u001b[0;34m\u001b[0m\u001b[0m\n\u001b[0m\u001b[1;32m   1566\u001b[0m \u001b[0;34m\u001b[0m\u001b[0m\n\u001b[1;32m   1567\u001b[0m         \u001b[0mbound\u001b[0m \u001b[0;34m=\u001b[0m \u001b[0mnew_sig\u001b[0m\u001b[0;34m.\u001b[0m\u001b[0mbind\u001b[0m\u001b[0;34m(\u001b[0m\u001b[0max\u001b[0m\u001b[0;34m,\u001b[0m \u001b[0;34m*\u001b[0m\u001b[0margs\u001b[0m\u001b[0;34m,\u001b[0m \u001b[0;34m**\u001b[0m\u001b[0mkwargs\u001b[0m\u001b[0;34m)\u001b[0m\u001b[0;34m\u001b[0m\u001b[0;34m\u001b[0m\u001b[0m\n",
            "\u001b[0;32m/usr/local/lib/python3.7/dist-packages/matplotlib/axes/_axes.py\u001b[0m in \u001b[0;36mhist\u001b[0;34m(self, x, bins, range, density, weights, cumulative, bottom, histtype, align, orientation, rwidth, log, color, label, stacked, **kwargs)\u001b[0m\n\u001b[1;32m   6658\u001b[0m             \u001b[0;31m# this will automatically overwrite bins,\u001b[0m\u001b[0;34m\u001b[0m\u001b[0;34m\u001b[0m\u001b[0;34m\u001b[0m\u001b[0m\n\u001b[1;32m   6659\u001b[0m             \u001b[0;31m# so that each histogram uses the same bins\u001b[0m\u001b[0;34m\u001b[0m\u001b[0;34m\u001b[0m\u001b[0;34m\u001b[0m\u001b[0m\n\u001b[0;32m-> 6660\u001b[0;31m             \u001b[0mm\u001b[0m\u001b[0;34m,\u001b[0m \u001b[0mbins\u001b[0m \u001b[0;34m=\u001b[0m \u001b[0mnp\u001b[0m\u001b[0;34m.\u001b[0m\u001b[0mhistogram\u001b[0m\u001b[0;34m(\u001b[0m\u001b[0mx\u001b[0m\u001b[0;34m[\u001b[0m\u001b[0mi\u001b[0m\u001b[0;34m]\u001b[0m\u001b[0;34m,\u001b[0m \u001b[0mbins\u001b[0m\u001b[0;34m,\u001b[0m \u001b[0mweights\u001b[0m\u001b[0;34m=\u001b[0m\u001b[0mw\u001b[0m\u001b[0;34m[\u001b[0m\u001b[0mi\u001b[0m\u001b[0;34m]\u001b[0m\u001b[0;34m,\u001b[0m \u001b[0;34m**\u001b[0m\u001b[0mhist_kwargs\u001b[0m\u001b[0;34m)\u001b[0m\u001b[0;34m\u001b[0m\u001b[0;34m\u001b[0m\u001b[0m\n\u001b[0m\u001b[1;32m   6661\u001b[0m             \u001b[0mtops\u001b[0m\u001b[0;34m.\u001b[0m\u001b[0mappend\u001b[0m\u001b[0;34m(\u001b[0m\u001b[0mm\u001b[0m\u001b[0;34m)\u001b[0m\u001b[0;34m\u001b[0m\u001b[0;34m\u001b[0m\u001b[0m\n\u001b[1;32m   6662\u001b[0m         \u001b[0mtops\u001b[0m \u001b[0;34m=\u001b[0m \u001b[0mnp\u001b[0m\u001b[0;34m.\u001b[0m\u001b[0marray\u001b[0m\u001b[0;34m(\u001b[0m\u001b[0mtops\u001b[0m\u001b[0;34m,\u001b[0m \u001b[0mfloat\u001b[0m\u001b[0;34m)\u001b[0m  \u001b[0;31m# causes problems later if it's an int\u001b[0m\u001b[0;34m\u001b[0m\u001b[0;34m\u001b[0m\u001b[0m\n",
            "\u001b[0;32m<__array_function__ internals>\u001b[0m in \u001b[0;36mhistogram\u001b[0;34m(*args, **kwargs)\u001b[0m\n",
            "\u001b[0;32m/usr/local/lib/python3.7/dist-packages/numpy/lib/histograms.py\u001b[0m in \u001b[0;36mhistogram\u001b[0;34m(a, bins, range, normed, weights, density)\u001b[0m\n\u001b[1;32m    790\u001b[0m     \u001b[0ma\u001b[0m\u001b[0;34m,\u001b[0m \u001b[0mweights\u001b[0m \u001b[0;34m=\u001b[0m \u001b[0m_ravel_and_check_weights\u001b[0m\u001b[0;34m(\u001b[0m\u001b[0ma\u001b[0m\u001b[0;34m,\u001b[0m \u001b[0mweights\u001b[0m\u001b[0;34m)\u001b[0m\u001b[0;34m\u001b[0m\u001b[0;34m\u001b[0m\u001b[0m\n\u001b[1;32m    791\u001b[0m \u001b[0;34m\u001b[0m\u001b[0m\n\u001b[0;32m--> 792\u001b[0;31m     \u001b[0mbin_edges\u001b[0m\u001b[0;34m,\u001b[0m \u001b[0muniform_bins\u001b[0m \u001b[0;34m=\u001b[0m \u001b[0m_get_bin_edges\u001b[0m\u001b[0;34m(\u001b[0m\u001b[0ma\u001b[0m\u001b[0;34m,\u001b[0m \u001b[0mbins\u001b[0m\u001b[0;34m,\u001b[0m \u001b[0mrange\u001b[0m\u001b[0;34m,\u001b[0m \u001b[0mweights\u001b[0m\u001b[0;34m)\u001b[0m\u001b[0;34m\u001b[0m\u001b[0;34m\u001b[0m\u001b[0m\n\u001b[0m\u001b[1;32m    793\u001b[0m \u001b[0;34m\u001b[0m\u001b[0m\n\u001b[1;32m    794\u001b[0m     \u001b[0;31m# Histogram is an integer or a float array depending on the weights.\u001b[0m\u001b[0;34m\u001b[0m\u001b[0;34m\u001b[0m\u001b[0;34m\u001b[0m\u001b[0m\n",
            "\u001b[0;32m/usr/local/lib/python3.7/dist-packages/numpy/lib/histograms.py\u001b[0m in \u001b[0;36m_get_bin_edges\u001b[0;34m(a, bins, range, weights)\u001b[0m\n\u001b[1;32m    424\u001b[0m             \u001b[0;32mraise\u001b[0m \u001b[0mValueError\u001b[0m\u001b[0;34m(\u001b[0m\u001b[0;34m'`bins` must be positive, when an integer'\u001b[0m\u001b[0;34m)\u001b[0m\u001b[0;34m\u001b[0m\u001b[0;34m\u001b[0m\u001b[0m\n\u001b[1;32m    425\u001b[0m \u001b[0;34m\u001b[0m\u001b[0m\n\u001b[0;32m--> 426\u001b[0;31m         \u001b[0mfirst_edge\u001b[0m\u001b[0;34m,\u001b[0m \u001b[0mlast_edge\u001b[0m \u001b[0;34m=\u001b[0m \u001b[0m_get_outer_edges\u001b[0m\u001b[0;34m(\u001b[0m\u001b[0ma\u001b[0m\u001b[0;34m,\u001b[0m \u001b[0mrange\u001b[0m\u001b[0;34m)\u001b[0m\u001b[0;34m\u001b[0m\u001b[0;34m\u001b[0m\u001b[0m\n\u001b[0m\u001b[1;32m    427\u001b[0m \u001b[0;34m\u001b[0m\u001b[0m\n\u001b[1;32m    428\u001b[0m     \u001b[0;32melif\u001b[0m \u001b[0mnp\u001b[0m\u001b[0;34m.\u001b[0m\u001b[0mndim\u001b[0m\u001b[0;34m(\u001b[0m\u001b[0mbins\u001b[0m\u001b[0;34m)\u001b[0m \u001b[0;34m==\u001b[0m \u001b[0;36m1\u001b[0m\u001b[0;34m:\u001b[0m\u001b[0;34m\u001b[0m\u001b[0;34m\u001b[0m\u001b[0m\n",
            "\u001b[0;32m/usr/local/lib/python3.7/dist-packages/numpy/lib/histograms.py\u001b[0m in \u001b[0;36m_get_outer_edges\u001b[0;34m(a, range)\u001b[0m\n\u001b[1;32m    314\u001b[0m         \u001b[0;32mif\u001b[0m \u001b[0;32mnot\u001b[0m \u001b[0;34m(\u001b[0m\u001b[0mnp\u001b[0m\u001b[0;34m.\u001b[0m\u001b[0misfinite\u001b[0m\u001b[0;34m(\u001b[0m\u001b[0mfirst_edge\u001b[0m\u001b[0;34m)\u001b[0m \u001b[0;32mand\u001b[0m \u001b[0mnp\u001b[0m\u001b[0;34m.\u001b[0m\u001b[0misfinite\u001b[0m\u001b[0;34m(\u001b[0m\u001b[0mlast_edge\u001b[0m\u001b[0;34m)\u001b[0m\u001b[0;34m)\u001b[0m\u001b[0;34m:\u001b[0m\u001b[0;34m\u001b[0m\u001b[0;34m\u001b[0m\u001b[0m\n\u001b[1;32m    315\u001b[0m             raise ValueError(\n\u001b[0;32m--> 316\u001b[0;31m                 \"supplied range of [{}, {}] is not finite\".format(first_edge, last_edge))\n\u001b[0m\u001b[1;32m    317\u001b[0m     \u001b[0;32melif\u001b[0m \u001b[0ma\u001b[0m\u001b[0;34m.\u001b[0m\u001b[0msize\u001b[0m \u001b[0;34m==\u001b[0m \u001b[0;36m0\u001b[0m\u001b[0;34m:\u001b[0m\u001b[0;34m\u001b[0m\u001b[0;34m\u001b[0m\u001b[0m\n\u001b[1;32m    318\u001b[0m         \u001b[0;31m# handle empty arrays. Can't determine range, so use 0-1.\u001b[0m\u001b[0;34m\u001b[0m\u001b[0;34m\u001b[0m\u001b[0;34m\u001b[0m\u001b[0m\n",
            "\u001b[0;31mValueError\u001b[0m: supplied range of [-inf, 8.764678074116606] is not finite"
          ]
        },
        {
          "output_type": "display_data",
          "data": {
            "image/png": "[encoded data removed]",
            "text/plain": [
              "<Figure size 432x288 with 1 Axes>"
            ]
          },
          "metadata": {
            "needs_background": "light"
          }
        }
      ]
    },
    {
      "cell_type": "code",
      "metadata": {
        "id": "9GTsvRtgGmCl",
        "colab": {
          "base_uri": "https://localhost:8080/",
          "height": 288
        },
        "outputId": "731d5a8b-108a-4b9d-afbf-b07470734078"
      },
      "source": [
        "ted_main['comments'].hist(log=True, bins=100)"
      ],
      "execution_count": null,
      "outputs": [
        {
          "output_type": "execute_result",
          "data": {
            "text/plain": [
              "<matplotlib.axes._subplots.AxesSubplot at 0x7f5f055ba4d0>"
            ]
          },
          "metadata": {},
          "execution_count": 98
        },
        {
          "output_type": "display_data",
          "data": {
            "image/png": "[encoded data removed]",
            "text/plain": [
              "<Figure size 432x288 with 1 Axes>"
            ]
          },
          "metadata": {
            "needs_background": "light"
          }
        }
      ]
    },
    {
      "cell_type": "markdown",
      "metadata": {
        "id": "ctYd4EMnBY8M"
      },
      "source": [
        "## Duration"
      ]
    },
    {
      "cell_type": "code",
      "metadata": {
        "id": "vo_ChGuyBDqU",
        "colab": {
          "base_uri": "https://localhost:8080/",
          "height": 265
        },
        "outputId": "63700fc7-2373-4924-b268-186f00ed9b13"
      },
      "source": [
        "ted_main['duration'].hist(bins=50);"
      ],
      "execution_count": null,
      "outputs": [
        {
          "output_type": "display_data",
          "data": {
            "image/png": "[encoded data removed]",
            "text/plain": [
              "<Figure size 432x288 with 1 Axes>"
            ]
          },
          "metadata": {
            "needs_background": "light"
          }
        }
      ]
    },
    {
      "cell_type": "code",
      "metadata": {
        "id": "7MzW-_xJBdpT",
        "colab": {
          "base_uri": "https://localhost:8080/",
          "height": 265
        },
        "outputId": "7bc88883-af1b-4657-95c5-6568acafaee0"
      },
      "source": [
        "np.log(ted_main['duration']).hist(bins=50);"
      ],
      "execution_count": null,
      "outputs": [
        {
          "output_type": "display_data",
          "data": {
            "image/png": "[encoded data removed]",
            "text/plain": [
              "<Figure size 432x288 with 1 Axes>"
            ]
          },
          "metadata": {
            "needs_background": "light"
          }
        }
      ]
    },
    {
      "cell_type": "markdown",
      "metadata": {
        "id": "MYaqjS5oBvIK"
      },
      "source": [
        "## Views"
      ]
    },
    {
      "cell_type": "code",
      "metadata": {
        "id": "ZPZVm9P2BfqX",
        "colab": {
          "base_uri": "https://localhost:8080/",
          "height": 278
        },
        "outputId": "05ae7195-7331-4c84-e47e-735f3ce570c2"
      },
      "source": [
        "ted_main['views'].hist(bins=50);"
      ],
      "execution_count": null,
      "outputs": [
        {
          "output_type": "display_data",
          "data": {
            "image/png": "[encoded data removed]",
            "text/plain": [
              "<Figure size 432x288 with 1 Axes>"
            ]
          },
          "metadata": {
            "needs_background": "light"
          }
        }
      ]
    },
    {
      "cell_type": "code",
      "metadata": {
        "id": "TmdCHVs7ByXV",
        "colab": {
          "base_uri": "https://localhost:8080/",
          "height": 265
        },
        "outputId": "7898fbc5-f103-4d71-c652-52cf4e966754"
      },
      "source": [
        "np.log(ted_main['views']).hist(bins=50);"
      ],
      "execution_count": null,
      "outputs": [
        {
          "output_type": "display_data",
          "data": {
            "image/png": "[encoded data removed]",
            "text/plain": [
              "<Figure size 432x288 with 1 Axes>"
            ]
          },
          "metadata": {
            "needs_background": "light"
          }
        }
      ]
    },
    {
      "cell_type": "markdown",
      "metadata": {
        "id": "wRUPZdN2KXiM"
      },
      "source": [
        "# Predict label from Speaker's Profession"
      ]
    },
    {
      "cell_type": "code",
      "metadata": {
        "id": "DVGbPKu2G3Qp",
        "colab": {
          "base_uri": "https://localhost:8080/"
        },
        "outputId": "69342edf-d82f-404f-a8c3-27e30842cb78"
      },
      "source": [
        "ted_main['speaker_occupation'].value_counts()"
      ],
      "execution_count": null,
      "outputs": [
        {
          "output_type": "execute_result",
          "data": {
            "text/plain": [
              "Writer                               45\n",
              "Designer                             34\n",
              "Artist                               34\n",
              "Journalist                           33\n",
              "Entrepreneur                         31\n",
              "                                     ..\n",
              "Environmental activist                1\n",
              "Actor, producer, activist             1\n",
              "Neuroscientist and science writer     1\n",
              "Physicist, cosmologist                1\n",
              "Neuroanatomist                        1\n",
              "Name: speaker_occupation, Length: 1458, dtype: int64"
            ]
          },
          "metadata": {},
          "execution_count": 103
        }
      ]
    },
    {
      "cell_type": "code",
      "metadata": {
        "id": "N_uZVrvUMYKf"
      },
      "source": [
        "professions = ted_main['speaker_occupation']\n",
        "most_common_professions = list(professions.value_counts()[:50].index)\n",
        "test = ted_main['speaker_occupation'].apply(\\\n",
        "  lambda x: x if x in most_common_professions else 'Other')"
      ],
      "execution_count": null,
      "outputs": []
    },
    {
      "cell_type": "code",
      "metadata": {
        "colab": {
          "base_uri": "https://localhost:8080/"
        },
        "id": "IaXyz-OQ8d0U",
        "outputId": "18dbc552-afda-4382-cde6-4730851730dd"
      },
      "source": [
        "professions.value_counts()[:50].index"
      ],
      "execution_count": null,
      "outputs": [
        {
          "output_type": "execute_result",
          "data": {
            "text/plain": [
              "Index(['Writer', 'Designer', 'Artist', 'Journalist', 'Entrepreneur',\n",
              "       'Architect', 'Inventor', 'Psychologist', 'Photographer', 'Filmmaker',\n",
              "       'Neuroscientist', 'Author', 'Economist', 'Educator', 'Roboticist',\n",
              "       'Philosopher', 'Biologist', 'Physicist', 'Marine biologist', 'Musician',\n",
              "       'Global health expert; data visionary', 'Activist', 'Technologist',\n",
              "       'Astronomer', 'Behavioral economist', 'Philanthropist',\n",
              "       'Graphic designer', 'Historian', 'Oceanographer', 'Singer/songwriter',\n",
              "       'Poet', 'Futurist', 'Engineer', 'Social psychologist', 'Novelist',\n",
              "       'Computer scientist', 'Mathematician', 'Astrophysicist',\n",
              "       'Photojournalist', 'Techno-illusionist', 'Social entrepreneur',\n",
              "       'Climate advocate', 'Writer, activist', 'Evolutionary biologist',\n",
              "       'Legal activist', 'Performance poet, multimedia artist',\n",
              "       'Singer-songwriter', 'Comedian', 'Reporter', 'Musician, activist'],\n",
              "      dtype='object')"
            ]
          },
          "metadata": {},
          "execution_count": 108
        }
      ]
    },
    {
      "cell_type": "code",
      "metadata": {
        "id": "1hg9OaOMHBm0",
        "colab": {
          "base_uri": "https://localhost:8080/"
        },
        "outputId": "0e37bfe5-a839-4eb9-c659-286c1e4a1bd5"
      },
      "source": [
        "test.value_counts()"
      ],
      "execution_count": null,
      "outputs": [
        {
          "output_type": "execute_result",
          "data": {
            "text/plain": [
              "Other                                   1848\n",
              "Writer                                    45\n",
              "Artist                                    34\n",
              "Designer                                  34\n",
              "Journalist                                33\n",
              "Entrepreneur                              31\n",
              "Architect                                 30\n",
              "Inventor                                  27\n",
              "Psychologist                              26\n",
              "Photographer                              25\n",
              "Filmmaker                                 21\n",
              "Neuroscientist                            20\n",
              "Author                                    20\n",
              "Economist                                 20\n",
              "Educator                                  20\n",
              "Philosopher                               16\n",
              "Roboticist                                16\n",
              "Biologist                                 15\n",
              "Physicist                                 14\n",
              "Marine biologist                          11\n",
              "Musician                                  11\n",
              "Activist                                  10\n",
              "Global health expert; data visionary      10\n",
              "Technologist                              10\n",
              "Philanthropist                             9\n",
              "Graphic designer                           9\n",
              "Astronomer                                 9\n",
              "Historian                                  9\n",
              "Oceanographer                              9\n",
              "Behavioral economist                       9\n",
              "Poet                                       9\n",
              "Singer/songwriter                          9\n",
              "Computer scientist                         8\n",
              "Futurist                                   8\n",
              "Social psychologist                        8\n",
              "Novelist                                   8\n",
              "Engineer                                   8\n",
              "Astrophysicist                             7\n",
              "Mathematician                              7\n",
              "Photojournalist                            6\n",
              "Performance poet, multimedia artist        6\n",
              "Legal activist                             6\n",
              "Techno-illusionist                         6\n",
              "Social entrepreneur                        6\n",
              "Climate advocate                           6\n",
              "Writer, activist                           6\n",
              "Evolutionary biologist                     6\n",
              "Singer-songwriter                          6\n",
              "Reporter                                   6\n",
              "Comedian                                   6\n",
              "Musician, activist                         5\n",
              "Name: speaker_occupation, dtype: int64"
            ]
          },
          "metadata": {},
          "execution_count": 110
        }
      ]
    },
    {
      "cell_type": "code",
      "metadata": {
        "id": "bue0jMH8-_at",
        "colab": {
          "base_uri": "https://localhost:8080/"
        },
        "outputId": "a4dff864-8478-430d-8499-144e821be156"
      },
      "source": [
        "test"
      ],
      "execution_count": null,
      "outputs": [
        {
          "output_type": "execute_result",
          "data": {
            "text/plain": [
              "0                                      Other\n",
              "1                           Climate advocate\n",
              "2                                      Other\n",
              "3                                      Other\n",
              "4       Global health expert; data visionary\n",
              "                        ...                 \n",
              "2545                              Journalist\n",
              "2546                                   Other\n",
              "2547                                   Other\n",
              "2548                                   Other\n",
              "2549                                   Other\n",
              "Name: speaker_occupation, Length: 2544, dtype: object"
            ]
          },
          "metadata": {},
          "execution_count": 112
        }
      ]
    },
    {
      "cell_type": "code",
      "metadata": {
        "id": "bidMhDG_NeOC"
      },
      "source": [
        "one_hot_vectors = pd.get_dummies(test)"
      ],
      "execution_count": null,
      "outputs": []
    },
    {
      "cell_type": "code",
      "metadata": {
        "id": "BrnW2XIO9W1R"
      },
      "source": [
        "pd.get_dummies?"
      ],
      "execution_count": null,
      "outputs": []
    },
    {
      "cell_type": "code",
      "metadata": {
        "id": "U4X53nLNHPyw",
        "colab": {
          "base_uri": "https://localhost:8080/",
          "height": 504
        },
        "outputId": "848c500c-3a75-4d6a-a34f-d34fd83f4505"
      },
      "source": [
        "one_hot_vectors"
      ],
      "execution_count": null,
      "outputs": [
        {
          "output_type": "execute_result",
          "data": {
            "text/html": [
              "<div>\n",
              "<style scoped>\n",
              "    .dataframe tbody tr th:only-of-type {\n",
              "        vertical-align: middle;\n",
              "    }\n",
              "\n",
              "    .dataframe tbody tr th {\n",
              "        vertical-align: top;\n",
              "    }\n",
              "\n",
              "    .dataframe thead th {\n",
              "        text-align: right;\n",
              "    }\n",
              "</style>\n",
              "<table border=\"1\" class=\"dataframe\">\n",
              "  <thead>\n",
              "    <tr style=\"text-align: right;\">\n",
              "      <th></th>\n",
              "      <th>Activist</th>\n",
              "      <th>Architect</th>\n",
              "      <th>Artist</th>\n",
              "      <th>Astronomer</th>\n",
              "      <th>Astrophysicist</th>\n",
              "      <th>Author</th>\n",
              "      <th>Behavioral economist</th>\n",
              "      <th>Biologist</th>\n",
              "      <th>Climate advocate</th>\n",
              "      <th>Comedian</th>\n",
              "      <th>Computer scientist</th>\n",
              "      <th>Designer</th>\n",
              "      <th>Economist</th>\n",
              "      <th>Educator</th>\n",
              "      <th>Engineer</th>\n",
              "      <th>Entrepreneur</th>\n",
              "      <th>Evolutionary biologist</th>\n",
              "      <th>Filmmaker</th>\n",
              "      <th>Futurist</th>\n",
              "      <th>Global health expert; data visionary</th>\n",
              "      <th>Graphic designer</th>\n",
              "      <th>Historian</th>\n",
              "      <th>Inventor</th>\n",
              "      <th>Journalist</th>\n",
              "      <th>Legal activist</th>\n",
              "      <th>Marine biologist</th>\n",
              "      <th>Mathematician</th>\n",
              "      <th>Musician</th>\n",
              "      <th>Musician, activist</th>\n",
              "      <th>Neuroscientist</th>\n",
              "      <th>Novelist</th>\n",
              "      <th>Oceanographer</th>\n",
              "      <th>Other</th>\n",
              "      <th>Performance poet, multimedia artist</th>\n",
              "      <th>Philanthropist</th>\n",
              "      <th>Philosopher</th>\n",
              "      <th>Photographer</th>\n",
              "      <th>Photojournalist</th>\n",
              "      <th>Physicist</th>\n",
              "      <th>Poet</th>\n",
              "      <th>Psychologist</th>\n",
              "      <th>Reporter</th>\n",
              "      <th>Roboticist</th>\n",
              "      <th>Singer-songwriter</th>\n",
              "      <th>Singer/songwriter</th>\n",
              "      <th>Social entrepreneur</th>\n",
              "      <th>Social psychologist</th>\n",
              "      <th>Techno-illusionist</th>\n",
              "      <th>Technologist</th>\n",
              "      <th>Writer</th>\n",
              "      <th>Writer, activist</th>\n",
              "    </tr>\n",
              "  </thead>\n",
              "  <tbody>\n",
              "    <tr>\n",
              "      <th>0</th>\n",
              "      <td>0</td>\n",
              "      <td>0</td>\n",
              "      <td>0</td>\n",
              "      <td>0</td>\n",
              "      <td>0</td>\n",
              "      <td>0</td>\n",
              "      <td>0</td>\n",
              "      <td>0</td>\n",
              "      <td>0</td>\n",
              "      <td>0</td>\n",
              "      <td>0</td>\n",
              "      <td>0</td>\n",
              "      <td>0</td>\n",
              "      <td>0</td>\n",
              "      <td>0</td>\n",
              "      <td>0</td>\n",
              "      <td>0</td>\n",
              "      <td>0</td>\n",
              "      <td>0</td>\n",
              "      <td>0</td>\n",
              "      <td>0</td>\n",
              "      <td>0</td>\n",
              "      <td>0</td>\n",
              "      <td>0</td>\n",
              "      <td>0</td>\n",
              "      <td>0</td>\n",
              "      <td>0</td>\n",
              "      <td>0</td>\n",
              "      <td>0</td>\n",
              "      <td>0</td>\n",
              "      <td>0</td>\n",
              "      <td>0</td>\n",
              "      <td>1</td>\n",
              "      <td>0</td>\n",
              "      <td>0</td>\n",
              "      <td>0</td>\n",
              "      <td>0</td>\n",
              "      <td>0</td>\n",
              "      <td>0</td>\n",
              "      <td>0</td>\n",
              "      <td>0</td>\n",
              "      <td>0</td>\n",
              "      <td>0</td>\n",
              "      <td>0</td>\n",
              "      <td>0</td>\n",
              "      <td>0</td>\n",
              "      <td>0</td>\n",
              "      <td>0</td>\n",
              "      <td>0</td>\n",
              "      <td>0</td>\n",
              "      <td>0</td>\n",
              "    </tr>\n",
              "    <tr>\n",
              "      <th>1</th>\n",
              "      <td>0</td>\n",
              "      <td>0</td>\n",
              "      <td>0</td>\n",
              "      <td>0</td>\n",
              "      <td>0</td>\n",
              "      <td>0</td>\n",
              "      <td>0</td>\n",
              "      <td>0</td>\n",
              "      <td>1</td>\n",
              "      <td>0</td>\n",
              "      <td>0</td>\n",
              "      <td>0</td>\n",
              "      <td>0</td>\n",
              "      <td>0</td>\n",
              "      <td>0</td>\n",
              "      <td>0</td>\n",
              "      <td>0</td>\n",
              "      <td>0</td>\n",
              "      <td>0</td>\n",
              "      <td>0</td>\n",
              "      <td>0</td>\n",
              "      <td>0</td>\n",
              "      <td>0</td>\n",
              "      <td>0</td>\n",
              "      <td>0</td>\n",
              "      <td>0</td>\n",
              "      <td>0</td>\n",
              "      <td>0</td>\n",
              "      <td>0</td>\n",
              "      <td>0</td>\n",
              "      <td>0</td>\n",
              "      <td>0</td>\n",
              "      <td>0</td>\n",
              "      <td>0</td>\n",
              "      <td>0</td>\n",
              "      <td>0</td>\n",
              "      <td>0</td>\n",
              "      <td>0</td>\n",
              "      <td>0</td>\n",
              "      <td>0</td>\n",
              "      <td>0</td>\n",
              "      <td>0</td>\n",
              "      <td>0</td>\n",
              "      <td>0</td>\n",
              "      <td>0</td>\n",
              "      <td>0</td>\n",
              "      <td>0</td>\n",
              "      <td>0</td>\n",
              "      <td>0</td>\n",
              "      <td>0</td>\n",
              "      <td>0</td>\n",
              "    </tr>\n",
              "    <tr>\n",
              "      <th>2</th>\n",
              "      <td>0</td>\n",
              "      <td>0</td>\n",
              "      <td>0</td>\n",
              "      <td>0</td>\n",
              "      <td>0</td>\n",
              "      <td>0</td>\n",
              "      <td>0</td>\n",
              "      <td>0</td>\n",
              "      <td>0</td>\n",
              "      <td>0</td>\n",
              "      <td>0</td>\n",
              "      <td>0</td>\n",
              "      <td>0</td>\n",
              "      <td>0</td>\n",
              "      <td>0</td>\n",
              "      <td>0</td>\n",
              "      <td>0</td>\n",
              "      <td>0</td>\n",
              "      <td>0</td>\n",
              "      <td>0</td>\n",
              "      <td>0</td>\n",
              "      <td>0</td>\n",
              "      <td>0</td>\n",
              "      <td>0</td>\n",
              "      <td>0</td>\n",
              "      <td>0</td>\n",
              "      <td>0</td>\n",
              "      <td>0</td>\n",
              "      <td>0</td>\n",
              "      <td>0</td>\n",
              "      <td>0</td>\n",
              "      <td>0</td>\n",
              "      <td>1</td>\n",
              "      <td>0</td>\n",
              "      <td>0</td>\n",
              "      <td>0</td>\n",
              "      <td>0</td>\n",
              "      <td>0</td>\n",
              "      <td>0</td>\n",
              "      <td>0</td>\n",
              "      <td>0</td>\n",
              "      <td>0</td>\n",
              "      <td>0</td>\n",
              "      <td>0</td>\n",
              "      <td>0</td>\n",
              "      <td>0</td>\n",
              "      <td>0</td>\n",
              "      <td>0</td>\n",
              "      <td>0</td>\n",
              "      <td>0</td>\n",
              "      <td>0</td>\n",
              "    </tr>\n",
              "    <tr>\n",
              "      <th>3</th>\n",
              "      <td>0</td>\n",
              "      <td>0</td>\n",
              "      <td>0</td>\n",
              "      <td>0</td>\n",
              "      <td>0</td>\n",
              "      <td>0</td>\n",
              "      <td>0</td>\n",
              "      <td>0</td>\n",
              "      <td>0</td>\n",
              "      <td>0</td>\n",
              "      <td>0</td>\n",
              "      <td>0</td>\n",
              "      <td>0</td>\n",
              "      <td>0</td>\n",
              "      <td>0</td>\n",
              "      <td>0</td>\n",
              "      <td>0</td>\n",
              "      <td>0</td>\n",
              "      <td>0</td>\n",
              "      <td>0</td>\n",
              "      <td>0</td>\n",
              "      <td>0</td>\n",
              "      <td>0</td>\n",
              "      <td>0</td>\n",
              "      <td>0</td>\n",
              "      <td>0</td>\n",
              "      <td>0</td>\n",
              "      <td>0</td>\n",
              "      <td>0</td>\n",
              "      <td>0</td>\n",
              "      <td>0</td>\n",
              "      <td>0</td>\n",
              "      <td>1</td>\n",
              "      <td>0</td>\n",
              "      <td>0</td>\n",
              "      <td>0</td>\n",
              "      <td>0</td>\n",
              "      <td>0</td>\n",
              "      <td>0</td>\n",
              "      <td>0</td>\n",
              "      <td>0</td>\n",
              "      <td>0</td>\n",
              "      <td>0</td>\n",
              "      <td>0</td>\n",
              "      <td>0</td>\n",
              "      <td>0</td>\n",
              "      <td>0</td>\n",
              "      <td>0</td>\n",
              "      <td>0</td>\n",
              "      <td>0</td>\n",
              "      <td>0</td>\n",
              "    </tr>\n",
              "    <tr>\n",
              "      <th>4</th>\n",
              "      <td>0</td>\n",
              "      <td>0</td>\n",
              "      <td>0</td>\n",
              "      <td>0</td>\n",
              "      <td>0</td>\n",
              "      <td>0</td>\n",
              "      <td>0</td>\n",
              "      <td>0</td>\n",
              "      <td>0</td>\n",
              "      <td>0</td>\n",
              "      <td>0</td>\n",
              "      <td>0</td>\n",
              "      <td>0</td>\n",
              "      <td>0</td>\n",
              "      <td>0</td>\n",
              "      <td>0</td>\n",
              "      <td>0</td>\n",
              "      <td>0</td>\n",
              "      <td>0</td>\n",
              "      <td>1</td>\n",
              "      <td>0</td>\n",
              "      <td>0</td>\n",
              "      <td>0</td>\n",
              "      <td>0</td>\n",
              "      <td>0</td>\n",
              "      <td>0</td>\n",
              "      <td>0</td>\n",
              "      <td>0</td>\n",
              "      <td>0</td>\n",
              "      <td>0</td>\n",
              "      <td>0</td>\n",
              "      <td>0</td>\n",
              "      <td>0</td>\n",
              "      <td>0</td>\n",
              "      <td>0</td>\n",
              "      <td>0</td>\n",
              "      <td>0</td>\n",
              "      <td>0</td>\n",
              "      <td>0</td>\n",
              "      <td>0</td>\n",
              "      <td>0</td>\n",
              "      <td>0</td>\n",
              "      <td>0</td>\n",
              "      <td>0</td>\n",
              "      <td>0</td>\n",
              "      <td>0</td>\n",
              "      <td>0</td>\n",
              "      <td>0</td>\n",
              "      <td>0</td>\n",
              "      <td>0</td>\n",
              "      <td>0</td>\n",
              "    </tr>\n",
              "    <tr>\n",
              "      <th>...</th>\n",
              "      <td>...</td>\n",
              "      <td>...</td>\n",
              "      <td>...</td>\n",
              "      <td>...</td>\n",
              "      <td>...</td>\n",
              "      <td>...</td>\n",
              "      <td>...</td>\n",
              "      <td>...</td>\n",
              "      <td>...</td>\n",
              "      <td>...</td>\n",
              "      <td>...</td>\n",
              "      <td>...</td>\n",
              "      <td>...</td>\n",
              "      <td>...</td>\n",
              "      <td>...</td>\n",
              "      <td>...</td>\n",
              "      <td>...</td>\n",
              "      <td>...</td>\n",
              "      <td>...</td>\n",
              "      <td>...</td>\n",
              "      <td>...</td>\n",
              "      <td>...</td>\n",
              "      <td>...</td>\n",
              "      <td>...</td>\n",
              "      <td>...</td>\n",
              "      <td>...</td>\n",
              "      <td>...</td>\n",
              "      <td>...</td>\n",
              "      <td>...</td>\n",
              "      <td>...</td>\n",
              "      <td>...</td>\n",
              "      <td>...</td>\n",
              "      <td>...</td>\n",
              "      <td>...</td>\n",
              "      <td>...</td>\n",
              "      <td>...</td>\n",
              "      <td>...</td>\n",
              "      <td>...</td>\n",
              "      <td>...</td>\n",
              "      <td>...</td>\n",
              "      <td>...</td>\n",
              "      <td>...</td>\n",
              "      <td>...</td>\n",
              "      <td>...</td>\n",
              "      <td>...</td>\n",
              "      <td>...</td>\n",
              "      <td>...</td>\n",
              "      <td>...</td>\n",
              "      <td>...</td>\n",
              "      <td>...</td>\n",
              "      <td>...</td>\n",
              "    </tr>\n",
              "    <tr>\n",
              "      <th>2545</th>\n",
              "      <td>0</td>\n",
              "      <td>0</td>\n",
              "      <td>0</td>\n",
              "      <td>0</td>\n",
              "      <td>0</td>\n",
              "      <td>0</td>\n",
              "      <td>0</td>\n",
              "      <td>0</td>\n",
              "      <td>0</td>\n",
              "      <td>0</td>\n",
              "      <td>0</td>\n",
              "      <td>0</td>\n",
              "      <td>0</td>\n",
              "      <td>0</td>\n",
              "      <td>0</td>\n",
              "      <td>0</td>\n",
              "      <td>0</td>\n",
              "      <td>0</td>\n",
              "      <td>0</td>\n",
              "      <td>0</td>\n",
              "      <td>0</td>\n",
              "      <td>0</td>\n",
              "      <td>0</td>\n",
              "      <td>1</td>\n",
              "      <td>0</td>\n",
              "      <td>0</td>\n",
              "      <td>0</td>\n",
              "      <td>0</td>\n",
              "      <td>0</td>\n",
              "      <td>0</td>\n",
              "      <td>0</td>\n",
              "      <td>0</td>\n",
              "      <td>0</td>\n",
              "      <td>0</td>\n",
              "      <td>0</td>\n",
              "      <td>0</td>\n",
              "      <td>0</td>\n",
              "      <td>0</td>\n",
              "      <td>0</td>\n",
              "      <td>0</td>\n",
              "      <td>0</td>\n",
              "      <td>0</td>\n",
              "      <td>0</td>\n",
              "      <td>0</td>\n",
              "      <td>0</td>\n",
              "      <td>0</td>\n",
              "      <td>0</td>\n",
              "      <td>0</td>\n",
              "      <td>0</td>\n",
              "      <td>0</td>\n",
              "      <td>0</td>\n",
              "    </tr>\n",
              "    <tr>\n",
              "      <th>2546</th>\n",
              "      <td>0</td>\n",
              "      <td>0</td>\n",
              "      <td>0</td>\n",
              "      <td>0</td>\n",
              "      <td>0</td>\n",
              "      <td>0</td>\n",
              "      <td>0</td>\n",
              "      <td>0</td>\n",
              "      <td>0</td>\n",
              "      <td>0</td>\n",
              "      <td>0</td>\n",
              "      <td>0</td>\n",
              "      <td>0</td>\n",
              "      <td>0</td>\n",
              "      <td>0</td>\n",
              "      <td>0</td>\n",
              "      <td>0</td>\n",
              "      <td>0</td>\n",
              "      <td>0</td>\n",
              "      <td>0</td>\n",
              "      <td>0</td>\n",
              "      <td>0</td>\n",
              "      <td>0</td>\n",
              "      <td>0</td>\n",
              "      <td>0</td>\n",
              "      <td>0</td>\n",
              "      <td>0</td>\n",
              "      <td>0</td>\n",
              "      <td>0</td>\n",
              "      <td>0</td>\n",
              "      <td>0</td>\n",
              "      <td>0</td>\n",
              "      <td>1</td>\n",
              "      <td>0</td>\n",
              "      <td>0</td>\n",
              "      <td>0</td>\n",
              "      <td>0</td>\n",
              "      <td>0</td>\n",
              "      <td>0</td>\n",
              "      <td>0</td>\n",
              "      <td>0</td>\n",
              "      <td>0</td>\n",
              "      <td>0</td>\n",
              "      <td>0</td>\n",
              "      <td>0</td>\n",
              "      <td>0</td>\n",
              "      <td>0</td>\n",
              "      <td>0</td>\n",
              "      <td>0</td>\n",
              "      <td>0</td>\n",
              "      <td>0</td>\n",
              "    </tr>\n",
              "    <tr>\n",
              "      <th>2547</th>\n",
              "      <td>0</td>\n",
              "      <td>0</td>\n",
              "      <td>0</td>\n",
              "      <td>0</td>\n",
              "      <td>0</td>\n",
              "      <td>0</td>\n",
              "      <td>0</td>\n",
              "      <td>0</td>\n",
              "      <td>0</td>\n",
              "      <td>0</td>\n",
              "      <td>0</td>\n",
              "      <td>0</td>\n",
              "      <td>0</td>\n",
              "      <td>0</td>\n",
              "      <td>0</td>\n",
              "      <td>0</td>\n",
              "      <td>0</td>\n",
              "      <td>0</td>\n",
              "      <td>0</td>\n",
              "      <td>0</td>\n",
              "      <td>0</td>\n",
              "      <td>0</td>\n",
              "      <td>0</td>\n",
              "      <td>0</td>\n",
              "      <td>0</td>\n",
              "      <td>0</td>\n",
              "      <td>0</td>\n",
              "      <td>0</td>\n",
              "      <td>0</td>\n",
              "      <td>0</td>\n",
              "      <td>0</td>\n",
              "      <td>0</td>\n",
              "      <td>1</td>\n",
              "      <td>0</td>\n",
              "      <td>0</td>\n",
              "      <td>0</td>\n",
              "      <td>0</td>\n",
              "      <td>0</td>\n",
              "      <td>0</td>\n",
              "      <td>0</td>\n",
              "      <td>0</td>\n",
              "      <td>0</td>\n",
              "      <td>0</td>\n",
              "      <td>0</td>\n",
              "      <td>0</td>\n",
              "      <td>0</td>\n",
              "      <td>0</td>\n",
              "      <td>0</td>\n",
              "      <td>0</td>\n",
              "      <td>0</td>\n",
              "      <td>0</td>\n",
              "    </tr>\n",
              "    <tr>\n",
              "      <th>2548</th>\n",
              "      <td>0</td>\n",
              "      <td>0</td>\n",
              "      <td>0</td>\n",
              "      <td>0</td>\n",
              "      <td>0</td>\n",
              "      <td>0</td>\n",
              "      <td>0</td>\n",
              "      <td>0</td>\n",
              "      <td>0</td>\n",
              "      <td>0</td>\n",
              "      <td>0</td>\n",
              "      <td>0</td>\n",
              "      <td>0</td>\n",
              "      <td>0</td>\n",
              "      <td>0</td>\n",
              "      <td>0</td>\n",
              "      <td>0</td>\n",
              "      <td>0</td>\n",
              "      <td>0</td>\n",
              "      <td>0</td>\n",
              "      <td>0</td>\n",
              "      <td>0</td>\n",
              "      <td>0</td>\n",
              "      <td>0</td>\n",
              "      <td>0</td>\n",
              "      <td>0</td>\n",
              "      <td>0</td>\n",
              "      <td>0</td>\n",
              "      <td>0</td>\n",
              "      <td>0</td>\n",
              "      <td>0</td>\n",
              "      <td>0</td>\n",
              "      <td>1</td>\n",
              "      <td>0</td>\n",
              "      <td>0</td>\n",
              "      <td>0</td>\n",
              "      <td>0</td>\n",
              "      <td>0</td>\n",
              "      <td>0</td>\n",
              "      <td>0</td>\n",
              "      <td>0</td>\n",
              "      <td>0</td>\n",
              "      <td>0</td>\n",
              "      <td>0</td>\n",
              "      <td>0</td>\n",
              "      <td>0</td>\n",
              "      <td>0</td>\n",
              "      <td>0</td>\n",
              "      <td>0</td>\n",
              "      <td>0</td>\n",
              "      <td>0</td>\n",
              "    </tr>\n",
              "    <tr>\n",
              "      <th>2549</th>\n",
              "      <td>0</td>\n",
              "      <td>0</td>\n",
              "      <td>0</td>\n",
              "      <td>0</td>\n",
              "      <td>0</td>\n",
              "      <td>0</td>\n",
              "      <td>0</td>\n",
              "      <td>0</td>\n",
              "      <td>0</td>\n",
              "      <td>0</td>\n",
              "      <td>0</td>\n",
              "      <td>0</td>\n",
              "      <td>0</td>\n",
              "      <td>0</td>\n",
              "      <td>0</td>\n",
              "      <td>0</td>\n",
              "      <td>0</td>\n",
              "      <td>0</td>\n",
              "      <td>0</td>\n",
              "      <td>0</td>\n",
              "      <td>0</td>\n",
              "      <td>0</td>\n",
              "      <td>0</td>\n",
              "      <td>0</td>\n",
              "      <td>0</td>\n",
              "      <td>0</td>\n",
              "      <td>0</td>\n",
              "      <td>0</td>\n",
              "      <td>0</td>\n",
              "      <td>0</td>\n",
              "      <td>0</td>\n",
              "      <td>0</td>\n",
              "      <td>1</td>\n",
              "      <td>0</td>\n",
              "      <td>0</td>\n",
              "      <td>0</td>\n",
              "      <td>0</td>\n",
              "      <td>0</td>\n",
              "      <td>0</td>\n",
              "      <td>0</td>\n",
              "      <td>0</td>\n",
              "      <td>0</td>\n",
              "      <td>0</td>\n",
              "      <td>0</td>\n",
              "      <td>0</td>\n",
              "      <td>0</td>\n",
              "      <td>0</td>\n",
              "      <td>0</td>\n",
              "      <td>0</td>\n",
              "      <td>0</td>\n",
              "      <td>0</td>\n",
              "    </tr>\n",
              "  </tbody>\n",
              "</table>\n",
              "<p>2544 rows × 51 columns</p>\n",
              "</div>"
            ],
            "text/plain": [
              "      Activist  Architect  Artist  ...  Technologist  Writer  Writer, activist\n",
              "0            0          0       0  ...             0       0                 0\n",
              "1            0          0       0  ...             0       0                 0\n",
              "2            0          0       0  ...             0       0                 0\n",
              "3            0          0       0  ...             0       0                 0\n",
              "4            0          0       0  ...             0       0                 0\n",
              "...        ...        ...     ...  ...           ...     ...               ...\n",
              "2545         0          0       0  ...             0       0                 0\n",
              "2546         0          0       0  ...             0       0                 0\n",
              "2547         0          0       0  ...             0       0                 0\n",
              "2548         0          0       0  ...             0       0                 0\n",
              "2549         0          0       0  ...             0       0                 0\n",
              "\n",
              "[2544 rows x 51 columns]"
            ]
          },
          "metadata": {},
          "execution_count": 114
        }
      ]
    },
    {
      "cell_type": "code",
      "metadata": {
        "id": "nB6IQJoTHpeo",
        "colab": {
          "base_uri": "https://localhost:8080/"
        },
        "outputId": "23589ea7-91cb-4d78-f8b9-dcc990372679"
      },
      "source": [
        "ted_main['tags']"
      ],
      "execution_count": null,
      "outputs": [
        {
          "output_type": "execute_result",
          "data": {
            "text/plain": [
              "0       [children, creativity, culture, dance, educati...\n",
              "1       [alternative energy, cars, climate change, cul...\n",
              "2       [computers, entertainment, interface design, m...\n",
              "3       [MacArthur grant, activism, business, cities, ...\n",
              "4       [Africa, Asia, Google, demo, economics, global...\n",
              "                              ...                        \n",
              "2545    [TED Residency, United States, community, fami...\n",
              "2546    [Mars, South America, TED Fellows, astrobiolog...\n",
              "2547    [AI, ants, fish, future, innovation, insects, ...\n",
              "2548    [Internet, TEDx, United States, community, com...\n",
              "2549    [cities, design, future, infrastructure, play,...\n",
              "Name: tags, Length: 2544, dtype: object"
            ]
          },
          "metadata": {},
          "execution_count": 116
        }
      ]
    },
    {
      "cell_type": "markdown",
      "metadata": {
        "id": "_mH16l09JbIR"
      },
      "source": [
        "## Splitting data into train and test sets"
      ]
    },
    {
      "cell_type": "code",
      "metadata": {
        "id": "E42MGgzXOGNf"
      },
      "source": [
        "from sklearn.metrics import accuracy_score\n",
        "from sklearn.model_selection import train_test_split\n",
        "\n",
        "X = one_hot_vectors\n",
        "y = ted_main['tags'].apply(lambda x: 'technology' in x)\n",
        "\n",
        "X_train, X_test, y_train, y_test = train_test_split(X, y, test_size=0.3)"
      ],
      "execution_count": null,
      "outputs": []
    },
    {
      "cell_type": "code",
      "metadata": {
        "id": "nJ9fq3jbH1Fw",
        "colab": {
          "base_uri": "https://localhost:8080/"
        },
        "outputId": "5887bdb0-ab50-4c7c-b2d7-373dbb1edfa1"
      },
      "source": [
        "len(X_train), len(X_test)"
      ],
      "execution_count": null,
      "outputs": [
        {
          "output_type": "execute_result",
          "data": {
            "text/plain": [
              "(1780, 764)"
            ]
          },
          "metadata": {},
          "execution_count": 118
        }
      ]
    },
    {
      "cell_type": "code",
      "metadata": {
        "id": "1rkm0TiAIBqu",
        "colab": {
          "base_uri": "https://localhost:8080/"
        },
        "outputId": "242335e7-8801-4999-a600-abce8d75ccbb"
      },
      "source": [
        "y.value_counts()"
      ],
      "execution_count": null,
      "outputs": [
        {
          "output_type": "execute_result",
          "data": {
            "text/plain": [
              "False    1821\n",
              "True      723\n",
              "Name: tags, dtype: int64"
            ]
          },
          "metadata": {},
          "execution_count": 119
        }
      ]
    },
    {
      "cell_type": "code",
      "metadata": {
        "colab": {
          "base_uri": "https://localhost:8080/"
        },
        "id": "DdakuGJe91wt",
        "outputId": "4f37d68a-6370-498e-d547-7e5cf34ec22a"
      },
      "source": [
        "y_train.value_counts()"
      ],
      "execution_count": null,
      "outputs": [
        {
          "output_type": "execute_result",
          "data": {
            "text/plain": [
              "False    1256\n",
              "True      524\n",
              "Name: tags, dtype: int64"
            ]
          },
          "metadata": {},
          "execution_count": 120
        }
      ]
    },
    {
      "cell_type": "code",
      "metadata": {
        "colab": {
          "base_uri": "https://localhost:8080/"
        },
        "id": "evQjiJFE95ZX",
        "outputId": "766136e6-92d6-4d99-d354-1e616bbcc3f9"
      },
      "source": [
        "y_test.value_counts()"
      ],
      "execution_count": null,
      "outputs": [
        {
          "output_type": "execute_result",
          "data": {
            "text/plain": [
              "False    565\n",
              "True     199\n",
              "Name: tags, dtype: int64"
            ]
          },
          "metadata": {},
          "execution_count": 121
        }
      ]
    },
    {
      "cell_type": "markdown",
      "metadata": {
        "id": "qXJGOQXUJkCy"
      },
      "source": [
        "## Importing a logistic regression classifier and using it to predict whether the talk has the Technology tag"
      ]
    },
    {
      "cell_type": "code",
      "metadata": {
        "id": "243_tQswaMlx",
        "colab": {
          "base_uri": "https://localhost:8080/"
        },
        "outputId": "beb8d790-5841-4dae-8faa-201d704e89d8"
      },
      "source": [
        "from sklearn.linear_model import LogisticRegression\n",
        "\n",
        "clf = LogisticRegression()\n",
        "clf.fit(X_train, y_train)\n",
        "preds = clf.predict(X_test)\n",
        "\n",
        "print(\"Predicting if the talk is related to Technology using a Logistic Regression classifier:\")\n",
        "print(\"\\nThe classifier's accuracy is... *drum roll*\\n\\n%s percent!\\n\" % round(100*accuracy_score(y_test, preds), 2))"
      ],
      "execution_count": null,
      "outputs": [
        {
          "output_type": "stream",
          "name": "stdout",
          "text": [
            "Predicting if the talk is related to Technology using a Logistic Regression classifier:\n",
            "\n",
            "The classifier's accuracy is... *drum roll*\n",
            "\n",
            "76.05 percent!\n",
            "\n"
          ]
        }
      ]
    },
    {
      "cell_type": "code",
      "metadata": {
        "id": "MXF8utEw_UFC"
      },
      "source": [
        "LogisticRegression?"
      ],
      "execution_count": null,
      "outputs": []
    },
    {
      "cell_type": "code",
      "metadata": {
        "id": "azaeJuRcIwKp"
      },
      "source": [
        "accuracy_score?"
      ],
      "execution_count": null,
      "outputs": []
    },
    {
      "cell_type": "code",
      "metadata": {
        "colab": {
          "base_uri": "https://localhost:8080/"
        },
        "id": "_q7coKYAUnJd",
        "outputId": "fa99af4b-5083-4c96-b634-bcd0d487369f"
      },
      "source": [
        "accuracy_score(y_test, preds)"
      ],
      "execution_count": null,
      "outputs": [
        {
          "output_type": "execute_result",
          "data": {
            "text/plain": [
              "0.7604712041884817"
            ]
          },
          "metadata": {},
          "execution_count": 123
        }
      ]
    },
    {
      "cell_type": "code",
      "metadata": {
        "id": "T8PCifRN9VdE"
      },
      "source": [
        "from sklearn.metrics import classification_report"
      ],
      "execution_count": null,
      "outputs": []
    },
    {
      "cell_type": "code",
      "metadata": {
        "id": "YfeFau6V9YA1",
        "colab": {
          "base_uri": "https://localhost:8080/"
        },
        "outputId": "64c5e8e0-173e-4b66-8ed2-5ce2efd341ce"
      },
      "source": [
        "print(classification_report(y_test, preds))"
      ],
      "execution_count": null,
      "outputs": [
        {
          "output_type": "stream",
          "name": "stdout",
          "text": [
            "              precision    recall  f1-score   support\n",
            "\n",
            "       False       0.76      0.99      0.86       565\n",
            "        True       0.77      0.12      0.20       199\n",
            "\n",
            "    accuracy                           0.76       764\n",
            "   macro avg       0.76      0.55      0.53       764\n",
            "weighted avg       0.76      0.76      0.69       764\n",
            "\n"
          ]
        }
      ]
    },
    {
      "cell_type": "code",
      "metadata": {
        "id": "vtuX3F8Y-5LS"
      },
      "source": [
        "classification_report?"
      ],
      "execution_count": null,
      "outputs": []
    },
    {
      "cell_type": "markdown",
      "metadata": {
        "id": "cJKRyAhFJwtx"
      },
      "source": [
        "## Importing a decision tree classifier and using it to predict whether the talk has the Technology tag"
      ]
    },
    {
      "cell_type": "code",
      "metadata": {
        "id": "O1glOTtfbDlI",
        "colab": {
          "base_uri": "https://localhost:8080/"
        },
        "outputId": "4728c573-5c39-443a-994b-8a3ad0dc0f8f"
      },
      "source": [
        "from sklearn.tree import DecisionTreeClassifier\n",
        "\n",
        "clf2 = DecisionTreeClassifier()\n",
        "clf2.fit(X_train, y_train)\n",
        "preds = clf2.predict(X_test)\n",
        "\n",
        "print(\"Predicting if the talk is related to Technology using a Logistic Regression classifier:\")\n",
        "# print(classification_report(y_test, preds))\n",
        "print(\"\\nThe classifier's accuracy is... *drum roll*\\n\\n%s percent!\\n\" % round(100*accuracy_score(y_test, preds), 2))"
      ],
      "execution_count": null,
      "outputs": [
        {
          "output_type": "stream",
          "name": "stdout",
          "text": [
            "Predicting if the talk is related to Technology using a Logistic Regression classifier:\n",
            "\n",
            "The classifier's accuracy is... *drum roll*\n",
            "\n",
            "75.13 percent!\n",
            "\n"
          ]
        }
      ]
    },
    {
      "cell_type": "code",
      "metadata": {
        "id": "81w2Qpmc9O1B"
      },
      "source": [],
      "execution_count": null,
      "outputs": []
    }
  ]
}